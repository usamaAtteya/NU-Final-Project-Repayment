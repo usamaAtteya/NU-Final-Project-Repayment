{
 "cells": [
  {
   "cell_type": "code",
   "execution_count": 112,
   "metadata": {},
   "outputs": [],
   "source": [
    "# importing and configering libs"
   ]
  },
  {
   "cell_type": "code",
   "execution_count": 113,
   "metadata": {},
   "outputs": [],
   "source": [
    "import pandas as pd\n",
    "import numpy as np\n",
    "from sklearn.pipeline import Pipeline\n",
    "from sklearn.compose import ColumnTransformer\n",
    "from sklearn.preprocessing import StandardScaler, OneHotEncoder, LabelEncoder\n",
    "from sklearn.model_selection import train_test_split, cross_validate, cross_val_score, GridSearchCV\n",
    "from sklearn.linear_model import LinearRegression\n",
    "from sklearn import metrics\n",
    "from sklearn.metrics import r2_score\n",
    "\n",
    "pd.set_option('display.max_columns',2000) # show all columns in jupyter\n",
    "pd.set_option('display.max_rows', 100) # display 100 at least rows"
   ]
  },
  {
   "cell_type": "code",
   "execution_count": 114,
   "metadata": {},
   "outputs": [],
   "source": [
    "# Loading the data"
   ]
  },
  {
   "cell_type": "code",
   "execution_count": 115,
   "metadata": {},
   "outputs": [
    {
     "name": "stderr",
     "output_type": "stream",
     "text": [
      "F:\\Anaconda3\\lib\\site-packages\\IPython\\core\\interactiveshell.py:3063: DtypeWarning: Columns (1606) have mixed types.Specify dtype option on import or set low_memory=False.\n",
      "  interactivity=interactivity, compiler=compiler, result=result)\n"
     ]
    }
   ],
   "source": [
    "colsToLoad =[\"INSTNM\",\"ADM_RATE\",\"ADM_RATE_ALL\",\"ACTCMMID\",\"ACTENMID\",\"ACTMTMID\",\"ACTWRMID\",\"SAT_AVG\",\"SAT_AVG_ALL\",\"SATMTMID\",\"UGDS\",\"HIGHDEG\", \"CONTROL\", \"TUITFTE\", \"INEXPFTE\", \"AVGFACSAL\", \"COSTT4_P\",\n",
    "             \"COSTT4_A\", \"PCTFLOAN\", \"PCTPELL\", \"COMP_ORIG_YR2_RT\",\"UGDS_WHITE\",\"UGDS_BLACK\",\"UGDS_HISP\",\"UGDS_ASIAN\",\"UGDS_AIAN\",\"UGDS_NHPI\",\"UGDS_2MOR\",\"UGDS_NRA\",\"UGDS_UNKN\",\"PPTUG_EF\",\"COSTT4_A\",\"TUITIONFEE_IN\",\"TUITIONFEE_OUT\",\"TUITIONFEE_PROG\",\"TUITFTE\",\"AVGFACSAL\",\"DEATH_YR3_RT\",\"COMP_ORIG_YR3_RT\",\"LOAN_DEATH_YR3_RT\",\"LOAN_COMP_ORIG_YR3_RT\",\"DEATH_YR4_RT\",\"COMP_ORIG_YR4_RT\",\"AGE_ENTRY\",\"COUNT_NWNE_P10\",\"COUNT_WNE_P10\",\"MN_EARN_WNE_P10\",\"MD_EARN_WNE_P10\",\"COMPL_RPY_1YR_RT\"]\n",
    "\n",
    "# As each data row represent a specific institute , So we can use institute name as an index\n",
    "index_feature = \"INSTNM\"\n",
    "\n",
    "scoreCardDF = pd.read_csv(\"I:\\\\NU Project\\\\Git-Repo\\\\Data\\\\MERGED2013_14_PP.csv\", index_col=index_feature, usecols=colsToLoad)\n",
    "# ignore \"MEDIAN_HH_INC\" column, as 0 non-null float64"
   ]
  },
  {
   "cell_type": "code",
   "execution_count": 116,
   "metadata": {},
   "outputs": [],
   "source": [
    "# General exploration of data "
   ]
  },
  {
   "cell_type": "code",
   "execution_count": 117,
   "metadata": {
    "scrolled": true
   },
   "outputs": [
    {
     "data": {
      "text/html": [
       "<div>\n",
       "<style scoped>\n",
       "    .dataframe tbody tr th:only-of-type {\n",
       "        vertical-align: middle;\n",
       "    }\n",
       "\n",
       "    .dataframe tbody tr th {\n",
       "        vertical-align: top;\n",
       "    }\n",
       "\n",
       "    .dataframe thead th {\n",
       "        text-align: right;\n",
       "    }\n",
       "</style>\n",
       "<table border=\"1\" class=\"dataframe\">\n",
       "  <thead>\n",
       "    <tr style=\"text-align: right;\">\n",
       "      <th></th>\n",
       "      <th>HIGHDEG</th>\n",
       "      <th>CONTROL</th>\n",
       "      <th>ADM_RATE</th>\n",
       "      <th>ADM_RATE_ALL</th>\n",
       "      <th>SATMTMID</th>\n",
       "      <th>ACTCMMID</th>\n",
       "      <th>ACTENMID</th>\n",
       "      <th>ACTMTMID</th>\n",
       "      <th>ACTWRMID</th>\n",
       "      <th>SAT_AVG</th>\n",
       "      <th>SAT_AVG_ALL</th>\n",
       "      <th>UGDS</th>\n",
       "      <th>UGDS_WHITE</th>\n",
       "      <th>UGDS_BLACK</th>\n",
       "      <th>UGDS_HISP</th>\n",
       "      <th>UGDS_ASIAN</th>\n",
       "      <th>UGDS_AIAN</th>\n",
       "      <th>UGDS_NHPI</th>\n",
       "      <th>UGDS_2MOR</th>\n",
       "      <th>UGDS_NRA</th>\n",
       "      <th>UGDS_UNKN</th>\n",
       "      <th>PPTUG_EF</th>\n",
       "      <th>COSTT4_A</th>\n",
       "      <th>COSTT4_P</th>\n",
       "      <th>TUITIONFEE_IN</th>\n",
       "      <th>TUITIONFEE_OUT</th>\n",
       "      <th>TUITIONFEE_PROG</th>\n",
       "      <th>TUITFTE</th>\n",
       "      <th>INEXPFTE</th>\n",
       "      <th>AVGFACSAL</th>\n",
       "      <th>PCTPELL</th>\n",
       "      <th>PCTFLOAN</th>\n",
       "      <th>COMP_ORIG_YR2_RT</th>\n",
       "      <th>DEATH_YR3_RT</th>\n",
       "      <th>COMP_ORIG_YR3_RT</th>\n",
       "      <th>LOAN_DEATH_YR3_RT</th>\n",
       "      <th>LOAN_COMP_ORIG_YR3_RT</th>\n",
       "      <th>DEATH_YR4_RT</th>\n",
       "      <th>COMP_ORIG_YR4_RT</th>\n",
       "      <th>COMPL_RPY_1YR_RT</th>\n",
       "      <th>AGE_ENTRY</th>\n",
       "      <th>COUNT_NWNE_P10</th>\n",
       "      <th>COUNT_WNE_P10</th>\n",
       "      <th>MN_EARN_WNE_P10</th>\n",
       "      <th>MD_EARN_WNE_P10</th>\n",
       "    </tr>\n",
       "    <tr>\n",
       "      <th>INSTNM</th>\n",
       "      <th></th>\n",
       "      <th></th>\n",
       "      <th></th>\n",
       "      <th></th>\n",
       "      <th></th>\n",
       "      <th></th>\n",
       "      <th></th>\n",
       "      <th></th>\n",
       "      <th></th>\n",
       "      <th></th>\n",
       "      <th></th>\n",
       "      <th></th>\n",
       "      <th></th>\n",
       "      <th></th>\n",
       "      <th></th>\n",
       "      <th></th>\n",
       "      <th></th>\n",
       "      <th></th>\n",
       "      <th></th>\n",
       "      <th></th>\n",
       "      <th></th>\n",
       "      <th></th>\n",
       "      <th></th>\n",
       "      <th></th>\n",
       "      <th></th>\n",
       "      <th></th>\n",
       "      <th></th>\n",
       "      <th></th>\n",
       "      <th></th>\n",
       "      <th></th>\n",
       "      <th></th>\n",
       "      <th></th>\n",
       "      <th></th>\n",
       "      <th></th>\n",
       "      <th></th>\n",
       "      <th></th>\n",
       "      <th></th>\n",
       "      <th></th>\n",
       "      <th></th>\n",
       "      <th></th>\n",
       "      <th></th>\n",
       "      <th></th>\n",
       "      <th></th>\n",
       "      <th></th>\n",
       "      <th></th>\n",
       "    </tr>\n",
       "  </thead>\n",
       "  <tbody>\n",
       "    <tr>\n",
       "      <th>Alabama A &amp; M University</th>\n",
       "      <td>4</td>\n",
       "      <td>1</td>\n",
       "      <td>0.8989</td>\n",
       "      <td>0.8989</td>\n",
       "      <td>400.0</td>\n",
       "      <td>17.0</td>\n",
       "      <td>17.0</td>\n",
       "      <td>17.0</td>\n",
       "      <td>NaN</td>\n",
       "      <td>823.0</td>\n",
       "      <td>823.0</td>\n",
       "      <td>4051.0</td>\n",
       "      <td>0.0279</td>\n",
       "      <td>0.9501</td>\n",
       "      <td>0.0089</td>\n",
       "      <td>0.0022</td>\n",
       "      <td>0.0012</td>\n",
       "      <td>0.0010</td>\n",
       "      <td>0.0000</td>\n",
       "      <td>0.0002</td>\n",
       "      <td>0.0084</td>\n",
       "      <td>0.0622</td>\n",
       "      <td>18888.0</td>\n",
       "      <td>NaN</td>\n",
       "      <td>7182.0</td>\n",
       "      <td>12774.0</td>\n",
       "      <td>NaN</td>\n",
       "      <td>9063.0</td>\n",
       "      <td>7459.0</td>\n",
       "      <td>7079.0</td>\n",
       "      <td>0.7115</td>\n",
       "      <td>0.8204</td>\n",
       "      <td>0.034958602</td>\n",
       "      <td>PrivacySuppressed</td>\n",
       "      <td>0.097451274</td>\n",
       "      <td>PrivacySuppressed</td>\n",
       "      <td>0.087332809</td>\n",
       "      <td>PrivacySuppressed</td>\n",
       "      <td>0.241845664</td>\n",
       "      <td>0.3075801749</td>\n",
       "      <td>20.540410133</td>\n",
       "      <td>246</td>\n",
       "      <td>1741</td>\n",
       "      <td>34300</td>\n",
       "      <td>29900</td>\n",
       "    </tr>\n",
       "    <tr>\n",
       "      <th>University of Alabama at Birmingham</th>\n",
       "      <td>4</td>\n",
       "      <td>1</td>\n",
       "      <td>0.8673</td>\n",
       "      <td>0.8673</td>\n",
       "      <td>585.0</td>\n",
       "      <td>25.0</td>\n",
       "      <td>26.0</td>\n",
       "      <td>23.0</td>\n",
       "      <td>NaN</td>\n",
       "      <td>1146.0</td>\n",
       "      <td>1146.0</td>\n",
       "      <td>11200.0</td>\n",
       "      <td>0.5987</td>\n",
       "      <td>0.2590</td>\n",
       "      <td>0.0258</td>\n",
       "      <td>0.0518</td>\n",
       "      <td>0.0026</td>\n",
       "      <td>0.0007</td>\n",
       "      <td>0.0344</td>\n",
       "      <td>0.0140</td>\n",
       "      <td>0.0130</td>\n",
       "      <td>0.2579</td>\n",
       "      <td>19990.0</td>\n",
       "      <td>NaN</td>\n",
       "      <td>7206.0</td>\n",
       "      <td>16398.0</td>\n",
       "      <td>NaN</td>\n",
       "      <td>9033.0</td>\n",
       "      <td>17208.0</td>\n",
       "      <td>10170.0</td>\n",
       "      <td>0.3505</td>\n",
       "      <td>0.5397</td>\n",
       "      <td>0.150529204</td>\n",
       "      <td>PrivacySuppressed</td>\n",
       "      <td>0.333945628</td>\n",
       "      <td>PrivacySuppressed</td>\n",
       "      <td>0.332664527</td>\n",
       "      <td>PrivacySuppressed</td>\n",
       "      <td>0.422933112</td>\n",
       "      <td>0.578436134</td>\n",
       "      <td>23.45881476</td>\n",
       "      <td>470</td>\n",
       "      <td>3474</td>\n",
       "      <td>46400</td>\n",
       "      <td>40200</td>\n",
       "    </tr>\n",
       "    <tr>\n",
       "      <th>Amridge University</th>\n",
       "      <td>4</td>\n",
       "      <td>2</td>\n",
       "      <td>NaN</td>\n",
       "      <td>NaN</td>\n",
       "      <td>NaN</td>\n",
       "      <td>NaN</td>\n",
       "      <td>NaN</td>\n",
       "      <td>NaN</td>\n",
       "      <td>NaN</td>\n",
       "      <td>NaN</td>\n",
       "      <td>NaN</td>\n",
       "      <td>322.0</td>\n",
       "      <td>0.2919</td>\n",
       "      <td>0.4224</td>\n",
       "      <td>0.0093</td>\n",
       "      <td>0.0031</td>\n",
       "      <td>0.0031</td>\n",
       "      <td>0.0031</td>\n",
       "      <td>0.0000</td>\n",
       "      <td>0.0000</td>\n",
       "      <td>0.2671</td>\n",
       "      <td>0.3727</td>\n",
       "      <td>12300.0</td>\n",
       "      <td>NaN</td>\n",
       "      <td>6870.0</td>\n",
       "      <td>6870.0</td>\n",
       "      <td>NaN</td>\n",
       "      <td>12057.0</td>\n",
       "      <td>5123.0</td>\n",
       "      <td>3849.0</td>\n",
       "      <td>0.6839</td>\n",
       "      <td>0.7629</td>\n",
       "      <td>0.058823529</td>\n",
       "      <td>PrivacySuppressed</td>\n",
       "      <td>0.161849711</td>\n",
       "      <td>PrivacySuppressed</td>\n",
       "      <td>PrivacySuppressed</td>\n",
       "      <td>PrivacySuppressed</td>\n",
       "      <td>0.209580838</td>\n",
       "      <td>0.3859649123</td>\n",
       "      <td>33.925581395</td>\n",
       "      <td>57</td>\n",
       "      <td>168</td>\n",
       "      <td>46100</td>\n",
       "      <td>40100</td>\n",
       "    </tr>\n",
       "    <tr>\n",
       "      <th>University of Alabama in Huntsville</th>\n",
       "      <td>4</td>\n",
       "      <td>1</td>\n",
       "      <td>0.8062</td>\n",
       "      <td>0.8062</td>\n",
       "      <td>580.0</td>\n",
       "      <td>26.0</td>\n",
       "      <td>26.0</td>\n",
       "      <td>25.0</td>\n",
       "      <td>NaN</td>\n",
       "      <td>1180.0</td>\n",
       "      <td>1180.0</td>\n",
       "      <td>5525.0</td>\n",
       "      <td>0.7012</td>\n",
       "      <td>0.1310</td>\n",
       "      <td>0.0338</td>\n",
       "      <td>0.0364</td>\n",
       "      <td>0.0145</td>\n",
       "      <td>0.0002</td>\n",
       "      <td>0.0161</td>\n",
       "      <td>0.0329</td>\n",
       "      <td>0.0338</td>\n",
       "      <td>0.2395</td>\n",
       "      <td>20306.0</td>\n",
       "      <td>NaN</td>\n",
       "      <td>9192.0</td>\n",
       "      <td>21506.0</td>\n",
       "      <td>NaN</td>\n",
       "      <td>8322.0</td>\n",
       "      <td>9352.0</td>\n",
       "      <td>9341.0</td>\n",
       "      <td>0.3281</td>\n",
       "      <td>0.4728</td>\n",
       "      <td>0.157939189</td>\n",
       "      <td>PrivacySuppressed</td>\n",
       "      <td>0.284602076</td>\n",
       "      <td>PrivacySuppressed</td>\n",
       "      <td>0.283109405</td>\n",
       "      <td>PrivacySuppressed</td>\n",
       "      <td>0.393046107</td>\n",
       "      <td>0.639589169</td>\n",
       "      <td>24.10127697</td>\n",
       "      <td>188</td>\n",
       "      <td>1361</td>\n",
       "      <td>50500</td>\n",
       "      <td>45600</td>\n",
       "    </tr>\n",
       "    <tr>\n",
       "      <th>Alabama State University</th>\n",
       "      <td>4</td>\n",
       "      <td>1</td>\n",
       "      <td>0.5125</td>\n",
       "      <td>0.5125</td>\n",
       "      <td>425.0</td>\n",
       "      <td>17.0</td>\n",
       "      <td>17.0</td>\n",
       "      <td>17.0</td>\n",
       "      <td>NaN</td>\n",
       "      <td>830.0</td>\n",
       "      <td>830.0</td>\n",
       "      <td>5354.0</td>\n",
       "      <td>0.0161</td>\n",
       "      <td>0.9285</td>\n",
       "      <td>0.0114</td>\n",
       "      <td>0.0015</td>\n",
       "      <td>0.0009</td>\n",
       "      <td>0.0007</td>\n",
       "      <td>0.0064</td>\n",
       "      <td>0.0207</td>\n",
       "      <td>0.0138</td>\n",
       "      <td>0.0902</td>\n",
       "      <td>17400.0</td>\n",
       "      <td>NaN</td>\n",
       "      <td>8720.0</td>\n",
       "      <td>15656.0</td>\n",
       "      <td>NaN</td>\n",
       "      <td>7813.0</td>\n",
       "      <td>7393.0</td>\n",
       "      <td>6557.0</td>\n",
       "      <td>0.8265</td>\n",
       "      <td>0.8735</td>\n",
       "      <td>0.028949025</td>\n",
       "      <td>PrivacySuppressed</td>\n",
       "      <td>0.115574348</td>\n",
       "      <td>PrivacySuppressed</td>\n",
       "      <td>0.10949464</td>\n",
       "      <td>PrivacySuppressed</td>\n",
       "      <td>0.187935035</td>\n",
       "      <td>0.2118863049</td>\n",
       "      <td>20.648575305</td>\n",
       "      <td>285</td>\n",
       "      <td>1977</td>\n",
       "      <td>29500</td>\n",
       "      <td>26700</td>\n",
       "    </tr>\n",
       "  </tbody>\n",
       "</table>\n",
       "</div>"
      ],
      "text/plain": [
       "                                     HIGHDEG  CONTROL  ADM_RATE  ADM_RATE_ALL  \\\n",
       "INSTNM                                                                          \n",
       "Alabama A & M University                   4        1    0.8989        0.8989   \n",
       "University of Alabama at Birmingham        4        1    0.8673        0.8673   \n",
       "Amridge University                         4        2       NaN           NaN   \n",
       "University of Alabama in Huntsville        4        1    0.8062        0.8062   \n",
       "Alabama State University                   4        1    0.5125        0.5125   \n",
       "\n",
       "                                     SATMTMID  ACTCMMID  ACTENMID  ACTMTMID  \\\n",
       "INSTNM                                                                        \n",
       "Alabama A & M University                400.0      17.0      17.0      17.0   \n",
       "University of Alabama at Birmingham     585.0      25.0      26.0      23.0   \n",
       "Amridge University                        NaN       NaN       NaN       NaN   \n",
       "University of Alabama in Huntsville     580.0      26.0      26.0      25.0   \n",
       "Alabama State University                425.0      17.0      17.0      17.0   \n",
       "\n",
       "                                     ACTWRMID  SAT_AVG  SAT_AVG_ALL     UGDS  \\\n",
       "INSTNM                                                                         \n",
       "Alabama A & M University                  NaN    823.0        823.0   4051.0   \n",
       "University of Alabama at Birmingham       NaN   1146.0       1146.0  11200.0   \n",
       "Amridge University                        NaN      NaN          NaN    322.0   \n",
       "University of Alabama in Huntsville       NaN   1180.0       1180.0   5525.0   \n",
       "Alabama State University                  NaN    830.0        830.0   5354.0   \n",
       "\n",
       "                                     UGDS_WHITE  UGDS_BLACK  UGDS_HISP  \\\n",
       "INSTNM                                                                   \n",
       "Alabama A & M University                 0.0279      0.9501     0.0089   \n",
       "University of Alabama at Birmingham      0.5987      0.2590     0.0258   \n",
       "Amridge University                       0.2919      0.4224     0.0093   \n",
       "University of Alabama in Huntsville      0.7012      0.1310     0.0338   \n",
       "Alabama State University                 0.0161      0.9285     0.0114   \n",
       "\n",
       "                                     UGDS_ASIAN  UGDS_AIAN  UGDS_NHPI  \\\n",
       "INSTNM                                                                  \n",
       "Alabama A & M University                 0.0022     0.0012     0.0010   \n",
       "University of Alabama at Birmingham      0.0518     0.0026     0.0007   \n",
       "Amridge University                       0.0031     0.0031     0.0031   \n",
       "University of Alabama in Huntsville      0.0364     0.0145     0.0002   \n",
       "Alabama State University                 0.0015     0.0009     0.0007   \n",
       "\n",
       "                                     UGDS_2MOR  UGDS_NRA  UGDS_UNKN  PPTUG_EF  \\\n",
       "INSTNM                                                                          \n",
       "Alabama A & M University                0.0000    0.0002     0.0084    0.0622   \n",
       "University of Alabama at Birmingham     0.0344    0.0140     0.0130    0.2579   \n",
       "Amridge University                      0.0000    0.0000     0.2671    0.3727   \n",
       "University of Alabama in Huntsville     0.0161    0.0329     0.0338    0.2395   \n",
       "Alabama State University                0.0064    0.0207     0.0138    0.0902   \n",
       "\n",
       "                                     COSTT4_A  COSTT4_P  TUITIONFEE_IN  \\\n",
       "INSTNM                                                                   \n",
       "Alabama A & M University              18888.0       NaN         7182.0   \n",
       "University of Alabama at Birmingham   19990.0       NaN         7206.0   \n",
       "Amridge University                    12300.0       NaN         6870.0   \n",
       "University of Alabama in Huntsville   20306.0       NaN         9192.0   \n",
       "Alabama State University              17400.0       NaN         8720.0   \n",
       "\n",
       "                                     TUITIONFEE_OUT  TUITIONFEE_PROG  TUITFTE  \\\n",
       "INSTNM                                                                          \n",
       "Alabama A & M University                    12774.0              NaN   9063.0   \n",
       "University of Alabama at Birmingham         16398.0              NaN   9033.0   \n",
       "Amridge University                           6870.0              NaN  12057.0   \n",
       "University of Alabama in Huntsville         21506.0              NaN   8322.0   \n",
       "Alabama State University                    15656.0              NaN   7813.0   \n",
       "\n",
       "                                     INEXPFTE  AVGFACSAL  PCTPELL  PCTFLOAN  \\\n",
       "INSTNM                                                                        \n",
       "Alabama A & M University               7459.0     7079.0   0.7115    0.8204   \n",
       "University of Alabama at Birmingham   17208.0    10170.0   0.3505    0.5397   \n",
       "Amridge University                     5123.0     3849.0   0.6839    0.7629   \n",
       "University of Alabama in Huntsville    9352.0     9341.0   0.3281    0.4728   \n",
       "Alabama State University               7393.0     6557.0   0.8265    0.8735   \n",
       "\n",
       "                                    COMP_ORIG_YR2_RT       DEATH_YR3_RT  \\\n",
       "INSTNM                                                                    \n",
       "Alabama A & M University                 0.034958602  PrivacySuppressed   \n",
       "University of Alabama at Birmingham      0.150529204  PrivacySuppressed   \n",
       "Amridge University                       0.058823529  PrivacySuppressed   \n",
       "University of Alabama in Huntsville      0.157939189  PrivacySuppressed   \n",
       "Alabama State University                 0.028949025  PrivacySuppressed   \n",
       "\n",
       "                                    COMP_ORIG_YR3_RT  LOAN_DEATH_YR3_RT  \\\n",
       "INSTNM                                                                    \n",
       "Alabama A & M University                 0.097451274  PrivacySuppressed   \n",
       "University of Alabama at Birmingham      0.333945628  PrivacySuppressed   \n",
       "Amridge University                       0.161849711  PrivacySuppressed   \n",
       "University of Alabama in Huntsville      0.284602076  PrivacySuppressed   \n",
       "Alabama State University                 0.115574348  PrivacySuppressed   \n",
       "\n",
       "                                    LOAN_COMP_ORIG_YR3_RT       DEATH_YR4_RT  \\\n",
       "INSTNM                                                                         \n",
       "Alabama A & M University                      0.087332809  PrivacySuppressed   \n",
       "University of Alabama at Birmingham           0.332664527  PrivacySuppressed   \n",
       "Amridge University                      PrivacySuppressed  PrivacySuppressed   \n",
       "University of Alabama in Huntsville           0.283109405  PrivacySuppressed   \n",
       "Alabama State University                       0.10949464  PrivacySuppressed   \n",
       "\n",
       "                                    COMP_ORIG_YR4_RT COMPL_RPY_1YR_RT  \\\n",
       "INSTNM                                                                  \n",
       "Alabama A & M University                 0.241845664     0.3075801749   \n",
       "University of Alabama at Birmingham      0.422933112      0.578436134   \n",
       "Amridge University                       0.209580838     0.3859649123   \n",
       "University of Alabama in Huntsville      0.393046107      0.639589169   \n",
       "Alabama State University                 0.187935035     0.2118863049   \n",
       "\n",
       "                                        AGE_ENTRY COUNT_NWNE_P10  \\\n",
       "INSTNM                                                             \n",
       "Alabama A & M University             20.540410133            246   \n",
       "University of Alabama at Birmingham   23.45881476            470   \n",
       "Amridge University                   33.925581395             57   \n",
       "University of Alabama in Huntsville   24.10127697            188   \n",
       "Alabama State University             20.648575305            285   \n",
       "\n",
       "                                    COUNT_WNE_P10 MN_EARN_WNE_P10  \\\n",
       "INSTNM                                                              \n",
       "Alabama A & M University                     1741           34300   \n",
       "University of Alabama at Birmingham          3474           46400   \n",
       "Amridge University                            168           46100   \n",
       "University of Alabama in Huntsville          1361           50500   \n",
       "Alabama State University                     1977           29500   \n",
       "\n",
       "                                    MD_EARN_WNE_P10  \n",
       "INSTNM                                               \n",
       "Alabama A & M University                      29900  \n",
       "University of Alabama at Birmingham           40200  \n",
       "Amridge University                            40100  \n",
       "University of Alabama in Huntsville           45600  \n",
       "Alabama State University                      26700  "
      ]
     },
     "execution_count": 117,
     "metadata": {},
     "output_type": "execute_result"
    }
   ],
   "source": [
    "scoreCardDF.head()"
   ]
  },
  {
   "cell_type": "code",
   "execution_count": 118,
   "metadata": {},
   "outputs": [
    {
     "data": {
      "text/plain": [
       "(7804, 45)"
      ]
     },
     "execution_count": 118,
     "metadata": {},
     "output_type": "execute_result"
    }
   ],
   "source": [
    "scoreCardDF.shape"
   ]
  },
  {
   "cell_type": "code",
   "execution_count": 119,
   "metadata": {},
   "outputs": [
    {
     "name": "stdout",
     "output_type": "stream",
     "text": [
      "<class 'pandas.core.frame.DataFrame'>\n",
      "Index: 7804 entries, Alabama A & M University to Georgia Military College-Stone Mountain\n",
      "Data columns (total 45 columns):\n",
      " #   Column                 Non-Null Count  Dtype  \n",
      "---  ------                 --------------  -----  \n",
      " 0   HIGHDEG                7804 non-null   int64  \n",
      " 1   CONTROL                7804 non-null   int64  \n",
      " 2   ADM_RATE               2221 non-null   float64\n",
      " 3   ADM_RATE_ALL           2486 non-null   float64\n",
      " 4   SATMTMID               1317 non-null   float64\n",
      " 5   ACTCMMID               1344 non-null   float64\n",
      " 6   ACTENMID               1167 non-null   float64\n",
      " 7   ACTMTMID               1168 non-null   float64\n",
      " 8   ACTWRMID               300 non-null    float64\n",
      " 9   SAT_AVG                1422 non-null   float64\n",
      " 10  SAT_AVG_ALL            1532 non-null   float64\n",
      " 11  UGDS                   7091 non-null   float64\n",
      " 12  UGDS_WHITE             7091 non-null   float64\n",
      " 13  UGDS_BLACK             7091 non-null   float64\n",
      " 14  UGDS_HISP              7091 non-null   float64\n",
      " 15  UGDS_ASIAN             7091 non-null   float64\n",
      " 16  UGDS_AIAN              7091 non-null   float64\n",
      " 17  UGDS_NHPI              7091 non-null   float64\n",
      " 18  UGDS_2MOR              7091 non-null   float64\n",
      " 19  UGDS_NRA               7091 non-null   float64\n",
      " 20  UGDS_UNKN              7091 non-null   float64\n",
      " 21  PPTUG_EF               7072 non-null   float64\n",
      " 22  COSTT4_A               4139 non-null   float64\n",
      " 23  COSTT4_P               2543 non-null   float64\n",
      " 24  TUITIONFEE_IN          4506 non-null   float64\n",
      " 25  TUITIONFEE_OUT         4287 non-null   float64\n",
      " 26  TUITIONFEE_PROG        2748 non-null   float64\n",
      " 27  TUITFTE                7362 non-null   float64\n",
      " 28  INEXPFTE               7362 non-null   float64\n",
      " 29  AVGFACSAL              4654 non-null   float64\n",
      " 30  PCTPELL                7063 non-null   float64\n",
      " 31  PCTFLOAN               7063 non-null   float64\n",
      " 32  COMP_ORIG_YR2_RT       7597 non-null   object \n",
      " 33  DEATH_YR3_RT           7580 non-null   object \n",
      " 34  COMP_ORIG_YR3_RT       7580 non-null   object \n",
      " 35  LOAN_DEATH_YR3_RT      7580 non-null   object \n",
      " 36  LOAN_COMP_ORIG_YR3_RT  7580 non-null   object \n",
      " 37  DEATH_YR4_RT           7493 non-null   object \n",
      " 38  COMP_ORIG_YR4_RT       7493 non-null   object \n",
      " 39  COMPL_RPY_1YR_RT       7015 non-null   object \n",
      " 40  AGE_ENTRY              7630 non-null   object \n",
      " 41  COUNT_NWNE_P10         6999 non-null   object \n",
      " 42  COUNT_WNE_P10          6999 non-null   object \n",
      " 43  MN_EARN_WNE_P10        6999 non-null   object \n",
      " 44  MD_EARN_WNE_P10        6999 non-null   object \n",
      "dtypes: float64(30), int64(2), object(13)\n",
      "memory usage: 2.7+ MB\n"
     ]
    }
   ],
   "source": [
    "scoreCardDF.info()"
   ]
  },
  {
   "cell_type": "code",
   "execution_count": 120,
   "metadata": {},
   "outputs": [],
   "source": [
    "# Assuming that the output or target variable is COMPL_RPY_1YR_RT\n",
    "target_feature = \"COMPL_RPY_1YR_RT\""
   ]
  },
  {
   "cell_type": "code",
   "execution_count": 121,
   "metadata": {},
   "outputs": [
    {
     "data": {
      "text/plain": [
       "HIGHDEG                     0\n",
       "CONTROL                     0\n",
       "ADM_RATE                 5583\n",
       "ADM_RATE_ALL             5318\n",
       "SATMTMID                 6487\n",
       "ACTCMMID                 6460\n",
       "ACTENMID                 6637\n",
       "ACTMTMID                 6636\n",
       "ACTWRMID                 7504\n",
       "SAT_AVG                  6382\n",
       "SAT_AVG_ALL              6272\n",
       "UGDS                      713\n",
       "UGDS_WHITE                713\n",
       "UGDS_BLACK                713\n",
       "UGDS_HISP                 713\n",
       "UGDS_ASIAN                713\n",
       "UGDS_AIAN                 713\n",
       "UGDS_NHPI                 713\n",
       "UGDS_2MOR                 713\n",
       "UGDS_NRA                  713\n",
       "UGDS_UNKN                 713\n",
       "PPTUG_EF                  732\n",
       "COSTT4_A                 3665\n",
       "COSTT4_P                 5261\n",
       "TUITIONFEE_IN            3298\n",
       "TUITIONFEE_OUT           3517\n",
       "TUITIONFEE_PROG          5056\n",
       "TUITFTE                   442\n",
       "INEXPFTE                  442\n",
       "AVGFACSAL                3150\n",
       "PCTPELL                   741\n",
       "PCTFLOAN                  741\n",
       "COMP_ORIG_YR2_RT          207\n",
       "DEATH_YR3_RT              224\n",
       "COMP_ORIG_YR3_RT          224\n",
       "LOAN_DEATH_YR3_RT         224\n",
       "LOAN_COMP_ORIG_YR3_RT     224\n",
       "DEATH_YR4_RT              311\n",
       "COMP_ORIG_YR4_RT          311\n",
       "COMPL_RPY_1YR_RT          789\n",
       "AGE_ENTRY                 174\n",
       "COUNT_NWNE_P10            805\n",
       "COUNT_WNE_P10             805\n",
       "MN_EARN_WNE_P10           805\n",
       "MD_EARN_WNE_P10           805\n",
       "dtype: int64"
      ]
     },
     "execution_count": 121,
     "metadata": {},
     "output_type": "execute_result"
    }
   ],
   "source": [
    "# get the number of null values at each column to check if target variable COMPL_RPY_1YR_RT has null at any rows or not\n",
    "scoreCardDF.isnull().sum()"
   ]
  },
  {
   "cell_type": "code",
   "execution_count": 122,
   "metadata": {},
   "outputs": [],
   "source": [
    "# Data preprocessing"
   ]
  },
  {
   "cell_type": "code",
   "execution_count": 123,
   "metadata": {},
   "outputs": [
    {
     "data": {
      "text/plain": [
       "(5632, 45)"
      ]
     },
     "execution_count": 123,
     "metadata": {},
     "output_type": "execute_result"
    }
   ],
   "source": [
    "# drop all rows that do not have a value for out target variable\n",
    "scoreCardDF = scoreCardDF[(scoreCardDF[target_feature] != \"PrivacySuppressed\")\\\n",
    "                          & (scoreCardDF[target_feature] != np.nan)\\\n",
    "                          & (scoreCardDF[target_feature] != None)\\\n",
    "                          &(scoreCardDF[target_feature].notna())]\n",
    "scoreCardDF.shape"
   ]
  },
  {
   "cell_type": "code",
   "execution_count": 124,
   "metadata": {},
   "outputs": [],
   "source": [
    "# Extract input features by exluding the index feature and target output feature from the loadd features\n",
    "input_features =  [f for f in colsToLoad if f not in [index_feature,target_feature]] \n",
    "# Specify categorial features columns\n",
    "cat_columns = [\"HIGHDEG\",\"CONTROL\"]\n",
    "# Extract input float features by excluding categorial features\n",
    "float_columns = [f for f in input_features if f not in cat_columns]"
   ]
  },
  {
   "cell_type": "code",
   "execution_count": 125,
   "metadata": {},
   "outputs": [],
   "source": [
    "# As some columns have PrivacySuppressed as a value to indicate that the value is missing/hidden due to data privacy\n",
    "# we define function that loop across all columns (features) to replace \"PrivacySuppressed\" value with null/nan \n",
    "# and convert it into float type\n",
    "def cleanPrivacySuppressed(dataFrame):\n",
    "    for colName in dataFrame.columns:\n",
    "        dataFrame[colName] = dataFrame[colName].replace(\"PrivacySuppressed\", np.nan)\n",
    "        dataFrame[colName] = dataFrame[colName].astype(float)\n",
    "    return dataFrame\n",
    "\n",
    "# Build an estimator for this function to be used by ML pipeline\n",
    "from sklearn.base import BaseEstimator, TransformerMixin\n",
    "class PrivacySuppressedHandler(BaseEstimator, TransformerMixin):\n",
    "    def fit(self, X, y=None):\n",
    "        return self  \n",
    "    def transform(self, X, y=None):\n",
    "        return cleanPrivacySuppressed(X)"
   ]
  },
  {
   "cell_type": "code",
   "execution_count": 126,
   "metadata": {},
   "outputs": [],
   "source": [
    "# pipeline for all float columns\n",
    "# it is a separate pipline, because there is a potential to add more preprocessing steps based on model evaluation\n",
    "float_pipeline = ColumnTransformer([(\"privacy_suppressed_handler\", PrivacySuppressedHandler(),float_columns)])"
   ]
  },
  {
   "cell_type": "code",
   "execution_count": 127,
   "metadata": {},
   "outputs": [],
   "source": [
    "# pipeline for all Categoricol (discrete) columns\n",
    "from sklearn.preprocessing import OneHotEncoder\n",
    "cat_pipeline = ColumnTransformer([(\"hot_encoder\",OneHotEncoder(sparse=False),cat_columns)])"
   ]
  },
  {
   "cell_type": "code",
   "execution_count": 128,
   "metadata": {},
   "outputs": [],
   "source": [
    "# Build a full pipeline for preprocessing by merge these two pipelines in one\n",
    "from sklearn.pipeline import FeatureUnion\n",
    "full_pipeline = FeatureUnion(transformer_list=[(\"float_pipeline\", float_pipeline),(\"cat_pipeline\", cat_pipeline)])"
   ]
  },
  {
   "cell_type": "code",
   "execution_count": 129,
   "metadata": {},
   "outputs": [],
   "source": [
    "# Execute the preprocessing pipeline of the input features\n",
    "processed_input_features = full_pipeline.fit_transform(scoreCardDF)\n",
    "processed_input_features = pd.DataFrame(processed_input_features)\n",
    "target_output = scoreCardDF[target_feature]"
   ]
  },
  {
   "cell_type": "code",
   "execution_count": 130,
   "metadata": {},
   "outputs": [],
   "source": [
    "# Split the data into training and test sets with ration 80 / 20\n",
    "input_train, input_test, output_train, output_test =\\\n",
    "    train_test_split(processed_input_features, target_output.values, test_size=0.2, random_state=0)"
   ]
  },
  {
   "cell_type": "code",
   "execution_count": 131,
   "metadata": {},
   "outputs": [],
   "source": [
    "# deine function to impute/replace null values with mean value across all columns of training datafram using scikit learn imputer\n",
    "from sklearn.impute import SimpleImputer\n",
    "def imputeNullWithMean(dataFrame):\n",
    "    imputer = SimpleImputer(strategy='mean')\n",
    "    imputed_data = pd.DataFrame(imputer.fit_transform(dataFrame), columns=dataFrame.columns)\n",
    "    return imputed_data , imputer"
   ]
  },
  {
   "cell_type": "code",
   "execution_count": 132,
   "metadata": {},
   "outputs": [],
   "source": [
    "# imputation using mean value\n",
    "input_train ,imputer = imputeNullWithMean(input_train)\n",
    "input_test = imputer.fit_transform(input_test)\n",
    "#input_train.isnull().sum()"
   ]
  },
  {
   "cell_type": "code",
   "execution_count": 133,
   "metadata": {},
   "outputs": [
    {
     "data": {
      "text/plain": [
       "LinearRegression(copy_X=True, fit_intercept=True, n_jobs=None, normalize=False)"
      ]
     },
     "execution_count": 133,
     "metadata": {},
     "output_type": "execute_result"
    }
   ],
   "source": [
    "# Training the algorithm (Multiple Linear Regression)\n",
    "regressor = LinearRegression()\n",
    "regressor.fit(input_train, output_train) "
   ]
  },
  {
   "cell_type": "code",
   "execution_count": 134,
   "metadata": {},
   "outputs": [],
   "source": [
    "# To make predictions on the test data\n",
    "output_pred = regressor.predict(input_test)\n",
    "\n",
    "# To mak prediction on the training data to be used laterly while comparing error metrices for both \n",
    "# data sets to chech model overfitting or underfitting\n",
    "output_train_pred = regressor.predict(input_train)"
   ]
  },
  {
   "cell_type": "code",
   "execution_count": 135,
   "metadata": {},
   "outputs": [
    {
     "data": {
      "text/html": [
       "<div>\n",
       "<style scoped>\n",
       "    .dataframe tbody tr th:only-of-type {\n",
       "        vertical-align: middle;\n",
       "    }\n",
       "\n",
       "    .dataframe tbody tr th {\n",
       "        vertical-align: top;\n",
       "    }\n",
       "\n",
       "    .dataframe thead th {\n",
       "        text-align: right;\n",
       "    }\n",
       "</style>\n",
       "<table border=\"1\" class=\"dataframe\">\n",
       "  <thead>\n",
       "    <tr style=\"text-align: right;\">\n",
       "      <th></th>\n",
       "      <th>Actual</th>\n",
       "      <th>Predicted</th>\n",
       "    </tr>\n",
       "  </thead>\n",
       "  <tbody>\n",
       "    <tr>\n",
       "      <th>0</th>\n",
       "      <td>0.4418777943</td>\n",
       "      <td>0.522381</td>\n",
       "    </tr>\n",
       "    <tr>\n",
       "      <th>1</th>\n",
       "      <td>0.6991869919</td>\n",
       "      <td>0.670176</td>\n",
       "    </tr>\n",
       "    <tr>\n",
       "      <th>2</th>\n",
       "      <td>0.2754491018</td>\n",
       "      <td>0.280242</td>\n",
       "    </tr>\n",
       "    <tr>\n",
       "      <th>3</th>\n",
       "      <td>0.4281217209</td>\n",
       "      <td>0.530592</td>\n",
       "    </tr>\n",
       "    <tr>\n",
       "      <th>4</th>\n",
       "      <td>0.6611295681</td>\n",
       "      <td>0.553624</td>\n",
       "    </tr>\n",
       "    <tr>\n",
       "      <th>...</th>\n",
       "      <td>...</td>\n",
       "      <td>...</td>\n",
       "    </tr>\n",
       "    <tr>\n",
       "      <th>1122</th>\n",
       "      <td>0.575</td>\n",
       "      <td>0.513905</td>\n",
       "    </tr>\n",
       "    <tr>\n",
       "      <th>1123</th>\n",
       "      <td>0.5616024187</td>\n",
       "      <td>0.458957</td>\n",
       "    </tr>\n",
       "    <tr>\n",
       "      <th>1124</th>\n",
       "      <td>0.5319148936</td>\n",
       "      <td>0.592584</td>\n",
       "    </tr>\n",
       "    <tr>\n",
       "      <th>1125</th>\n",
       "      <td>0.3049327354</td>\n",
       "      <td>0.346864</td>\n",
       "    </tr>\n",
       "    <tr>\n",
       "      <th>1126</th>\n",
       "      <td>0.7820512821</td>\n",
       "      <td>0.805353</td>\n",
       "    </tr>\n",
       "  </tbody>\n",
       "</table>\n",
       "<p>1127 rows × 2 columns</p>\n",
       "</div>"
      ],
      "text/plain": [
       "            Actual  Predicted\n",
       "0     0.4418777943   0.522381\n",
       "1     0.6991869919   0.670176\n",
       "2     0.2754491018   0.280242\n",
       "3     0.4281217209   0.530592\n",
       "4     0.6611295681   0.553624\n",
       "...            ...        ...\n",
       "1122         0.575   0.513905\n",
       "1123  0.5616024187   0.458957\n",
       "1124  0.5319148936   0.592584\n",
       "1125  0.3049327354   0.346864\n",
       "1126  0.7820512821   0.805353\n",
       "\n",
       "[1127 rows x 2 columns]"
      ]
     },
     "execution_count": 135,
     "metadata": {},
     "output_type": "execute_result"
    }
   ],
   "source": [
    "# To compare the actual output values for input_test which is (output_test) with the predicted values output_pred\n",
    "df = pd.DataFrame({'Actual': output_test, 'Predicted': output_pred})\n",
    "df"
   ]
  },
  {
   "cell_type": "code",
   "execution_count": 136,
   "metadata": {},
   "outputs": [
    {
     "name": "stdout",
     "output_type": "stream",
     "text": [
      "Train - Mean Absolute Error: 0.07557939391286489\n",
      "Test - Mean Absolute Error: 0.07449102299017916\n",
      "\n",
      "\n",
      "Train - Mean Squared Error: 0.010022086646405113\n",
      "Test - Mean Squared Error: 0.009758818355439108\n",
      "\n",
      "\n",
      "Train - Root Mean Squared Error: 0.1001103723217785\n",
      "Test - Root Mean Squared Error: 0.09878673167707852\n",
      "\n",
      "\n",
      "Train - Root Squared Error: 0.7425261699899407\n",
      "Test - Root Squared Error: 0.7525477328407011\n"
     ]
    }
   ],
   "source": [
    "# The final step is to evaluate the performance of algorithm on training set and test set\n",
    "# We'll do this by finding the values for MAE, MSE, RMSE, and RSE \n",
    "# for training and testing set to discover any overfitting or underfitting\n",
    "print('Train - Mean Absolute Error:', metrics.mean_absolute_error(output_train, output_train_pred))\n",
    "print('Test - Mean Absolute Error:', metrics.mean_absolute_error(output_test, output_pred))\n",
    "print('\\n')\n",
    "print('Train - Mean Squared Error:', metrics.mean_squared_error(output_train, output_train_pred))\n",
    "print('Test - Mean Squared Error:', metrics.mean_squared_error(output_test, output_pred))\n",
    "print('\\n')\n",
    "print('Train - Root Mean Squared Error:', np.sqrt(metrics.mean_squared_error(output_train, output_train_pred)))\n",
    "print('Test - Root Mean Squared Error:', np.sqrt(metrics.mean_squared_error(output_test, output_pred)))\n",
    "print('\\n')\n",
    "print('Train - Root Squared Error:', r2_score(output_train, output_train_pred))\n",
    "print('Test - Root Squared Error:', r2_score(output_test, output_pred))"
   ]
  },
  {
   "cell_type": "code",
   "execution_count": 137,
   "metadata": {},
   "outputs": [
    {
     "data": {
      "text/plain": [
       "array([  0.72877528,   0.73085071,   0.71432224,   0.61339686,\n",
       "         0.76627738,   0.75840181,   0.7444182 ,   0.74728405,\n",
       "         0.71933024, -50.55644246])"
      ]
     },
     "execution_count": 137,
     "metadata": {},
     "output_type": "execute_result"
    }
   ],
   "source": [
    "# Model Evaluation using Cross Validation 10 fold and root squared\n",
    "cross_val_score(regressor, input_train, output_train, cv=10 ,scoring='r2')"
   ]
  },
  {
   "cell_type": "code",
   "execution_count": 138,
   "metadata": {},
   "outputs": [
    {
     "data": {
      "text/plain": [
       "array([-0.1038303 , -0.10220054, -0.10536803, -0.11654019, -0.09850242,\n",
       "       -0.0980925 , -0.09812204, -0.10319205, -0.10441802, -1.3614137 ])"
      ]
     },
     "execution_count": 138,
     "metadata": {},
     "output_type": "execute_result"
    }
   ],
   "source": [
    "# Model Evaluation using Cross Validation 10 fold and RMSE\n",
    "cross_val_score(regressor, input_train, output_train, cv=10 ,scoring='neg_root_mean_squared_error')"
   ]
  },
  {
   "cell_type": "code",
   "execution_count": 139,
   "metadata": {},
   "outputs": [],
   "source": [
    "# catHotColumns is how oneHotEncoder treats HIGHDEG AND CONTROL in preprocessing\n",
    "catHotColumns =[\"HIGHDEG_Non-degree-granting\",\"HIGHDEG_Certificate_degree\",\"HIGHDEG_Associate_degree\",\"HIGHDEG_Associate_degree\",\"HIGHDEG_Associate_degree\",\"CONTROL_Public\",\"CONTROL_Private_nonprofit\",\"CONTROL_Private for-profit\"]\n",
    "# ADD all toghether. this is the structre that gets out from the preprocessing pipline\n",
    "all_features = float_columns.copy()\n",
    "all_features.extend(catHotColumns)"
   ]
  },
  {
   "cell_type": "code",
   "execution_count": 140,
   "metadata": {},
   "outputs": [
    {
     "data": {
      "text/plain": [
       "array([-4.03425078e+02, -3.34125955e-01, -2.74826268e-01, -2.39830248e-01,\n",
       "       -2.26419224e-01, -2.02084433e-01, -1.79526127e-01, -1.71961758e-01,\n",
       "       -1.17396926e-01, -7.09227376e-02, -6.80610769e-02, -4.65394633e-02,\n",
       "       -3.35568260e-02, -2.38742195e-02, -2.13789660e-02, -1.23046261e-02,\n",
       "       -1.08431743e-02, -8.34484248e-03, -4.03172850e-03, -2.12866739e-03,\n",
       "       -2.99933025e-04, -1.63013756e-05, -7.09057815e-06, -2.54108447e-06,\n",
       "       -2.34069364e-06, -2.28642977e-06, -1.88589625e-06, -7.25327231e-07,\n",
       "       -6.37813114e-07,  1.60774321e-07,  5.21831926e-07,  7.81419487e-07,\n",
       "        1.80740524e-06,  2.14851469e-06,  2.90277788e-06,  3.33132208e-06,\n",
       "        5.33400150e-06,  1.72448519e-04,  1.79407365e-04,  2.32907723e-04,\n",
       "        3.05910330e-04,  9.32705488e-04,  2.68987260e-02,  2.70356248e-02,\n",
       "        2.75942593e-02,  3.17500568e-02,  3.91726815e-02,  6.21788840e-02,\n",
       "        6.48497596e-02,  6.82206826e-02,  8.40292067e-02,  3.14140561e-01,\n",
       "        2.55859854e+00])"
      ]
     },
     "execution_count": 140,
     "metadata": {},
     "output_type": "execute_result"
    }
   ],
   "source": [
    "x = regressor.coef_\n",
    "x.sort()\n",
    "x"
   ]
  },
  {
   "cell_type": "code",
   "execution_count": 141,
   "metadata": {},
   "outputs": [
    {
     "data": {
      "text/plain": [
       "[('CONTROL_Private for-profit', 2.5585985364769064),\n",
       " ('CONTROL_Private_nonprofit', 0.3141405607663617),\n",
       " ('CONTROL_Public', 0.08402920668511976),\n",
       " ('HIGHDEG_Associate_degree', 0.06822068259882268),\n",
       " ('HIGHDEG_Associate_degree', 0.06484975964860036),\n",
       " ('HIGHDEG_Associate_degree', 0.06217888402075278),\n",
       " ('HIGHDEG_Certificate_degree', 0.03917268149685644),\n",
       " ('HIGHDEG_Non-degree-granting', 0.03175005676427445),\n",
       " ('MD_EARN_WNE_P10', 0.027594259275662267),\n",
       " ('MN_EARN_WNE_P10', 0.027035624760128715),\n",
       " ('COUNT_WNE_P10', 0.02689872601767231),\n",
       " ('COUNT_NWNE_P10', 0.0009327054879210329),\n",
       " ('AGE_ENTRY', 0.00030591033006771963),\n",
       " ('COMP_ORIG_YR4_RT', 0.00023290772295213728),\n",
       " ('DEATH_YR4_RT', 0.00017940736541306038),\n",
       " ('LOAN_COMP_ORIG_YR3_RT', 0.00017244851880330616),\n",
       " ('LOAN_DEATH_YR3_RT', 5.334001500627815e-06),\n",
       " ('COMP_ORIG_YR3_RT', 3.3313220832061063e-06),\n",
       " ('DEATH_YR3_RT', 2.9027778791295387e-06),\n",
       " ('AVGFACSAL', 2.148514690826194e-06),\n",
       " ('TUITFTE', 1.8074052378835512e-06),\n",
       " ('TUITIONFEE_PROG', 7.814194871820154e-07),\n",
       " ('TUITIONFEE_OUT', 5.218319256475833e-07),\n",
       " ('TUITIONFEE_IN', 1.6077432149368863e-07),\n",
       " ('COSTT4_A', -6.378131141896413e-07),\n",
       " ('PPTUG_EF', -7.253272309073328e-07),\n",
       " ('UGDS_UNKN', -1.8858962527580237e-06),\n",
       " ('UGDS_NRA', -2.2864297694212207e-06),\n",
       " ('UGDS_2MOR', -2.3406936435184725e-06),\n",
       " ('UGDS_NHPI', -2.5410844656189625e-06),\n",
       " ('UGDS_AIAN', -7.090578150536955e-06),\n",
       " ('UGDS_ASIAN', -1.6301375578826508e-05),\n",
       " ('UGDS_HISP', -0.0002999330254791322),\n",
       " ('UGDS_BLACK', -0.0021286673894681304),\n",
       " ('UGDS_WHITE', -0.004031728497823221),\n",
       " ('COMP_ORIG_YR2_RT', -0.00834484247843261),\n",
       " ('PCTPELL', -0.010843174261585072),\n",
       " ('PCTFLOAN', -0.012304626054632981),\n",
       " ('COSTT4_A', -0.021378966025120013),\n",
       " ('COSTT4_P', -0.023874219508999907),\n",
       " ('AVGFACSAL', -0.033556825985305926),\n",
       " ('INEXPFTE', -0.04653946331968736),\n",
       " ('TUITFTE', -0.06806107693972846),\n",
       " ('UGDS', -0.07092273757796372),\n",
       " ('SATMTMID', -0.11739692634560012),\n",
       " ('SAT_AVG_ALL', -0.1719617575682157),\n",
       " ('SAT_AVG', -0.17952612676285387),\n",
       " ('ACTWRMID', -0.2020844334060422),\n",
       " ('ACTMTMID', -0.22641922357207556),\n",
       " ('ACTENMID', -0.23983024781485945),\n",
       " ('ACTCMMID', -0.2748262683326162),\n",
       " ('ADM_RATE_ALL', -0.3341259548167442),\n",
       " ('ADM_RATE', -403.42507789265346)]"
      ]
     },
     "execution_count": 141,
     "metadata": {},
     "output_type": "execute_result"
    }
   ],
   "source": [
    "# get the features importance \n",
    "feature_name_importance = zip(all_features, regressor.coef_)\n",
    "sorted(feature_name_importance, key=lambda x: x[1], reverse=True)"
   ]
  },
  {
   "cell_type": "code",
   "execution_count": 142,
   "metadata": {},
   "outputs": [
    {
     "data": {
      "image/png": "[encoded data removed]",
      "text/plain": [
       "<Figure size 432x288 with 1 Axes>"
      ]
     },
     "metadata": {
      "needs_background": "light"
     },
     "output_type": "display_data"
    }
   ],
   "source": [
    "feature_importance_df =pd.DataFrame(data=regressor.coef_, index=all_features, columns=[\"feature_importance\"])\n",
    "ax = feature_importance_df.sort_values(\"feature_importance\", ascending=False).head(20).plot(kind='barh',title='feature_importance')\n",
    "ax.invert_yaxis()"
   ]
  },
  {
   "cell_type": "code",
   "execution_count": 143,
   "metadata": {},
   "outputs": [
    {
     "name": "stdout",
     "output_type": "stream",
     "text": [
      "Fitting 10 folds for each of 8 candidates, totalling 80 fits\n"
     ]
    },
    {
     "name": "stderr",
     "output_type": "stream",
     "text": [
      "[Parallel(n_jobs=1)]: Using backend SequentialBackend with 1 concurrent workers.\n"
     ]
    },
    {
     "name": "stdout",
     "output_type": "stream",
     "text": [
      "Best Params :  {'copy_X': True, 'fit_intercept': False, 'n_jobs': None, 'normalize': True}\n"
     ]
    },
    {
     "name": "stderr",
     "output_type": "stream",
     "text": [
      "[Parallel(n_jobs=1)]: Done  80 out of  80 | elapsed:    1.2s finished\n"
     ]
    }
   ],
   "source": [
    "# parameter tuning using Grid Search technique to get the best parameters\n",
    "# regressor.get_params().keys()\n",
    "params = {'fit_intercept':[True , False],'normalize':[True , False],'copy_X': [True , False], 'n_jobs':[None]}\n",
    "regressor_gs = GridSearchCV(regressor, params, cv=10, verbose=1)\n",
    "regressor_gs.fit(input_train, output_train) \n",
    "print(\"Best Params : \", regressor_gs.best_params_)"
   ]
  },
  {
   "cell_type": "code",
   "execution_count": 144,
   "metadata": {},
   "outputs": [],
   "source": [
    "# Try model again using best params\n",
    "regressor_best = LinearRegression(copy_X=True, fit_intercept=False, normalize=True)\n",
    "regressor_best.fit(input_train, output_train) \n",
    "\n",
    "output_pred_best = regressor_best.predict(input_test)\n",
    "output_train_pred_best = regressor_best.predict(input_train)"
   ]
  },
  {
   "cell_type": "code",
   "execution_count": 145,
   "metadata": {},
   "outputs": [
    {
     "name": "stdout",
     "output_type": "stream",
     "text": [
      "(Best_Param) Train - Mean Absolute Error: 0.07557939391286318\n",
      "(Best_Param) Test - Mean Absolute Error: 0.07449102299019966\n",
      "\n",
      "\n",
      "(Best_Param) Train - Mean Squared Error: 0.010022086646405118\n",
      "(Best_Param) Test - Mean Squared Error: 0.009758818355442563\n",
      "\n",
      "\n",
      "(Best_Param) Train - Root Mean Squared Error: 0.10011037232177852\n",
      "(Best_Param) Test - Root Mean Squared Error: 0.098786731677096\n",
      "\n",
      "\n",
      "(Best_Param) Train - Root Squared Error: 0.7425261699899406\n",
      "(Best_Param) Test - Root Squared Error: 0.7525477328406134\n"
     ]
    }
   ],
   "source": [
    "# The final step is to evaluate the performance of algorithm on training set and test set after using best parameters\n",
    "# We'll do this by finding the values for MAE, MSE, RMSE, and RSE \n",
    "# for training and testing set again to discover any overfitting or underfitting\n",
    "print('(Best_Param) Train - Mean Absolute Error:', metrics.mean_absolute_error(output_train, output_train_pred_best))\n",
    "print('(Best_Param) Test - Mean Absolute Error:', metrics.mean_absolute_error(output_test, output_pred_best))\n",
    "print('\\n')\n",
    "print('(Best_Param) Train - Mean Squared Error:', metrics.mean_squared_error(output_train, output_train_pred_best))\n",
    "print('(Best_Param) Test - Mean Squared Error:', metrics.mean_squared_error(output_test, output_pred_best))\n",
    "print('\\n')\n",
    "print('(Best_Param) Train - Root Mean Squared Error:', np.sqrt(metrics.mean_squared_error(output_train, output_train_pred_best)))\n",
    "print('(Best_Param) Test - Root Mean Squared Error:', np.sqrt(metrics.mean_squared_error(output_test, output_pred_best)))\n",
    "print('\\n')\n",
    "print('(Best_Param) Train - Root Squared Error:', r2_score(output_train, output_train_pred_best))\n",
    "print('(Best_Param) Test - Root Squared Error:', r2_score(output_test, output_pred_best))"
   ]
  },
  {
   "cell_type": "code",
   "execution_count": 146,
   "metadata": {},
   "outputs": [
    {
     "data": {
      "text/plain": [
       "[('DEATH_YR4_RT', 2.558598536480903),\n",
       " ('CONTROL_Public', 1.3276911913477432),\n",
       " ('CONTROL_Private_nonprofit', 1.3202685666151288),\n",
       " ('CONTROL_Private for-profit', 1.217595772272883),\n",
       " ('HIGHDEG_Associate_degree', 0.8007053473279103),\n",
       " ('HIGHDEG_Certificate_degree', 0.8001467128123672),\n",
       " ('HIGHDEG_Associate_degree', 0.7734169983823204),\n",
       " ('HIGHDEG_Associate_degree', 0.75173212202714),\n",
       " ('HIGHDEG_Non-degree-granting', 0.7395542620669516),\n",
       " ('DEATH_YR3_RT', 0.31414056082195563),\n",
       " ('COMP_ORIG_YR3_RT', 0.08402920668507331),\n",
       " ('PPTUG_EF', 0.06822068259921722),\n",
       " ('COMP_ORIG_YR4_RT', 0.06484975964860323),\n",
       " ('PCTFLOAN', 0.06217888401987428),\n",
       " ('ADM_RATE', 0.026898726015191186),\n",
       " ('ACTMTMID', 0.0009327054879451558),\n",
       " ('ACTENMID', 0.00023290772281282175),\n",
       " ('SAT_AVG_ALL', 0.0001794073654124191),\n",
       " ('SAT_AVG', 0.0001724485188101459),\n",
       " ('COSTT4_A', 0.00011093226262932692),\n",
       " ('TUITFTE', 8.453951678480772e-05),\n",
       " ('AVGFACSAL', 1.9512966632760122e-05),\n",
       " ('MD_EARN_WNE_P10', 3.3313220832113105e-06),\n",
       " ('TUITIONFEE_IN', 2.9027778790915917e-06),\n",
       " ('COUNT_WNE_P10', 1.8074052379208477e-06),\n",
       " ('MN_EARN_WNE_P10', 7.814194871655356e-07),\n",
       " ('INEXPFTE', 5.218319256720862e-07),\n",
       " ('TUITIONFEE_PROG', 1.607743215193639e-07),\n",
       " ('UGDS', -7.253272309025623e-07),\n",
       " ('COSTT4_P', -1.885896252766528e-06),\n",
       " ('TUITIONFEE_OUT', -2.3406936434699002e-06),\n",
       " ('COUNT_NWNE_P10', -1.6301375578904815e-05),\n",
       " ('AVGFACSAL', -2.2437209516375754e-05),\n",
       " ('TUITFTE', -8.493208655961095e-05),\n",
       " ('COSTT4_A', -0.00011268883927921828),\n",
       " ('SATMTMID', -0.0002999330254867046),\n",
       " ('UGDS_ASIAN', -0.0021286673916206932),\n",
       " ('ACTCMMID', -0.004031728497797554),\n",
       " ('ACTWRMID', -0.008344842478962495),\n",
       " ('ADM_RATE_ALL', -0.010843174259790476),\n",
       " ('AGE_ENTRY', -0.012304626054661158),\n",
       " ('UGDS_NRA', -0.023874219511913944),\n",
       " ('LOAN_COMP_ORIG_YR3_RT', -0.04653946331971541),\n",
       " ('COMP_ORIG_YR2_RT', -0.0680610769395316),\n",
       " ('UGDS_WHITE', -0.11739692634795629),\n",
       " ('UGDS_AIAN', -0.17196175757068843),\n",
       " ('PCTPELL', -0.17952612676231566),\n",
       " ('UGDS_HISP', -0.20208443340810897),\n",
       " ('UGDS_UNKN', -0.2264192235741758),\n",
       " ('UGDS_NHPI', -0.2398302478166817),\n",
       " ('UGDS_2MOR', -0.27482626833673834),\n",
       " ('UGDS_BLACK', -0.33412595481883023),\n",
       " ('LOAN_DEATH_YR3_RT', -403.42507787913183)]"
      ]
     },
     "execution_count": 146,
     "metadata": {},
     "output_type": "execute_result"
    }
   ],
   "source": [
    "# get the features importance uing estimator with best params \n",
    "feature_name_importance = zip(all_features, regressor_best.coef_)\n",
    "sorted(feature_name_importance, key=lambda x: x[1], reverse=True)"
   ]
  },
  {
   "cell_type": "code",
   "execution_count": 147,
   "metadata": {},
   "outputs": [
    {
     "data": {
      "image/png": "[encoded data removed]",
      "text/plain": [
       "<Figure size 432x288 with 1 Axes>"
      ]
     },
     "metadata": {
      "needs_background": "light"
     },
     "output_type": "display_data"
    }
   ],
   "source": [
    "feature_importance_df =pd.DataFrame(data=regressor_best.coef_, index=all_features, columns=[\"feature_importance\"])\n",
    "ax = feature_importance_df.sort_values(\"feature_importance\", ascending=False).head(20).plot(kind='barh',title='feature_importance')\n",
    "ax.invert_yaxis()"
   ]
  },
  {
   "cell_type": "code",
   "execution_count": null,
   "metadata": {},
   "outputs": [],
   "source": []
  },
  {
   "cell_type": "code",
   "execution_count": 150,
   "metadata": {},
   "outputs": [
    {
     "ename": "MissingDataError",
     "evalue": "exog contains inf or nans",
     "output_type": "error",
     "traceback": [
      "\u001b[1;31m---------------------------------------------------------------------------\u001b[0m",
      "\u001b[1;31mMissingDataError\u001b[0m                          Traceback (most recent call last)",
      "\u001b[1;32m<ipython-input-150-ee00358aadc8>\u001b[0m in \u001b[0;36m<module>\u001b[1;34m\u001b[0m\n\u001b[0;32m      3\u001b[0m \u001b[0minput_features_drop_nan\u001b[0m \u001b[1;33m=\u001b[0m \u001b[0mprocessed_input_features\u001b[0m\u001b[1;33m\u001b[0m\u001b[1;33m\u001b[0m\u001b[0m\n\u001b[0;32m      4\u001b[0m \u001b[0minput_features_drop_nan\u001b[0m\u001b[1;33m.\u001b[0m\u001b[0mdropna\u001b[0m\u001b[1;33m(\u001b[0m\u001b[1;33m)\u001b[0m\u001b[1;33m\u001b[0m\u001b[1;33m\u001b[0m\u001b[0m\n\u001b[1;32m----> 5\u001b[1;33m \u001b[0mreg_OLS\u001b[0m \u001b[1;33m=\u001b[0m \u001b[0msm\u001b[0m\u001b[1;33m.\u001b[0m\u001b[0mOLS\u001b[0m\u001b[1;33m(\u001b[0m\u001b[0mnp\u001b[0m\u001b[1;33m.\u001b[0m\u001b[0masarray\u001b[0m\u001b[1;33m(\u001b[0m\u001b[0mtarget_output\u001b[0m\u001b[1;33m)\u001b[0m\u001b[1;33m,\u001b[0m \u001b[0mnp\u001b[0m\u001b[1;33m.\u001b[0m\u001b[0masarray\u001b[0m\u001b[1;33m(\u001b[0m\u001b[0minput_features_drop_nan\u001b[0m\u001b[1;33m)\u001b[0m\u001b[1;33m)\u001b[0m\u001b[1;33m.\u001b[0m\u001b[0mfit\u001b[0m\u001b[1;33m(\u001b[0m\u001b[1;33m)\u001b[0m\u001b[1;33m\u001b[0m\u001b[1;33m\u001b[0m\u001b[0m\n\u001b[0m\u001b[0;32m      6\u001b[0m \u001b[0mprint\u001b[0m\u001b[1;33m(\u001b[0m\u001b[0mreg_OLS\u001b[0m\u001b[1;33m.\u001b[0m\u001b[0msummary\u001b[0m\u001b[1;33m(\u001b[0m\u001b[1;33m)\u001b[0m\u001b[1;33m)\u001b[0m\u001b[1;33m\u001b[0m\u001b[1;33m\u001b[0m\u001b[0m\n",
      "\u001b[1;32mF:\\Anaconda3\\lib\\site-packages\\statsmodels\\regression\\linear_model.py\u001b[0m in \u001b[0;36m__init__\u001b[1;34m(self, endog, exog, missing, hasconst, **kwargs)\u001b[0m\n\u001b[0;32m    857\u001b[0m                  **kwargs):\n\u001b[0;32m    858\u001b[0m         super(OLS, self).__init__(endog, exog, missing=missing,\n\u001b[1;32m--> 859\u001b[1;33m                                   hasconst=hasconst, **kwargs)\n\u001b[0m\u001b[0;32m    860\u001b[0m         \u001b[1;32mif\u001b[0m \u001b[1;34m\"weights\"\u001b[0m \u001b[1;32min\u001b[0m \u001b[0mself\u001b[0m\u001b[1;33m.\u001b[0m\u001b[0m_init_keys\u001b[0m\u001b[1;33m:\u001b[0m\u001b[1;33m\u001b[0m\u001b[1;33m\u001b[0m\u001b[0m\n\u001b[0;32m    861\u001b[0m             \u001b[0mself\u001b[0m\u001b[1;33m.\u001b[0m\u001b[0m_init_keys\u001b[0m\u001b[1;33m.\u001b[0m\u001b[0mremove\u001b[0m\u001b[1;33m(\u001b[0m\u001b[1;34m\"weights\"\u001b[0m\u001b[1;33m)\u001b[0m\u001b[1;33m\u001b[0m\u001b[1;33m\u001b[0m\u001b[0m\n",
      "\u001b[1;32mF:\\Anaconda3\\lib\\site-packages\\statsmodels\\regression\\linear_model.py\u001b[0m in \u001b[0;36m__init__\u001b[1;34m(self, endog, exog, weights, missing, hasconst, **kwargs)\u001b[0m\n\u001b[0;32m    700\u001b[0m             \u001b[0mweights\u001b[0m \u001b[1;33m=\u001b[0m \u001b[0mweights\u001b[0m\u001b[1;33m.\u001b[0m\u001b[0msqueeze\u001b[0m\u001b[1;33m(\u001b[0m\u001b[1;33m)\u001b[0m\u001b[1;33m\u001b[0m\u001b[1;33m\u001b[0m\u001b[0m\n\u001b[0;32m    701\u001b[0m         super(WLS, self).__init__(endog, exog, missing=missing,\n\u001b[1;32m--> 702\u001b[1;33m                                   weights=weights, hasconst=hasconst, **kwargs)\n\u001b[0m\u001b[0;32m    703\u001b[0m         \u001b[0mnobs\u001b[0m \u001b[1;33m=\u001b[0m \u001b[0mself\u001b[0m\u001b[1;33m.\u001b[0m\u001b[0mexog\u001b[0m\u001b[1;33m.\u001b[0m\u001b[0mshape\u001b[0m\u001b[1;33m[\u001b[0m\u001b[1;36m0\u001b[0m\u001b[1;33m]\u001b[0m\u001b[1;33m\u001b[0m\u001b[1;33m\u001b[0m\u001b[0m\n\u001b[0;32m    704\u001b[0m         \u001b[0mweights\u001b[0m \u001b[1;33m=\u001b[0m \u001b[0mself\u001b[0m\u001b[1;33m.\u001b[0m\u001b[0mweights\u001b[0m\u001b[1;33m\u001b[0m\u001b[1;33m\u001b[0m\u001b[0m\n",
      "\u001b[1;32mF:\\Anaconda3\\lib\\site-packages\\statsmodels\\regression\\linear_model.py\u001b[0m in \u001b[0;36m__init__\u001b[1;34m(self, endog, exog, **kwargs)\u001b[0m\n\u001b[0;32m    188\u001b[0m     \"\"\"\n\u001b[0;32m    189\u001b[0m     \u001b[1;32mdef\u001b[0m \u001b[0m__init__\u001b[0m\u001b[1;33m(\u001b[0m\u001b[0mself\u001b[0m\u001b[1;33m,\u001b[0m \u001b[0mendog\u001b[0m\u001b[1;33m,\u001b[0m \u001b[0mexog\u001b[0m\u001b[1;33m,\u001b[0m \u001b[1;33m**\u001b[0m\u001b[0mkwargs\u001b[0m\u001b[1;33m)\u001b[0m\u001b[1;33m:\u001b[0m\u001b[1;33m\u001b[0m\u001b[1;33m\u001b[0m\u001b[0m\n\u001b[1;32m--> 190\u001b[1;33m         \u001b[0msuper\u001b[0m\u001b[1;33m(\u001b[0m\u001b[0mRegressionModel\u001b[0m\u001b[1;33m,\u001b[0m \u001b[0mself\u001b[0m\u001b[1;33m)\u001b[0m\u001b[1;33m.\u001b[0m\u001b[0m__init__\u001b[0m\u001b[1;33m(\u001b[0m\u001b[0mendog\u001b[0m\u001b[1;33m,\u001b[0m \u001b[0mexog\u001b[0m\u001b[1;33m,\u001b[0m \u001b[1;33m**\u001b[0m\u001b[0mkwargs\u001b[0m\u001b[1;33m)\u001b[0m\u001b[1;33m\u001b[0m\u001b[1;33m\u001b[0m\u001b[0m\n\u001b[0m\u001b[0;32m    191\u001b[0m         \u001b[0mself\u001b[0m\u001b[1;33m.\u001b[0m\u001b[0m_data_attr\u001b[0m\u001b[1;33m.\u001b[0m\u001b[0mextend\u001b[0m\u001b[1;33m(\u001b[0m\u001b[1;33m[\u001b[0m\u001b[1;34m'pinv_wexog'\u001b[0m\u001b[1;33m,\u001b[0m \u001b[1;34m'wendog'\u001b[0m\u001b[1;33m,\u001b[0m \u001b[1;34m'wexog'\u001b[0m\u001b[1;33m,\u001b[0m \u001b[1;34m'weights'\u001b[0m\u001b[1;33m]\u001b[0m\u001b[1;33m)\u001b[0m\u001b[1;33m\u001b[0m\u001b[1;33m\u001b[0m\u001b[0m\n\u001b[0;32m    192\u001b[0m \u001b[1;33m\u001b[0m\u001b[0m\n",
      "\u001b[1;32mF:\\Anaconda3\\lib\\site-packages\\statsmodels\\base\\model.py\u001b[0m in \u001b[0;36m__init__\u001b[1;34m(self, endog, exog, **kwargs)\u001b[0m\n\u001b[0;32m    234\u001b[0m \u001b[1;33m\u001b[0m\u001b[0m\n\u001b[0;32m    235\u001b[0m     \u001b[1;32mdef\u001b[0m \u001b[0m__init__\u001b[0m\u001b[1;33m(\u001b[0m\u001b[0mself\u001b[0m\u001b[1;33m,\u001b[0m \u001b[0mendog\u001b[0m\u001b[1;33m,\u001b[0m \u001b[0mexog\u001b[0m\u001b[1;33m=\u001b[0m\u001b[1;32mNone\u001b[0m\u001b[1;33m,\u001b[0m \u001b[1;33m**\u001b[0m\u001b[0mkwargs\u001b[0m\u001b[1;33m)\u001b[0m\u001b[1;33m:\u001b[0m\u001b[1;33m\u001b[0m\u001b[1;33m\u001b[0m\u001b[0m\n\u001b[1;32m--> 236\u001b[1;33m         \u001b[0msuper\u001b[0m\u001b[1;33m(\u001b[0m\u001b[0mLikelihoodModel\u001b[0m\u001b[1;33m,\u001b[0m \u001b[0mself\u001b[0m\u001b[1;33m)\u001b[0m\u001b[1;33m.\u001b[0m\u001b[0m__init__\u001b[0m\u001b[1;33m(\u001b[0m\u001b[0mendog\u001b[0m\u001b[1;33m,\u001b[0m \u001b[0mexog\u001b[0m\u001b[1;33m,\u001b[0m \u001b[1;33m**\u001b[0m\u001b[0mkwargs\u001b[0m\u001b[1;33m)\u001b[0m\u001b[1;33m\u001b[0m\u001b[1;33m\u001b[0m\u001b[0m\n\u001b[0m\u001b[0;32m    237\u001b[0m         \u001b[0mself\u001b[0m\u001b[1;33m.\u001b[0m\u001b[0minitialize\u001b[0m\u001b[1;33m(\u001b[0m\u001b[1;33m)\u001b[0m\u001b[1;33m\u001b[0m\u001b[1;33m\u001b[0m\u001b[0m\n\u001b[0;32m    238\u001b[0m \u001b[1;33m\u001b[0m\u001b[0m\n",
      "\u001b[1;32mF:\\Anaconda3\\lib\\site-packages\\statsmodels\\base\\model.py\u001b[0m in \u001b[0;36m__init__\u001b[1;34m(self, endog, exog, **kwargs)\u001b[0m\n\u001b[0;32m     75\u001b[0m         \u001b[0mhasconst\u001b[0m \u001b[1;33m=\u001b[0m \u001b[0mkwargs\u001b[0m\u001b[1;33m.\u001b[0m\u001b[0mpop\u001b[0m\u001b[1;33m(\u001b[0m\u001b[1;34m'hasconst'\u001b[0m\u001b[1;33m,\u001b[0m \u001b[1;32mNone\u001b[0m\u001b[1;33m)\u001b[0m\u001b[1;33m\u001b[0m\u001b[1;33m\u001b[0m\u001b[0m\n\u001b[0;32m     76\u001b[0m         self.data = self._handle_data(endog, exog, missing, hasconst,\n\u001b[1;32m---> 77\u001b[1;33m                                       **kwargs)\n\u001b[0m\u001b[0;32m     78\u001b[0m         \u001b[0mself\u001b[0m\u001b[1;33m.\u001b[0m\u001b[0mk_constant\u001b[0m \u001b[1;33m=\u001b[0m \u001b[0mself\u001b[0m\u001b[1;33m.\u001b[0m\u001b[0mdata\u001b[0m\u001b[1;33m.\u001b[0m\u001b[0mk_constant\u001b[0m\u001b[1;33m\u001b[0m\u001b[1;33m\u001b[0m\u001b[0m\n\u001b[0;32m     79\u001b[0m         \u001b[0mself\u001b[0m\u001b[1;33m.\u001b[0m\u001b[0mexog\u001b[0m \u001b[1;33m=\u001b[0m \u001b[0mself\u001b[0m\u001b[1;33m.\u001b[0m\u001b[0mdata\u001b[0m\u001b[1;33m.\u001b[0m\u001b[0mexog\u001b[0m\u001b[1;33m\u001b[0m\u001b[1;33m\u001b[0m\u001b[0m\n",
      "\u001b[1;32mF:\\Anaconda3\\lib\\site-packages\\statsmodels\\base\\model.py\u001b[0m in \u001b[0;36m_handle_data\u001b[1;34m(self, endog, exog, missing, hasconst, **kwargs)\u001b[0m\n\u001b[0;32m     98\u001b[0m \u001b[1;33m\u001b[0m\u001b[0m\n\u001b[0;32m     99\u001b[0m     \u001b[1;32mdef\u001b[0m \u001b[0m_handle_data\u001b[0m\u001b[1;33m(\u001b[0m\u001b[0mself\u001b[0m\u001b[1;33m,\u001b[0m \u001b[0mendog\u001b[0m\u001b[1;33m,\u001b[0m \u001b[0mexog\u001b[0m\u001b[1;33m,\u001b[0m \u001b[0mmissing\u001b[0m\u001b[1;33m,\u001b[0m \u001b[0mhasconst\u001b[0m\u001b[1;33m,\u001b[0m \u001b[1;33m**\u001b[0m\u001b[0mkwargs\u001b[0m\u001b[1;33m)\u001b[0m\u001b[1;33m:\u001b[0m\u001b[1;33m\u001b[0m\u001b[1;33m\u001b[0m\u001b[0m\n\u001b[1;32m--> 100\u001b[1;33m         \u001b[0mdata\u001b[0m \u001b[1;33m=\u001b[0m \u001b[0mhandle_data\u001b[0m\u001b[1;33m(\u001b[0m\u001b[0mendog\u001b[0m\u001b[1;33m,\u001b[0m \u001b[0mexog\u001b[0m\u001b[1;33m,\u001b[0m \u001b[0mmissing\u001b[0m\u001b[1;33m,\u001b[0m \u001b[0mhasconst\u001b[0m\u001b[1;33m,\u001b[0m \u001b[1;33m**\u001b[0m\u001b[0mkwargs\u001b[0m\u001b[1;33m)\u001b[0m\u001b[1;33m\u001b[0m\u001b[1;33m\u001b[0m\u001b[0m\n\u001b[0m\u001b[0;32m    101\u001b[0m         \u001b[1;31m# kwargs arrays could have changed, easier to just attach here\u001b[0m\u001b[1;33m\u001b[0m\u001b[1;33m\u001b[0m\u001b[1;33m\u001b[0m\u001b[0m\n\u001b[0;32m    102\u001b[0m         \u001b[1;32mfor\u001b[0m \u001b[0mkey\u001b[0m \u001b[1;32min\u001b[0m \u001b[0mkwargs\u001b[0m\u001b[1;33m:\u001b[0m\u001b[1;33m\u001b[0m\u001b[1;33m\u001b[0m\u001b[0m\n",
      "\u001b[1;32mF:\\Anaconda3\\lib\\site-packages\\statsmodels\\base\\data.py\u001b[0m in \u001b[0;36mhandle_data\u001b[1;34m(endog, exog, missing, hasconst, **kwargs)\u001b[0m\n\u001b[0;32m    670\u001b[0m     \u001b[0mklass\u001b[0m \u001b[1;33m=\u001b[0m \u001b[0mhandle_data_class_factory\u001b[0m\u001b[1;33m(\u001b[0m\u001b[0mendog\u001b[0m\u001b[1;33m,\u001b[0m \u001b[0mexog\u001b[0m\u001b[1;33m)\u001b[0m\u001b[1;33m\u001b[0m\u001b[1;33m\u001b[0m\u001b[0m\n\u001b[0;32m    671\u001b[0m     return klass(endog, exog=exog, missing=missing, hasconst=hasconst,\n\u001b[1;32m--> 672\u001b[1;33m                  **kwargs)\n\u001b[0m",
      "\u001b[1;32mF:\\Anaconda3\\lib\\site-packages\\statsmodels\\base\\data.py\u001b[0m in \u001b[0;36m__init__\u001b[1;34m(self, endog, exog, missing, hasconst, **kwargs)\u001b[0m\n\u001b[0;32m     85\u001b[0m         \u001b[0mself\u001b[0m\u001b[1;33m.\u001b[0m\u001b[0mconst_idx\u001b[0m \u001b[1;33m=\u001b[0m \u001b[1;32mNone\u001b[0m\u001b[1;33m\u001b[0m\u001b[1;33m\u001b[0m\u001b[0m\n\u001b[0;32m     86\u001b[0m         \u001b[0mself\u001b[0m\u001b[1;33m.\u001b[0m\u001b[0mk_constant\u001b[0m \u001b[1;33m=\u001b[0m \u001b[1;36m0\u001b[0m\u001b[1;33m\u001b[0m\u001b[1;33m\u001b[0m\u001b[0m\n\u001b[1;32m---> 87\u001b[1;33m         \u001b[0mself\u001b[0m\u001b[1;33m.\u001b[0m\u001b[0m_handle_constant\u001b[0m\u001b[1;33m(\u001b[0m\u001b[0mhasconst\u001b[0m\u001b[1;33m)\u001b[0m\u001b[1;33m\u001b[0m\u001b[1;33m\u001b[0m\u001b[0m\n\u001b[0m\u001b[0;32m     88\u001b[0m         \u001b[0mself\u001b[0m\u001b[1;33m.\u001b[0m\u001b[0m_check_integrity\u001b[0m\u001b[1;33m(\u001b[0m\u001b[1;33m)\u001b[0m\u001b[1;33m\u001b[0m\u001b[1;33m\u001b[0m\u001b[0m\n\u001b[0;32m     89\u001b[0m         \u001b[0mself\u001b[0m\u001b[1;33m.\u001b[0m\u001b[0m_cache\u001b[0m \u001b[1;33m=\u001b[0m \u001b[1;33m{\u001b[0m\u001b[1;33m}\u001b[0m\u001b[1;33m\u001b[0m\u001b[1;33m\u001b[0m\u001b[0m\n",
      "\u001b[1;32mF:\\Anaconda3\\lib\\site-packages\\statsmodels\\base\\data.py\u001b[0m in \u001b[0;36m_handle_constant\u001b[1;34m(self, hasconst)\u001b[0m\n\u001b[0;32m    131\u001b[0m             \u001b[0mexog_max\u001b[0m \u001b[1;33m=\u001b[0m \u001b[0mnp\u001b[0m\u001b[1;33m.\u001b[0m\u001b[0mmax\u001b[0m\u001b[1;33m(\u001b[0m\u001b[0mself\u001b[0m\u001b[1;33m.\u001b[0m\u001b[0mexog\u001b[0m\u001b[1;33m,\u001b[0m \u001b[0maxis\u001b[0m\u001b[1;33m=\u001b[0m\u001b[1;36m0\u001b[0m\u001b[1;33m)\u001b[0m\u001b[1;33m\u001b[0m\u001b[1;33m\u001b[0m\u001b[0m\n\u001b[0;32m    132\u001b[0m             \u001b[1;32mif\u001b[0m \u001b[1;32mnot\u001b[0m \u001b[0mnp\u001b[0m\u001b[1;33m.\u001b[0m\u001b[0misfinite\u001b[0m\u001b[1;33m(\u001b[0m\u001b[0mexog_max\u001b[0m\u001b[1;33m)\u001b[0m\u001b[1;33m.\u001b[0m\u001b[0mall\u001b[0m\u001b[1;33m(\u001b[0m\u001b[1;33m)\u001b[0m\u001b[1;33m:\u001b[0m\u001b[1;33m\u001b[0m\u001b[1;33m\u001b[0m\u001b[0m\n\u001b[1;32m--> 133\u001b[1;33m                 \u001b[1;32mraise\u001b[0m \u001b[0mMissingDataError\u001b[0m\u001b[1;33m(\u001b[0m\u001b[1;34m'exog contains inf or nans'\u001b[0m\u001b[1;33m)\u001b[0m\u001b[1;33m\u001b[0m\u001b[1;33m\u001b[0m\u001b[0m\n\u001b[0m\u001b[0;32m    134\u001b[0m             \u001b[0mexog_min\u001b[0m \u001b[1;33m=\u001b[0m \u001b[0mnp\u001b[0m\u001b[1;33m.\u001b[0m\u001b[0mmin\u001b[0m\u001b[1;33m(\u001b[0m\u001b[0mself\u001b[0m\u001b[1;33m.\u001b[0m\u001b[0mexog\u001b[0m\u001b[1;33m,\u001b[0m \u001b[0maxis\u001b[0m\u001b[1;33m=\u001b[0m\u001b[1;36m0\u001b[0m\u001b[1;33m)\u001b[0m\u001b[1;33m\u001b[0m\u001b[1;33m\u001b[0m\u001b[0m\n\u001b[0;32m    135\u001b[0m             \u001b[0mconst_idx\u001b[0m \u001b[1;33m=\u001b[0m \u001b[0mnp\u001b[0m\u001b[1;33m.\u001b[0m\u001b[0mwhere\u001b[0m\u001b[1;33m(\u001b[0m\u001b[0mexog_max\u001b[0m \u001b[1;33m==\u001b[0m \u001b[0mexog_min\u001b[0m\u001b[1;33m)\u001b[0m\u001b[1;33m[\u001b[0m\u001b[1;36m0\u001b[0m\u001b[1;33m]\u001b[0m\u001b[1;33m.\u001b[0m\u001b[0msqueeze\u001b[0m\u001b[1;33m(\u001b[0m\u001b[1;33m)\u001b[0m\u001b[1;33m\u001b[0m\u001b[1;33m\u001b[0m\u001b[0m\n",
      "\u001b[1;31mMissingDataError\u001b[0m: exog contains inf or nans"
     ]
    }
   ],
   "source": [
    "# see coefficient and p-value\n",
    "import statsmodels.api as sm\n",
    "input_features_drop_nan = processed_input_features\n",
    "input_features_drop_nan.dropna()\n",
    "reg_OLS = sm.OLS(np.asarray(target_output), np.asarray(input_features_drop_nan)).fit()\n",
    "print(reg_OLS.summary())"
   ]
  },
  {
   "cell_type": "code",
   "execution_count": null,
   "metadata": {},
   "outputs": [],
   "source": []
  }
 ],
 "metadata": {
  "kernelspec": {
   "display_name": "Python 3",
   "language": "python",
   "name": "python3"
  },
  "language_info": {
   "codemirror_mode": {
    "name": "ipython",
    "version": 3
   },
   "file_extension": ".py",
   "mimetype": "text/x-python",
   "name": "python",
   "nbconvert_exporter": "python",
   "pygments_lexer": "ipython3",
   "version": "3.7.6"
  }
 },
 "nbformat": 4,
 "nbformat_minor": 2
}
