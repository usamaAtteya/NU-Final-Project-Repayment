{
 "cells": [
  {
   "cell_type": "code",
   "execution_count": null,
   "metadata": {},
   "outputs": [],
   "source": [
    "# !pip install pandas\n",
    "# !pip install -U scikit-learn\n",
    "# !pip install matplotlib\n",
    "# !pip install scipy\n",
    "# !pip install seaborn\n",
    "# !pip install statsmodels"
   ]
  },
  {
   "cell_type": "code",
   "execution_count": null,
   "metadata": {
    "scrolled": true
   },
   "outputs": [],
   "source": [
    "import pandas as pd\n",
    "import matplotlib.pyplot as plt\n",
    "import numpy as np\n",
    "\n",
    "plt.rcParams.update({'font.size': 20, 'figure.figsize': (10, 8)}) # set font and plot size to be larger\n",
    "pd.set_option('display.max_columns',2000) # show all columns in jupyter\n",
    "\n",
    "\n"
   ]
  },
  {
   "cell_type": "code",
   "execution_count": null,
   "metadata": {},
   "outputs": [],
   "source": [
    "import sys\n",
    "sys.path.append(\"/Users/apple/.pyenv/versions/3.5.4/lib/python3.5/site-packages\")\n",
    "import seaborn as sns"
   ]
  },
  {
   "cell_type": "code",
   "execution_count": null,
   "metadata": {},
   "outputs": [],
   "source": [
    "colsToLoad =[\"INSTNM\",\"ADM_RATE\",\"ADM_RATE_ALL\",\"SATVR25\",\"SATVR75\",\"SATMT25\",\"SATMT75\",\"SATWR25\",\"SATWR75\",\"SATVRMID\",\"SATMTMID\",\"SATWRMID\",\"ACTCM25\",\"ACTCM75\",\"ACTEN25\",\"ACTEN75\",\"ACTMT25\",\"ACTMT75\",\"ACTWR25\",\"ACTWR75\",\"ACTCMMID\",\"ACTENMID\",\"ACTMTMID\",\"ACTWRMID\",\"SAT_AVG\",\"SAT_AVG_ALL\",\"UGDS\",\"UGDS_WHITE\",\"UGDS_BLACK\",\"UGDS_HISP\",\"UGDS_ASIAN\",\"UGDS_AIAN\",\"UGDS_NHPI\",\"UGDS_2MOR\",\"UGDS_NRA\",\"UGDS_UNKN\",\"PPTUG_EF\",\"COSTT4_A\",\"COSTT4_P\",\"TUITIONFEE_IN\",\"TUITIONFEE_OUT\",\"TUITIONFEE_PROG\",\"TUITFTE\",\"INEXPFTE\",\"AVGFACSAL\",\"PCTPELL\",\"DEATH_YR3_RT\",\"COMP_ORIG_YR3_RT\",\"LOAN_DEATH_YR3_RT\",\"LOAN_COMP_ORIG_YR3_RT\",\"DEATH_YR4_RT\",\"COMP_ORIG_YR4_RT\",\"COMPL_RPY_1YR_RT\",\"NONCOM_RPY_1YR_RT\",\"AGE_ENTRY\",\"COUNT_NWNE_P10\",\"COUNT_WNE_P10\",\"MN_EARN_WNE_P10\",\"MD_EARN_WNE_P10\",\"COMPL_RPY_3YR_RT\",\"NONCOM_RPY_3YR_RT\",\"GRAD_DEBT_MDN\"]\n",
    "scoreCardDF = pd.read_csv(\"CollegeScorecard_Raw_Data/MERGED2013_14_PP.csv\", index_col=\"INSTNM\",usecols=colsToLoad)"
   ]
  },
  {
   "cell_type": "code",
   "execution_count": null,
   "metadata": {},
   "outputs": [],
   "source": [
    "scoreCardDF.head()"
   ]
  },
  {
   "cell_type": "code",
   "execution_count": null,
   "metadata": {},
   "outputs": [],
   "source": [
    "scoreCardDF.shape"
   ]
  },
  {
   "cell_type": "code",
   "execution_count": null,
   "metadata": {},
   "outputs": [],
   "source": [
    "scoreCardDF.info()"
   ]
  },
  {
   "cell_type": "code",
   "execution_count": null,
   "metadata": {},
   "outputs": [],
   "source": [
    "scoreCardDF.describe()"
   ]
  },
  {
   "cell_type": "code",
   "execution_count": null,
   "metadata": {},
   "outputs": [],
   "source": [
    "scoreCardDF.corr()"
   ]
  },
  {
   "cell_type": "code",
   "execution_count": null,
   "metadata": {},
   "outputs": [],
   "source": [
    "scoreCardDF[\"COMPL_RPY_3YR_RT\"]"
   ]
  },
  {
   "cell_type": "code",
   "execution_count": null,
   "metadata": {
    "scrolled": true
   },
   "outputs": [],
   "source": [
    "sns.pairplot(data=scoreCardDF);"
   ]
  },
  {
   "cell_type": "code",
   "execution_count": null,
   "metadata": {},
   "outputs": [],
   "source": [
    "scoreCardDF.GRAD_DEBT_MDN"
   ]
  },
  {
   "cell_type": "code",
   "execution_count": null,
   "metadata": {},
   "outputs": [],
   "source": [
    "sns.relplot(x=\"GRAD_DEBT_MDN\", y=\"COMPL_RPY_3YR_RT\",data=scoreCardDF);"
   ]
  },
  {
   "cell_type": "code",
   "execution_count": null,
   "metadata": {},
   "outputs": [],
   "source": [
    "sns.relplot(y=\"GRAD_DEBT_MDN\", x=\"COMPL_RPY_3YR_RT\",\n",
    "\n",
    "            data=scoreCardDF);"
   ]
  },
  {
   "cell_type": "code",
   "execution_count": null,
   "metadata": {},
   "outputs": [],
   "source": [
    "#horizontal bat to find the most expensive institutes\n",
    "costDf = scoreCardDF[['COSTT4_A']].sort_values(by='COSTT4_A',ascending=False).head(20)\n",
    "ax = costDf.plot(kind='barh',title='Cost',legend=False)\n",
    "ax.invert_yaxis()"
   ]
  },
  {
   "cell_type": "code",
   "execution_count": null,
   "metadata": {},
   "outputs": [],
   "source": []
  }
 ],
 "metadata": {
  "kernelspec": {
   "display_name": "Python 3",
   "language": "python",
   "name": "python3"
  },
  "language_info": {
   "codemirror_mode": {
    "name": "ipython",
    "version": 3
   },
   "file_extension": ".py",
   "mimetype": "text/x-python",
   "name": "python",
   "nbconvert_exporter": "python",
   "pygments_lexer": "ipython3",
   "version": "3.5.4"
  }
 },
 "nbformat": 4,
 "nbformat_minor": 2
}
