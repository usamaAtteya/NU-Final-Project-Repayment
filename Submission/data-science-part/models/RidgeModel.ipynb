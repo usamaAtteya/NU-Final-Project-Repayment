{
 "cells": [
  {
   "cell_type": "markdown",
   "metadata": {},
   "source": [
    "# Ridge Regression Model"
   ]
  },
  {
   "cell_type": "code",
   "execution_count": 1,
   "metadata": {},
   "outputs": [],
   "source": [
    "import pandas as pd\n",
    "import matplotlib.pyplot as plt\n",
    "import numpy as np\n",
    "import sklearn as sklearn\n",
    "from sklearn.pipeline import Pipeline\n",
    "from sklearn.compose import ColumnTransformer\n",
    "from sklearn.preprocessing import StandardScaler, OneHotEncoder,LabelEncoder\n",
    "import seaborn as sns"
   ]
  },
  {
   "cell_type": "code",
   "execution_count": 2,
   "metadata": {},
   "outputs": [
    {
     "name": "stderr",
     "output_type": "stream",
     "text": [
      "/Users/apple/.pyenv/versions/3.5.4/lib/python3.5/site-packages/IPython/core/interactiveshell.py:3058: DtypeWarning: Columns (1606) have mixed types. Specify dtype option on import or set low_memory=False.\n",
      "  interactivity=interactivity, compiler=compiler, result=result)\n"
     ]
    }
   ],
   "source": [
    "colsToLoad =[\"INSTNM\",\"CONTROL\",\"ADM_RATE\",\"ADM_RATE_ALL\",\"ACTCMMID\",\"ACTENMID\",\"ACTMTMID\",\"ACTWRMID\",\"SAT_AVG\",\"SAT_AVG_ALL\",\"SATMTMID\",\"UGDS\",\"HIGHDEG\",  \"TUITFTE\", \"INEXPFTE\",  \"COSTT4_P\",\n",
    "             \"COSTT4_A\", \"PCTFLOAN\",\"COMP_ORIG_YR2_RT\", \"UGDS_WHITE\",\"UGDS_BLACK\",\"UGDS_HISP\",\"UGDS_ASIAN\",\"UGDS_AIAN\",\"UGDS_NHPI\",\"UGDS_2MOR\",\"UGDS_NRA\",\"UGDS_UNKN\",\"PPTUG_EF\",\"COSTT4_A\",\"COSTT4_P\",\"TUITIONFEE_IN\",\"TUITIONFEE_OUT\",\"TUITIONFEE_PROG\",\"TUITFTE\",\"INEXPFTE\",\"AVGFACSAL\",\"PCTPELL\",\"DEATH_YR3_RT\",\"COMP_ORIG_YR3_RT\",\"LOAN_DEATH_YR3_RT\",\"LOAN_COMP_ORIG_YR3_RT\",\"DEATH_YR4_RT\",\"COMP_ORIG_YR4_RT\",\"COMPL_RPY_1YR_RT\",\"AGE_ENTRY\",\"COUNT_NWNE_P10\",\"COUNT_WNE_P10\",\"MN_EARN_WNE_P10\",\"MD_EARN_WNE_P10\",\"COMPL_RPY_1YR_RT\"]\n",
    "scoreCardDF = pd.read_csv(\"../../data/CollegeScorecard_Raw_Data\", index_col=\"INSTNM\",usecols=colsToLoad)"
   ]
  },
  {
   "cell_type": "markdown",
   "metadata": {},
   "source": [
    "### drop all rows that do not have a value for target variable"
   ]
  },
  {
   "cell_type": "code",
   "execution_count": 3,
   "metadata": {},
   "outputs": [],
   "source": [
    "scoreCardDF =scoreCardDF[(scoreCardDF[\"COMPL_RPY_1YR_RT\"] != \"PrivacySuppressed\") & (scoreCardDF[\"COMPL_RPY_1YR_RT\"] != np.nan)  & (scoreCardDF[\"COMPL_RPY_1YR_RT\"] != None) &(scoreCardDF[\"COMPL_RPY_1YR_RT\"].notna())]"
   ]
  },
  {
   "cell_type": "markdown",
   "metadata": {},
   "source": [
    "### The following part shows the initial input features preparation\n",
    "    1. Drop the un-needed columns features (Index and target Cols)\n",
    "    2. Divide the features into two parts\n",
    "        2.1 Categorial features\n",
    "        2.2 float features"
   ]
  },
  {
   "cell_type": "code",
   "execution_count": 4,
   "metadata": {},
   "outputs": [],
   "source": [
    "# all features without the target & \n",
    "input_features =  [f for f in colsToLoad if f not in [\"INSTNM\",\"COMPL_RPY_1YR_RT\"]] \n",
    "cat_columns = [\"HIGHDEG\",\"CONTROL\"]\n",
    "float_columns = [f for f in input_features if f not in cat_columns]\n",
    "target_feature = \"COMPL_RPY_1YR_RT\""
   ]
  },
  {
   "cell_type": "markdown",
   "metadata": {},
   "source": [
    "## Data Pre-processing:\n",
    "    1. Replacing Privacy Suppressed value with null\n",
    "    2. One-Hot-Encoder for categorial features\n",
    "    3. Replace null valeues of input dataset with the \"Median\""
   ]
  },
  {
   "cell_type": "code",
   "execution_count": 5,
   "metadata": {},
   "outputs": [],
   "source": [
    "# this function is designed to convert PrivacySuppressed value in any input column to null.\n",
    "def cleanPrivacySuppressed(dataFrame):\n",
    "    for colName in dataFrame.columns:\n",
    "        dataFrame[colName] =  dataFrame[colName].replace(\"PrivacySuppressed\", np.nan)\n",
    "        dataFrame[colName] = dataFrame[colName].astype(float)\n",
    "    return dataFrame "
   ]
  },
  {
   "cell_type": "code",
   "execution_count": 6,
   "metadata": {},
   "outputs": [],
   "source": [
    "from sklearn.base import BaseEstimator, TransformerMixin\n",
    "from sklearn.preprocessing import OneHotEncoder\n",
    "class PrivacySuppressedHandler(BaseEstimator, TransformerMixin):\n",
    "    def fit(self, X, y=None):\n",
    "        return self  \n",
    "    def transform(self, X, y=None):\n",
    "        return cleanPrivacySuppressed(X)"
   ]
  },
  {
   "cell_type": "code",
   "execution_count": 7,
   "metadata": {},
   "outputs": [],
   "source": [
    "# pipe line for all float columns\n",
    "# it is a separate pipe line, because there is a potential to add more preprocessing steps based on model evaluation\n",
    "float_pipeline = ColumnTransformer([\n",
    "         (\"privacy_suppressed_hnadler\", PrivacySuppressedHandler(),float_columns),        \n",
    "    ])\n",
    "\n",
    "# pipe line for all Category columns\n",
    "cat_pipeline = ColumnTransformer([\n",
    "         (\"hot_encoder\",OneHotEncoder(sparse=False),cat_columns)\n",
    "    ])"
   ]
  },
  {
   "cell_type": "code",
   "execution_count": 8,
   "metadata": {},
   "outputs": [],
   "source": [
    "from sklearn.pipeline import FeatureUnion\n",
    "full_pipeline = FeatureUnion(\n",
    "    transformer_list=[ \n",
    "        (\"float_pipeline\", float_pipeline),\n",
    "        (\"cat_pipeline\", cat_pipeline)\n",
    "])"
   ]
  },
  {
   "cell_type": "code",
   "execution_count": 9,
   "metadata": {},
   "outputs": [],
   "source": [
    "processed_input_features = full_pipeline.fit_transform(scoreCardDF)\n",
    "target_output = scoreCardDF[target_feature]"
   ]
  },
  {
   "cell_type": "code",
   "execution_count": 10,
   "metadata": {},
   "outputs": [],
   "source": [
    "processed_input_features = pd.DataFrame(processed_input_features)"
   ]
  },
  {
   "cell_type": "markdown",
   "metadata": {},
   "source": [
    "### Splitting the data to training set (80%) and testing set (20%)"
   ]
  },
  {
   "cell_type": "code",
   "execution_count": 11,
   "metadata": {},
   "outputs": [],
   "source": [
    "#--split data to test and training data\n",
    "from sklearn.linear_model import Ridge, RidgeCV\n",
    "from sklearn.model_selection import train_test_split\n",
    "train_X, test_X, train_y, test_y = train_test_split(processed_input_features, target_output.values, test_size=0.2, random_state=0)"
   ]
  },
  {
   "cell_type": "markdown",
   "metadata": {},
   "source": [
    "### Using SciKit Simple Imputer to replace null values with median value"
   ]
  },
  {
   "cell_type": "code",
   "execution_count": 12,
   "metadata": {},
   "outputs": [],
   "source": [
    "from sklearn.impute import SimpleImputer\n",
    "\n",
    "def replaceNulls(dataFrame):\n",
    "    imputer = SimpleImputer(strategy='mean')\n",
    "    scoreCardDF_imputed = pd.DataFrame(imputer.fit_transform(dataFrame))\n",
    "    scoreCardDF_imputed.columns = dataFrame.columns\n",
    "    return scoreCardDF_imputed, imputer"
   ]
  },
  {
   "cell_type": "code",
   "execution_count": 13,
   "metadata": {},
   "outputs": [],
   "source": [
    "train_X,imp = replaceNulls(train_X)\n",
    "test_X = imp.transform(test_X)"
   ]
  },
  {
   "cell_type": "code",
   "execution_count": 14,
   "metadata": {},
   "outputs": [],
   "source": [
    "catHotColumns =[\"HIGHDEG_Non-degree-granting\",\"HIGHDEG_Certificate_degree\",\"HIGHDEG_Associate_degree\",\"HIGHDEG_Associate_degree\",\"HIGHDEG_Associate_degree\",\"CONTROL_Public\",\"CONTROL_Private_nonprofit\",\"CONTROL_Private for-profit\"]\n",
    "all_features = float_columns.copy()\n",
    "all_features.extend(catHotColumns)"
   ]
  },
  {
   "cell_type": "code",
   "execution_count": 15,
   "metadata": {},
   "outputs": [],
   "source": [
    "train_X.columns = all_features"
   ]
  },
  {
   "cell_type": "code",
   "execution_count": 33,
   "metadata": {},
   "outputs": [
    {
     "data": {
      "text/plain": [
       "['ADM_RATE',\n",
       " 'ADM_RATE_ALL',\n",
       " 'ACTCMMID',\n",
       " 'ACTENMID',\n",
       " 'ACTMTMID',\n",
       " 'ACTWRMID',\n",
       " 'SAT_AVG',\n",
       " 'SAT_AVG_ALL',\n",
       " 'SATMTMID',\n",
       " 'UGDS',\n",
       " 'TUITFTE',\n",
       " 'INEXPFTE',\n",
       " 'COSTT4_P',\n",
       " 'COSTT4_A',\n",
       " 'PCTFLOAN',\n",
       " 'COMP_ORIG_YR2_RT',\n",
       " 'UGDS_WHITE',\n",
       " 'UGDS_BLACK',\n",
       " 'UGDS_HISP',\n",
       " 'UGDS_ASIAN',\n",
       " 'UGDS_AIAN',\n",
       " 'UGDS_NHPI',\n",
       " 'UGDS_2MOR',\n",
       " 'UGDS_NRA',\n",
       " 'UGDS_UNKN',\n",
       " 'PPTUG_EF',\n",
       " 'COSTT4_A',\n",
       " 'COSTT4_P',\n",
       " 'TUITIONFEE_IN',\n",
       " 'TUITIONFEE_OUT',\n",
       " 'TUITIONFEE_PROG',\n",
       " 'TUITFTE',\n",
       " 'INEXPFTE',\n",
       " 'AVGFACSAL',\n",
       " 'PCTPELL',\n",
       " 'DEATH_YR3_RT',\n",
       " 'COMP_ORIG_YR3_RT',\n",
       " 'LOAN_DEATH_YR3_RT',\n",
       " 'LOAN_COMP_ORIG_YR3_RT',\n",
       " 'DEATH_YR4_RT',\n",
       " 'COMP_ORIG_YR4_RT',\n",
       " 'AGE_ENTRY',\n",
       " 'COUNT_NWNE_P10',\n",
       " 'COUNT_WNE_P10',\n",
       " 'MN_EARN_WNE_P10',\n",
       " 'MD_EARN_WNE_P10',\n",
       " 'HIGHDEG_Non-degree-granting',\n",
       " 'HIGHDEG_Certificate_degree',\n",
       " 'HIGHDEG_Associate_degree',\n",
       " 'HIGHDEG_Associate_degree',\n",
       " 'HIGHDEG_Associate_degree',\n",
       " 'CONTROL_Public',\n",
       " 'CONTROL_Private_nonprofit',\n",
       " 'CONTROL_Private for-profit']"
      ]
     },
     "execution_count": 33,
     "metadata": {},
     "output_type": "execute_result"
    }
   ],
   "source": [
    "all_features"
   ]
  },
  {
   "cell_type": "code",
   "execution_count": null,
   "metadata": {},
   "outputs": [],
   "source": []
  },
  {
   "cell_type": "markdown",
   "metadata": {},
   "source": [
    "### The following part shows the initial input features preparation\n",
    "    1. Detecting the Outliers by using skew function\n",
    "    2. Handling the outliers by replacing the outliers (less than 10% or larger than 90%) with the First and \n",
    "    third Quantile"
   ]
  },
  {
   "cell_type": "code",
   "execution_count": 16,
   "metadata": {},
   "outputs": [
    {
     "name": "stdout",
     "output_type": "stream",
     "text": [
      "ADM_RATE \t -0.8643161613285861 \n",
      "\n",
      "ADM_RATE_ALL \t -0.8837847299017442 \n",
      "\n",
      "ACTCMMID \t 0.8159101437970456 \n",
      "\n",
      "ACTENMID \t 0.9000318943693167 \n",
      "\n",
      "ACTMTMID \t 1.1345423045549232 \n",
      "\n",
      "ACTWRMID \t 2.7874337838217467 \n",
      "\n",
      "SAT_AVG \t 1.5042709310792484 \n",
      "\n",
      "SAT_AVG_ALL \t 1.3581802162895584 \n",
      "\n",
      "SATMTMID \t 1.6893195798962868 \n",
      "\n",
      "UGDS \t 7.945951435453446 \n",
      "\n",
      "TUITFTE \t TUITFTE    3.751721\n",
      "TUITFTE    3.751721\n",
      "dtype: float64 \n",
      "\n",
      "INEXPFTE \t INEXPFTE    9.944032\n",
      "INEXPFTE    9.944032\n",
      "dtype: float64 \n",
      "\n",
      "COSTT4_P \t COSTT4_P    1.729217\n",
      "COSTT4_P    1.729217\n",
      "dtype: float64 \n",
      "\n",
      "COSTT4_A \t COSTT4_A    1.069982\n",
      "COSTT4_A    1.069982\n",
      "dtype: float64 \n",
      "\n",
      "PCTFLOAN \t -0.6772392792015576 \n",
      "\n",
      "COMP_ORIG_YR2_RT \t 0.5452761369267128 \n",
      "\n",
      "UGDS_WHITE \t -0.33057709573385596 \n",
      "\n",
      "UGDS_BLACK \t 1.768974467813123 \n",
      "\n",
      "UGDS_HISP \t 2.435865412604955 \n",
      "\n",
      "UGDS_ASIAN \t 4.906249978305263 \n",
      "\n",
      "UGDS_AIAN \t 14.595488788052869 \n",
      "\n",
      "UGDS_NHPI \t 19.701681065713895 \n",
      "\n",
      "UGDS_2MOR \t 4.251356015858286 \n",
      "\n",
      "UGDS_NRA \t 5.064075792440333 \n",
      "\n",
      "UGDS_UNKN \t 3.71523355691396 \n",
      "\n",
      "PPTUG_EF \t 1.0818979388962324 \n",
      "\n",
      "COSTT4_A \t COSTT4_A    1.069982\n",
      "COSTT4_A    1.069982\n",
      "dtype: float64 \n",
      "\n",
      "COSTT4_P \t COSTT4_P    1.729217\n",
      "COSTT4_P    1.729217\n",
      "dtype: float64 \n",
      "\n",
      "TUITIONFEE_IN \t 1.2544997284624777 \n",
      "\n",
      "TUITIONFEE_OUT \t 1.2448312684850225 \n",
      "\n",
      "TUITIONFEE_PROG \t 4.920821959654742 \n",
      "\n",
      "TUITFTE \t TUITFTE    3.751721\n",
      "TUITFTE    3.751721\n",
      "dtype: float64 \n",
      "\n",
      "INEXPFTE \t INEXPFTE    9.944032\n",
      "INEXPFTE    9.944032\n",
      "dtype: float64 \n",
      "\n",
      "AVGFACSAL \t 1.0295293811451183 \n",
      "\n",
      "PCTPELL \t 0.09619093626565514 \n",
      "\n",
      "DEATH_YR3_RT \t 2.976699925228749 \n",
      "\n",
      "COMP_ORIG_YR3_RT \t 0.13635060243115724 \n",
      "\n",
      "LOAN_DEATH_YR3_RT \t 15.483392382411713 \n",
      "\n",
      "LOAN_COMP_ORIG_YR3_RT \t 0.6536994911942178 \n",
      "\n",
      "DEATH_YR4_RT \t 62.30187404263993 \n",
      "\n",
      "COMP_ORIG_YR4_RT \t 0.009440763155907908 \n",
      "\n",
      "AGE_ENTRY \t 0.23517593810967333 \n",
      "\n",
      "COUNT_NWNE_P10 \t 7.337558710794053 \n",
      "\n",
      "COUNT_WNE_P10 \t 7.517171740021882 \n",
      "\n",
      "MN_EARN_WNE_P10 \t 1.4616029639901396 \n",
      "\n",
      "MD_EARN_WNE_P10 \t 1.1101071151077007 \n",
      "\n",
      "HIGHDEG_Non-degree-granting \t 3.055653528152806 \n",
      "\n",
      "HIGHDEG_Certificate_degree \t 1.239788745395219 \n",
      "\n",
      "HIGHDEG_Associate_degree \t HIGHDEG_Associate_degree    1.092435\n",
      "HIGHDEG_Associate_degree    2.197192\n",
      "HIGHDEG_Associate_degree    0.920505\n",
      "dtype: float64 \n",
      "\n",
      "HIGHDEG_Associate_degree \t HIGHDEG_Associate_degree    1.092435\n",
      "HIGHDEG_Associate_degree    2.197192\n",
      "HIGHDEG_Associate_degree    0.920505\n",
      "dtype: float64 \n",
      "\n",
      "HIGHDEG_Associate_degree \t HIGHDEG_Associate_degree    1.092435\n",
      "HIGHDEG_Associate_degree    2.197192\n",
      "HIGHDEG_Associate_degree    0.920505\n",
      "dtype: float64 \n",
      "\n",
      "CONTROL_Public \t 1.0167385487516114 \n",
      "\n",
      "CONTROL_Private_nonprofit \t 1.2139817998998574 \n",
      "\n",
      "CONTROL_Private for-profit \t 0.056423003959101166 \n",
      "\n"
     ]
    }
   ],
   "source": [
    "for col in train_X.columns:\n",
    "    print(col, \"\\t\", train_X[col].skew(), \"\\n\")\n",
    "    \n",
    "outliers = ['ACTENMID', 'ACTENMID', 'ACTWRMID', 'SAT_AVG', 'SAT_AVG_ALL', 'SATMTMID', 'UGDS', 'TUITFTE', 'INEXPFTE',\n",
    "           'COSTT4_P', 'UGDS_BLACK', 'UGDS_HISP', 'UGDS_ASIAN', 'UGDS_AIAN', 'UGDS_NHPI', 'UGDS_2MOR',\n",
    "           'UGDS_NRA', 'UGDS_UNKN', 'TUITIONFEE_PROG', 'DEATH_YR3_RT', 'LOAN_DEATH_YR3_RT', 'DEATH_YR4_RT',\n",
    "           'COUNT_NWNE_P10', 'COUNT_WNE_P10', 'HIGHDEG_Non-degree-granting']"
   ]
  },
  {
   "cell_type": "code",
   "execution_count": 17,
   "metadata": {},
   "outputs": [],
   "source": [
    "def handleOutliers(outliers):\n",
    "    for col in outliers:\n",
    "        Q1 = train_X[col].quantile(0.10)\n",
    "        Q3 = train_X[col].quantile(0.90)\n",
    "        #print(\"col: \", col, \"Q1: \", Q1, \"Q3: \", Q3)\n",
    "        \n",
    "        train_X[col] = np.where(train_X[col] <Q1, Q1,train_X[col])\n",
    "        train_X[col] = np.where(train_X[col] >Q3, Q3,train_X[col])\n",
    "        print(\"New Skew Value: \", train_X[col].skew())"
   ]
  },
  {
   "cell_type": "code",
   "execution_count": 18,
   "metadata": {},
   "outputs": [],
   "source": [
    "#handleOutliers(outliers)"
   ]
  },
  {
   "cell_type": "markdown",
   "metadata": {},
   "source": [
    "### Exploring features importance by applying \"RFE\": Recursive Feature Estimation"
   ]
  },
  {
   "cell_type": "code",
   "execution_count": 19,
   "metadata": {},
   "outputs": [],
   "source": [
    "from sklearn.feature_selection import RFE\n",
    "def recursive_feat_estimate(model):\n",
    "    rfe = RFE(model, 10)\n",
    "    fit = rfe.fit(train_X, train_y)\n",
    "    print(\"Features sorted by their rank:\")\n",
    "    print(sorted(zip(map(lambda x: x, rfe.ranking_), all_features)))\n",
    "    return rfe"
   ]
  },
  {
   "cell_type": "markdown",
   "metadata": {},
   "source": [
    "### Fit, Train and Predict the model with initial alpha \"0.1\""
   ]
  },
  {
   "cell_type": "code",
   "execution_count": 20,
   "metadata": {},
   "outputs": [],
   "source": [
    "from sklearn.linear_model import LinearRegression\n"
   ]
  },
  {
   "cell_type": "code",
   "execution_count": 28,
   "metadata": {},
   "outputs": [],
   "source": [
    "#--fit the Ridge model\n",
    "ridgereg =LinearRegression()# Ridge(alpha=0.1,normalize=True)"
   ]
  },
  {
   "cell_type": "code",
   "execution_count": 29,
   "metadata": {},
   "outputs": [
    {
     "data": {
      "text/plain": [
       "LinearRegression(copy_X=True, fit_intercept=True, n_jobs=None, normalize=False)"
      ]
     },
     "execution_count": 29,
     "metadata": {},
     "output_type": "execute_result"
    }
   ],
   "source": [
    "ridgereg.fit(train_X, train_y)"
   ]
  },
  {
   "cell_type": "code",
   "execution_count": 30,
   "metadata": {},
   "outputs": [],
   "source": [
    "pred = ridgereg.predict(test_X)\n",
    "trainingPred = ridgereg.predict(train_X)"
   ]
  },
  {
   "cell_type": "code",
   "execution_count": 31,
   "metadata": {},
   "outputs": [
    {
     "data": {
      "text/plain": [
       "0.7524833699257861"
      ]
     },
     "execution_count": 31,
     "metadata": {},
     "output_type": "execute_result"
    }
   ],
   "source": [
    "ridgereg.score(test_X, test_y)"
   ]
  },
  {
   "cell_type": "code",
   "execution_count": 32,
   "metadata": {},
   "outputs": [
    {
     "name": "stdout",
     "output_type": "stream",
     "text": [
      "Mean SqError:  0.009761356646975864\n",
      "TrainSet Mean SqError:  0.010022086646405115\n"
     ]
    }
   ],
   "source": [
    "#--Calculate Root mean square error\n",
    "from sklearn.metrics import mean_squared_error\n",
    "\n",
    "mean = mean_squared_error(test_y, pred) \n",
    "rmse = np.sqrt(mean_squared_error(test_y,pred))\n",
    "\n",
    "#--Calculate Root mean square error on training set\n",
    "trainMean = mean_squared_error(train_y, trainingPred) \n",
    "trainRmse = np.sqrt(mean_squared_error(train_y,trainingPred)) \n",
    "\n",
    "print(\"Mean SqError: \", mean)\n",
    "#print(\"RMSE: \", rmse)\n",
    "\n",
    "print(\"TrainSet Mean SqError: \", trainMean)\n",
    "#print(\"TrainSet RMSE: \", trainRmse)"
   ]
  },
  {
   "cell_type": "code",
   "execution_count": 26,
   "metadata": {},
   "outputs": [
    {
     "data": {
      "text/plain": [
       "0.7524779754783193"
      ]
     },
     "execution_count": 26,
     "metadata": {},
     "output_type": "execute_result"
    }
   ],
   "source": [
    "from sklearn.metrics import r2_score\n",
    "r2_score(test_y, pred)"
   ]
  },
  {
   "cell_type": "code",
   "execution_count": 27,
   "metadata": {},
   "outputs": [
    {
     "data": {
      "text/plain": [
       "0.7425262509500967"
      ]
     },
     "execution_count": 27,
     "metadata": {},
     "output_type": "execute_result"
    }
   ],
   "source": [
    "r2_score(train_y, trainingPred)"
   ]
  },
  {
   "cell_type": "code",
   "execution_count": 32,
   "metadata": {},
   "outputs": [
    {
     "name": "stdout",
     "output_type": "stream",
     "text": [
      "Features sorted by their rank:\n",
      "[(1, 'CONTROL_Private for-profit'), (1, 'CONTROL_Private_nonprofit'), (1, 'CONTROL_Public'), (1, 'COSTT4_A'), (1, 'COSTT4_A'), (1, 'HIGHDEG_Associate_degree'), (1, 'HIGHDEG_Associate_degree'), (1, 'HIGHDEG_Associate_degree'), (1, 'HIGHDEG_Certificate_degree'), (1, 'HIGHDEG_Non-degree-granting'), (2, 'COSTT4_P'), (3, 'COSTT4_P'), (4, 'INEXPFTE'), (5, 'INEXPFTE'), (6, 'LOAN_DEATH_YR3_RT'), (7, 'DEATH_YR3_RT'), (8, 'DEATH_YR4_RT'), (9, 'PCTPELL'), (10, 'UGDS_BLACK'), (11, 'COMP_ORIG_YR3_RT'), (12, 'COMP_ORIG_YR2_RT'), (13, 'UGDS_NRA'), (14, 'PCTFLOAN'), (15, 'UGDS_ASIAN'), (16, 'TUITFTE'), (17, 'TUITFTE'), (18, 'COMP_ORIG_YR4_RT'), (19, 'UGDS_WHITE'), (20, 'ADM_RATE_ALL'), (21, 'ADM_RATE'), (22, 'LOAN_COMP_ORIG_YR3_RT'), (23, 'PPTUG_EF'), (24, 'UGDS_HISP'), (25, 'UGDS_AIAN'), (26, 'UGDS_UNKN'), (27, 'UGDS_NHPI'), (28, 'UGDS_2MOR'), (29, 'AGE_ENTRY'), (30, 'ACTMTMID'), (31, 'ACTWRMID'), (32, 'ACTCMMID'), (33, 'ACTENMID'), (34, 'SAT_AVG_ALL'), (35, 'SATMTMID'), (36, 'SAT_AVG'), (37, 'COUNT_NWNE_P10'), (38, 'COUNT_WNE_P10'), (39, 'AVGFACSAL'), (40, 'MD_EARN_WNE_P10'), (41, 'TUITIONFEE_IN'), (42, 'TUITIONFEE_OUT'), (43, 'UGDS'), (44, 'MN_EARN_WNE_P10'), (45, 'TUITIONFEE_PROG')]\n"
     ]
    },
    {
     "data": {
      "text/plain": [
       "RFE(estimator=LinearRegression(copy_X=True, fit_intercept=True, n_jobs=None,\n",
       "                               normalize=True),\n",
       "    n_features_to_select=10, step=1, verbose=0)"
      ]
     },
     "execution_count": 32,
     "metadata": {},
     "output_type": "execute_result"
    }
   ],
   "source": [
    "recursive_feat_estimate(ridgereg)"
   ]
  },
  {
   "cell_type": "code",
   "execution_count": 33,
   "metadata": {},
   "outputs": [
    {
     "data": {
      "text/plain": [
       "array([ 2.72796722e-02, -1.42412518e-02, -6.76779960e-03,  1.14388574e-03,\n",
       "        2.33434451e-03, -9.08206867e-03,  2.79398257e-04,  1.56760428e-04,\n",
       "       -3.87284833e-04, -8.44257830e-07, -2.62522969e+06, -1.16469135e+06,\n",
       "        1.29893958e+07, -1.17684732e+06,  5.48234540e-02, -6.94619929e-02,\n",
       "        8.56272830e-02, -1.28272108e-01,  5.66011070e-03,  2.04926459e-01,\n",
       "        3.84426676e-02, -3.46334145e-02, -6.03613381e-02,  1.87803773e-01,\n",
       "       -1.08237391e-02,  7.06474754e-02,  1.17684732e+06, -1.29893958e+07,\n",
       "        2.81920344e-06, -2.21781309e-06,  1.03297015e-07,  2.62522969e+06,\n",
       "        1.16469135e+06, -3.61610309e-06, -1.72775573e-01,  4.34778873e+00,\n",
       "        8.40141740e-02,  3.61877907e+01, -5.47355206e-02,  2.38956444e+00,\n",
       "        6.95093668e-02, -1.24301963e-02, -2.90458872e-05,  4.44657664e-06,\n",
       "        5.29442491e-07,  3.36873533e-06,  2.03216775e+11,  2.03216775e+11,\n",
       "        2.03216775e+11,  2.03216775e+11,  2.03216775e+11, -7.49415011e+11,\n",
       "       -7.49415011e+11, -7.49415011e+11])"
      ]
     },
     "execution_count": 33,
     "metadata": {},
     "output_type": "execute_result"
    }
   ],
   "source": [
    "ridgereg.coef_"
   ]
  },
  {
   "cell_type": "markdown",
   "metadata": {},
   "source": [
    "# Explore Ridge regression with built-in cross-validation."
   ]
  },
  {
   "cell_type": "code",
   "execution_count": 164,
   "metadata": {},
   "outputs": [],
   "source": [
    "#--Trying different alphas with CV = 10\n",
    "a = [1e-5, 1e-4, 1e-3, 0.01, 0.1, 1, 10, 100, 1000, 10000]\n",
    "ridgeCV = RidgeCV(alphas=a, normalize=True, cv=10, scoring='r2')"
   ]
  },
  {
   "cell_type": "code",
   "execution_count": 165,
   "metadata": {},
   "outputs": [
    {
     "name": "stdout",
     "output_type": "stream",
     "text": [
      "Best alpha using built-in RidgeCV: 0.001000\n"
     ]
    }
   ],
   "source": [
    "ridgeCV.fit(train_X, train_y)\n",
    "print(\"Best alpha using built-in RidgeCV: %f\" % ridgeCV.alpha_)"
   ]
  },
  {
   "cell_type": "code",
   "execution_count": 166,
   "metadata": {},
   "outputs": [
    {
     "data": {
      "text/plain": [
       "Ridge(alpha=0.001, copy_X=True, fit_intercept=True, max_iter=None,\n",
       "   normalize=True, random_state=None, solver='auto', tol=0.001)"
      ]
     },
     "execution_count": 166,
     "metadata": {},
     "output_type": "execute_result"
    }
   ],
   "source": [
    "#--using the best alpha to predict the test data \n",
    "alpha = ridgeCV.alpha_\n",
    "ridgeCV = Ridge(alpha=alpha,normalize=True)\n",
    "ridgeCV.fit(train_X, train_y)"
   ]
  },
  {
   "cell_type": "code",
   "execution_count": 167,
   "metadata": {},
   "outputs": [],
   "source": [
    "predCV = ridgeCV.predict(test_X)\n",
    "trainingPredCV = ridgeCV.predict(train_X)"
   ]
  },
  {
   "cell_type": "code",
   "execution_count": 168,
   "metadata": {},
   "outputs": [
    {
     "name": "stdout",
     "output_type": "stream",
     "text": [
      "Mean SqError:  0.009804302916383945\n",
      "TrainSet Mean SqError:  0.010007694100320057\n"
     ]
    }
   ],
   "source": [
    "#--Calculate Root mean square error\n",
    "from sklearn.metrics import mean_squared_error\n",
    "\n",
    "mean = mean_squared_error(test_y, predCV) \n",
    "rmse = np.sqrt(mean_squared_error(test_y,predCV))\n",
    "\n",
    "#--Calculate Root mean square error on training set\n",
    "trainMean = mean_squared_error(train_y, trainingPredCV) \n",
    "trainRmse = np.sqrt(mean_squared_error(train_y,trainingPredCV)) \n",
    "\n",
    "print(\"Mean SqError: \", mean)\n",
    "#print(\"RMSE: \", rmse)\n",
    "\n",
    "print(\"TrainSet Mean SqError: \", trainMean)\n",
    "#print(\"TrainSet RMSE: \", trainRmse)"
   ]
  },
  {
   "cell_type": "code",
   "execution_count": 169,
   "metadata": {},
   "outputs": [
    {
     "data": {
      "text/plain": [
       "0.7513943905694749"
      ]
     },
     "execution_count": 169,
     "metadata": {},
     "output_type": "execute_result"
    }
   ],
   "source": [
    "from sklearn.metrics import r2_score\n",
    "r2_score(test_y, predCV)"
   ]
  },
  {
   "cell_type": "code",
   "execution_count": 170,
   "metadata": {},
   "outputs": [
    {
     "data": {
      "text/plain": [
       "0.7428959237243533"
      ]
     },
     "execution_count": 170,
     "metadata": {},
     "output_type": "execute_result"
    }
   ],
   "source": [
    "r2_score(train_y, trainingPredCV)"
   ]
  },
  {
   "cell_type": "code",
   "execution_count": 171,
   "metadata": {},
   "outputs": [
    {
     "data": {
      "text/plain": [
       "array([ 2.94734679e-02, -2.38839521e-02, -7.71043939e-03,  9.87080222e-04,\n",
       "        2.30279466e-03, -9.11832568e-03,  2.86649898e-04,  1.76086646e-04,\n",
       "       -3.73084213e-04, -8.81616402e-07, -1.76727165e-07,  2.86476892e-07,\n",
       "       -9.01722667e-07, -9.10916525e-07,  5.51496479e-02, -6.83891563e-02,\n",
       "        8.59152923e-02, -1.28505896e-01,  5.21505518e-03,  2.03299681e-01,\n",
       "        3.71378363e-02, -3.53530471e-02, -5.95225520e-02,  1.88097390e-01,\n",
       "       -1.09125670e-02,  7.04237992e-02, -9.10916525e-07, -9.01722667e-07,\n",
       "        2.71962131e-06, -2.13426375e-06,  1.04743137e-07, -1.76727165e-07,\n",
       "        2.86476892e-07, -3.58722666e-06, -1.73142466e-01,  4.01115101e+00,\n",
       "        8.34887166e-02,  3.12536650e+01, -5.45617642e-02,  2.37375685e+00,\n",
       "        6.86481066e-02, -1.24159797e-02, -2.66487574e-05,  4.03221711e-06,\n",
       "        6.18024984e-07,  3.29370568e-06, -4.87340718e-02,  2.33475913e-02,\n",
       "       -2.37724863e-02, -5.93894490e-03,  2.27289934e-02,  4.53090687e-02,\n",
       "        3.97583301e-02, -6.51198663e-02])"
      ]
     },
     "execution_count": 171,
     "metadata": {},
     "output_type": "execute_result"
    }
   ],
   "source": [
    "ridgeCV.coef_"
   ]
  },
  {
   "cell_type": "code",
   "execution_count": 172,
   "metadata": {},
   "outputs": [
    {
     "name": "stdout",
     "output_type": "stream",
     "text": [
      "Features sorted by their rank:\n",
      "[(1, 'ADM_RATE'), (1, 'ADM_RATE_ALL'), (1, 'COMP_ORIG_YR2_RT'), (1, 'COMP_ORIG_YR4_RT'), (1, 'DEATH_YR3_RT'), (1, 'DEATH_YR4_RT'), (1, 'LOAN_DEATH_YR3_RT'), (1, 'PCTPELL'), (1, 'UGDS_BLACK'), (1, 'UGDS_NRA'), (2, 'CONTROL_Private for-profit'), (3, 'UGDS_ASIAN'), (4, 'UGDS_WHITE'), (5, 'PCTFLOAN'), (6, 'COMP_ORIG_YR3_RT'), (7, 'HIGHDEG_Non-degree-granting'), (8, 'LOAN_COMP_ORIG_YR3_RT'), (9, 'CONTROL_Public'), (10, 'CONTROL_Private_nonprofit'), (11, 'UGDS_2MOR'), (12, 'HIGHDEG_Certificate_degree'), (13, 'HIGHDEG_Associate_degree'), (14, 'PPTUG_EF'), (15, 'UGDS_NHPI'), (16, 'HIGHDEG_Associate_degree'), (17, 'UGDS_UNKN'), (18, 'UGDS_HISP'), (19, 'UGDS_AIAN'), (20, 'AGE_ENTRY'), (21, 'ACTMTMID'), (22, 'ACTWRMID'), (23, 'ACTCMMID'), (24, 'HIGHDEG_Associate_degree'), (25, 'ACTENMID'), (26, 'SAT_AVG_ALL'), (27, 'SATMTMID'), (28, 'SAT_AVG'), (29, 'MD_EARN_WNE_P10'), (30, 'AVGFACSAL'), (31, 'COUNT_NWNE_P10'), (32, 'COUNT_WNE_P10'), (33, 'COSTT4_P'), (34, 'TUITIONFEE_OUT'), (35, 'TUITIONFEE_IN'), (36, 'COSTT4_A'), (37, 'MN_EARN_WNE_P10'), (38, 'COSTT4_P'), (39, 'COSTT4_A'), (40, 'UGDS'), (41, 'INEXPFTE'), (42, 'TUITFTE'), (43, 'INEXPFTE'), (44, 'TUITFTE'), (45, 'TUITIONFEE_PROG')]\n"
     ]
    },
    {
     "data": {
      "text/plain": [
       "RFE(estimator=Ridge(alpha=0.001, copy_X=True, fit_intercept=True, max_iter=None,\n",
       "   normalize=True, random_state=None, solver='auto', tol=0.001),\n",
       "  n_features_to_select=10, step=1, verbose=0)"
      ]
     },
     "execution_count": 172,
     "metadata": {},
     "output_type": "execute_result"
    }
   ],
   "source": [
    "recursive_feat_estimate(ridgeCV)"
   ]
  },
  {
   "cell_type": "code",
   "execution_count": null,
   "metadata": {},
   "outputs": [],
   "source": []
  },
  {
   "cell_type": "code",
   "execution_count": null,
   "metadata": {},
   "outputs": [],
   "source": []
  }
 ],
 "metadata": {
  "kernelspec": {
   "display_name": "Python 3",
   "language": "python",
   "name": "python3"
  },
  "language_info": {
   "codemirror_mode": {
    "name": "ipython",
    "version": 3
   },
   "file_extension": ".py",
   "mimetype": "text/x-python",
   "name": "python",
   "nbconvert_exporter": "python",
   "pygments_lexer": "ipython3",
   "version": "3.5.4"
  }
 },
 "nbformat": 4,
 "nbformat_minor": 2
}
