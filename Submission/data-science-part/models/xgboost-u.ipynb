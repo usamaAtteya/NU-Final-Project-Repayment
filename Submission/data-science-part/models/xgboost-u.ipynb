{
 "cells": [
  {
   "cell_type": "code",
   "execution_count": 34,
   "metadata": {},
   "outputs": [],
   "source": [
    "# !pip install xgboost\n",
    "# !pip install graphviz\n",
    "# import sys\n",
    "# sys.path.append(\"/Users/apple/.pyenv/versions/3.5.4/lib/python3.5/site-packages/graphviz\")\n"
   ]
  },
  {
   "cell_type": "code",
   "execution_count": 35,
   "metadata": {},
   "outputs": [],
   "source": [
    "import pandas as pd\n",
    "import matplotlib.pyplot as plt\n",
    "import numpy as np\n",
    "import sklearn as sklearn\n",
    "from sklearn.pipeline import Pipeline\n",
    "from sklearn.compose import ColumnTransformer\n",
    "from sklearn.preprocessing import StandardScaler, OneHotEncoder,LabelEncoder\n",
    "from sklearn.model_selection import cross_validate,cross_val_score\n",
    "import xgboost\n",
    "import seaborn as sns"
   ]
  },
  {
   "cell_type": "markdown",
   "metadata": {},
   "source": [
    "### Since we have a lot of missing values and outliers, it is preferable to start with xgboost. \n",
    "### XGboost algorithm is invariant to outliers and can handle missing values by default\n",
    "### so first strategy is replacing any wrong/missing value by null, build the model and check the accuracy\n",
    "### based on the accuracy and model evaluation, it will be very clear which direction is better to take(differect imputation technique, deal with bias/variance of the model, ...)"
   ]
  },
  {
   "cell_type": "markdown",
   "metadata": {},
   "source": [
    "## First LOad all columns to test their contribution to model accurecy to select best features based on model accurracy and analysis in exploration file "
   ]
  },
  {
   "cell_type": "code",
   "execution_count": 36,
   "metadata": {},
   "outputs": [
    {
     "name": "stderr",
     "output_type": "stream",
     "text": [
      "/Users/apple/.pyenv/versions/3.5.4/lib/python3.5/site-packages/IPython/core/interactiveshell.py:3058: DtypeWarning: Columns (1606) have mixed types. Specify dtype option on import or set low_memory=False.\n",
      "  interactivity=interactivity, compiler=compiler, result=result)\n"
     ]
    }
   ],
   "source": [
    "colsToLoad =[\"INSTNM\",\"CONTROL\",\"ADM_RATE\",\"ADM_RATE_ALL\",\"ACTCMMID\",\"ACTENMID\",\"ACTMTMID\",\"ACTWRMID\",\"SAT_AVG\",\"SAT_AVG_ALL\",\"SATMTMID\",\"UGDS\",\"HIGHDEG\",  \"TUITFTE\",  \"COSTT4_P\",\n",
    "             \"COSTT4_A\", \"PCTFLOAN\",\"COMP_ORIG_YR2_RT\", \"UGDS_WHITE\",\"UGDS_BLACK\",\"UGDS_HISP\",\"UGDS_ASIAN\",\"UGDS_AIAN\",\"UGDS_NHPI\",\"UGDS_2MOR\",\"UGDS_NRA\",\"UGDS_UNKN\",\"PPTUG_EF\",\"TUITIONFEE_IN\",\"TUITIONFEE_OUT\",\"TUITIONFEE_PROG\",\"INEXPFTE\",\"AVGFACSAL\",\"PCTPELL\",\"DEATH_YR3_RT\",\"COMP_ORIG_YR3_RT\",\"LOAN_DEATH_YR3_RT\",\"LOAN_COMP_ORIG_YR3_RT\",\"DEATH_YR4_RT\",\"COMP_ORIG_YR4_RT\",\"AGE_ENTRY\",\"COUNT_NWNE_P10\",\"COUNT_WNE_P10\",\"MN_EARN_WNE_P10\",\"MD_EARN_WNE_P10\",\"COMPL_RPY_1YR_RT\"]\n",
    "scoreCardDF = pd.read_csv(\"../data/CollegeScorecard_Raw_Data/MERGED2013_14_PP.csv\", index_col=\"INSTNM\",usecols=colsToLoad)"
   ]
  },
  {
   "cell_type": "code",
   "execution_count": 37,
   "metadata": {},
   "outputs": [
    {
     "data": {
      "text/plain": [
       "['ACTCMMID',\n",
       " 'ACTENMID',\n",
       " 'ACTMTMID',\n",
       " 'ACTWRMID',\n",
       " 'ADM_RATE',\n",
       " 'ADM_RATE_ALL',\n",
       " 'AGE_ENTRY',\n",
       " 'AVGFACSAL',\n",
       " 'COMPL_RPY_1YR_RT',\n",
       " 'COMP_ORIG_YR2_RT',\n",
       " 'COMP_ORIG_YR3_RT',\n",
       " 'COMP_ORIG_YR4_RT',\n",
       " 'CONTROL',\n",
       " 'COSTT4_A',\n",
       " 'COSTT4_P',\n",
       " 'COUNT_NWNE_P10',\n",
       " 'COUNT_WNE_P10',\n",
       " 'DEATH_YR3_RT',\n",
       " 'DEATH_YR4_RT',\n",
       " 'HIGHDEG',\n",
       " 'INEXPFTE',\n",
       " 'INSTNM',\n",
       " 'LOAN_COMP_ORIG_YR3_RT',\n",
       " 'LOAN_DEATH_YR3_RT',\n",
       " 'MD_EARN_WNE_P10',\n",
       " 'MN_EARN_WNE_P10',\n",
       " 'PCTFLOAN',\n",
       " 'PCTPELL',\n",
       " 'PPTUG_EF',\n",
       " 'SATMTMID',\n",
       " 'SAT_AVG',\n",
       " 'SAT_AVG_ALL',\n",
       " 'TUITFTE',\n",
       " 'TUITIONFEE_IN',\n",
       " 'TUITIONFEE_OUT',\n",
       " 'TUITIONFEE_PROG',\n",
       " 'UGDS',\n",
       " 'UGDS_2MOR',\n",
       " 'UGDS_AIAN',\n",
       " 'UGDS_ASIAN',\n",
       " 'UGDS_BLACK',\n",
       " 'UGDS_HISP',\n",
       " 'UGDS_NHPI',\n",
       " 'UGDS_NRA',\n",
       " 'UGDS_UNKN',\n",
       " 'UGDS_WHITE']"
      ]
     },
     "execution_count": 37,
     "metadata": {},
     "output_type": "execute_result"
    }
   ],
   "source": [
    "colsToLoad.sort()\n",
    "colsToLoad"
   ]
  },
  {
   "cell_type": "markdown",
   "metadata": {},
   "source": [
    "## drop all rows that do not have a value for out target variable"
   ]
  },
  {
   "cell_type": "code",
   "execution_count": 38,
   "metadata": {},
   "outputs": [],
   "source": [
    "scoreCardDF =scoreCardDF[(scoreCardDF[\"COMPL_RPY_1YR_RT\"] != \"PrivacySuppressed\") & (scoreCardDF[\"COMPL_RPY_1YR_RT\"] != np.nan)  & (scoreCardDF[\"COMPL_RPY_1YR_RT\"] != None) &(scoreCardDF[\"COMPL_RPY_1YR_RT\"].notna())]\n"
   ]
  },
  {
   "cell_type": "markdown",
   "metadata": {},
   "source": [
    "## Now lets drop un-needed columns for input features\n",
    "### COMPL_RPY_1YR_RT is the target\n",
    "### INSTNM is the index but not needed in regression analysis\n",
    "### float_columns: float columns of type float will be treated differently in preprocessing \n",
    "### cat_columns : category columns of type float will be treated differently in preprocessing"
   ]
  },
  {
   "cell_type": "code",
   "execution_count": 39,
   "metadata": {},
   "outputs": [],
   "source": [
    "# all features without the target & \n",
    "input_features =  [f for f in colsToLoad if f not in [\"INSTNM\",\"COMPL_RPY_1YR_RT\"]] \n",
    "cat_columns = [\"HIGHDEG\",\"CONTROL\"]\n",
    "float_columns = [f for f in input_features if f not in cat_columns]\n",
    "target_feature = \"COMPL_RPY_1YR_RT\""
   ]
  },
  {
   "cell_type": "markdown",
   "metadata": {},
   "source": [
    "## Coming Cells are responsible for the preprocessing of float and cat columns"
   ]
  },
  {
   "cell_type": "code",
   "execution_count": 40,
   "metadata": {},
   "outputs": [],
   "source": [
    "# this function is designed to convert PrivacySuppressed value in any input column to null.\n",
    "# this is because our first strategy is keeping missing values, and let xgboot handle this situation\n",
    "def cleanPrivacySuppressed(dataFrame):\n",
    "    for colName in dataFrame.columns:\n",
    "        dataFrame[colName] =  dataFrame[colName].replace(\"PrivacySuppressed\", np.nan)\n",
    "        dataFrame[colName] = dataFrame[colName].astype(float)\n",
    "    return dataFrame "
   ]
  },
  {
   "cell_type": "code",
   "execution_count": 41,
   "metadata": {},
   "outputs": [],
   "source": [
    "from sklearn.base import BaseEstimator, TransformerMixin\n",
    "from sklearn.preprocessing import OneHotEncoder\n",
    "class PrivacySuppressedHandler(BaseEstimator, TransformerMixin):\n",
    "    def fit(self, X, y=None):\n",
    "        return self  \n",
    "    def transform(self, X, y=None):\n",
    "        return cleanPrivacySuppressed(X)\n",
    "  "
   ]
  },
  {
   "cell_type": "code",
   "execution_count": 42,
   "metadata": {},
   "outputs": [],
   "source": [
    "# pipe line for all float columns\n",
    "# it is a separate pipe line, because there is a potential to add more preprocessing steps based on model evaluation\n",
    "float_pipeline = ColumnTransformer([\n",
    "         (\"privacy_suppressed_hnadler\", PrivacySuppressedHandler(),float_columns),   \n",
    " \n",
    "    ])\n",
    "\n",
    "# pipe line for all Category columns\n",
    "cat_pipeline = ColumnTransformer([\n",
    "         (\"hot_encoder\",OneHotEncoder(),cat_columns)\n",
    "    ])\n"
   ]
  },
  {
   "cell_type": "markdown",
   "metadata": {},
   "source": [
    "## Biulding the whole pipline of preprocessing"
   ]
  },
  {
   "cell_type": "code",
   "execution_count": 43,
   "metadata": {},
   "outputs": [],
   "source": [
    "\n",
    "from sklearn.pipeline import FeatureUnion\n",
    "full_pipeline = FeatureUnion(\n",
    "    transformer_list=[ \n",
    "        (\"float_pipeline\", float_pipeline),\n",
    "        (\"cat_pipeline\", cat_pipeline)\n",
    "])"
   ]
  },
  {
   "cell_type": "code",
   "execution_count": 44,
   "metadata": {
    "scrolled": false
   },
   "outputs": [],
   "source": [
    "processed_input_features = full_pipeline.fit_transform(scoreCardDF)\n",
    "target_output = scoreCardDF[target_feature]"
   ]
  },
  {
   "cell_type": "markdown",
   "metadata": {},
   "source": [
    "## Now we will split ou db to train, validate (80/20)"
   ]
  },
  {
   "cell_type": "code",
   "execution_count": 45,
   "metadata": {},
   "outputs": [],
   "source": [
    "from sklearn.model_selection import train_test_split\n",
    "X_train, X_val, Y_train, Y_val = train_test_split(processed_input_features, target_output.values ,test_size=0.2)"
   ]
  },
  {
   "cell_type": "markdown",
   "metadata": {},
   "source": [
    "## Building Xgboost with default values, the chosen error function is squared_error\n",
    "## beacause we are very sesetive to higher errors"
   ]
  },
  {
   "cell_type": "code",
   "execution_count": 46,
   "metadata": {},
   "outputs": [],
   "source": [
    "model = xgboost.XGBRegressor(seed=42,objective=\"reg:squarederror\") \n"
   ]
  },
  {
   "cell_type": "code",
   "execution_count": 47,
   "metadata": {},
   "outputs": [
    {
     "data": {
      "text/plain": [
       "XGBRegressor(base_score=0.5, booster='gbtree', colsample_bylevel=1,\n",
       "             colsample_bynode=1, colsample_bytree=1, gamma=0,\n",
       "             importance_type='gain', learning_rate=0.1, max_delta_step=0,\n",
       "             max_depth=3, min_child_weight=1, missing=None, n_estimators=100,\n",
       "             n_jobs=1, nthread=None, objective='reg:squarederror',\n",
       "             random_state=0, reg_alpha=0, reg_lambda=1, scale_pos_weight=1,\n",
       "             seed=42, silent=None, subsample=1, verbosity=1)"
      ]
     },
     "execution_count": 47,
     "metadata": {},
     "output_type": "execute_result"
    }
   ],
   "source": [
    "# fit the model\n",
    "model.fit(X_train,Y_train)"
   ]
  },
  {
   "cell_type": "code",
   "execution_count": 48,
   "metadata": {},
   "outputs": [],
   "source": [
    "# mesure the accuracy of validation set\n",
    "prediction = model.predict(X_val)"
   ]
  },
  {
   "cell_type": "markdown",
   "metadata": {},
   "source": [
    "## Now lets measure the model accuracy on validation set"
   ]
  },
  {
   "cell_type": "code",
   "execution_count": 1,
   "metadata": {},
   "outputs": [],
   "source": [
    "from sklearn.metrics import mean_squared_error\n",
    "mean_squared_error(Y_val, prediction)"
   ]
  },
  {
   "cell_type": "markdown",
   "metadata": {},
   "source": [
    "## Now lets measure the model accuracy on Train set"
   ]
  },
  {
   "cell_type": "code",
   "execution_count": 50,
   "metadata": {},
   "outputs": [
    {
     "data": {
      "text/plain": [
       "0.0055507453464764675"
      ]
     },
     "execution_count": 50,
     "metadata": {},
     "output_type": "execute_result"
    }
   ],
   "source": [
    "mean_squared_error(Y_train, model.predict(X_train))"
   ]
  },
  {
   "cell_type": "markdown",
   "metadata": {},
   "source": [
    "## Now lets measure r squared error on validation set, to know how good is the fit"
   ]
  },
  {
   "cell_type": "code",
   "execution_count": 51,
   "metadata": {},
   "outputs": [
    {
     "data": {
      "text/plain": [
       "0.8115581329960441"
      ]
     },
     "execution_count": 51,
     "metadata": {},
     "output_type": "execute_result"
    }
   ],
   "source": [
    "from sklearn.metrics import r2_score\n",
    "r2_score(Y_val, prediction)"
   ]
  },
  {
   "cell_type": "markdown",
   "metadata": {},
   "source": [
    "## Now lets measure r squared error on train set"
   ]
  },
  {
   "cell_type": "code",
   "execution_count": 52,
   "metadata": {},
   "outputs": [
    {
     "data": {
      "text/plain": [
       "0.857800426135847"
      ]
     },
     "execution_count": 52,
     "metadata": {},
     "output_type": "execute_result"
    }
   ],
   "source": [
    "r2_score(Y_train, model.predict(X_train))"
   ]
  },
  {
   "cell_type": "markdown",
   "metadata": {},
   "source": [
    "# from results above, it seems xgboost is a potential for a good model but there is some overfitting because error in validation is higher and r squared is less"
   ]
  },
  {
   "cell_type": "markdown",
   "metadata": {},
   "source": [
    "# Now, Evaluation using cross validation"
   ]
  },
  {
   "cell_type": "code",
   "execution_count": 53,
   "metadata": {},
   "outputs": [],
   "source": [
    "\n",
    "from sklearn.model_selection import cross_validate,cross_val_score\n",
    "\n"
   ]
  },
  {
   "cell_type": "markdown",
   "metadata": {},
   "source": [
    "# Evaluation Using root mean squared error"
   ]
  },
  {
   "cell_type": "code",
   "execution_count": 54,
   "metadata": {},
   "outputs": [
    {
     "data": {
      "text/plain": [
       "array([-0.09507048, -0.09569047, -0.08928754, -0.08017776, -0.08517201,\n",
       "       -0.07963659, -0.09305667, -0.09121318, -0.08619059, -0.12119776])"
      ]
     },
     "execution_count": 54,
     "metadata": {},
     "output_type": "execute_result"
    }
   ],
   "source": [
    "cross_val_score(model,processed_input_features,target_output.values,cv=10,scoring='neg_root_mean_squared_error')"
   ]
  },
  {
   "cell_type": "code",
   "execution_count": 55,
   "metadata": {},
   "outputs": [
    {
     "data": {
      "text/plain": [
       "array([-0.09248456, -0.08509294, -0.10533189])"
      ]
     },
     "execution_count": 55,
     "metadata": {},
     "output_type": "execute_result"
    }
   ],
   "source": [
    "cross_val_score(model,processed_input_features,target_output.values,cv=3,scoring='neg_root_mean_squared_error')"
   ]
  },
  {
   "cell_type": "markdown",
   "metadata": {},
   "source": [
    "# Evaluation Using r squared"
   ]
  },
  {
   "cell_type": "code",
   "execution_count": 56,
   "metadata": {},
   "outputs": [
    {
     "data": {
      "text/plain": [
       "array([0.72365996, 0.72619765, 0.76113909, 0.80292646, 0.82425461,\n",
       "       0.82516832, 0.64431851, 0.59958678, 0.60560288, 0.33529425])"
      ]
     },
     "execution_count": 56,
     "metadata": {},
     "output_type": "execute_result"
    }
   ],
   "source": [
    "cross_val_score(model,processed_input_features,target_output.values,cv=10,scoring='r2')"
   ]
  },
  {
   "cell_type": "code",
   "execution_count": 57,
   "metadata": {},
   "outputs": [
    {
     "data": {
      "text/plain": [
       "array([0.75106527, 0.82043188, 0.47892856])"
      ]
     },
     "execution_count": 57,
     "metadata": {},
     "output_type": "execute_result"
    }
   ],
   "source": [
    "cross_val_score(model,processed_input_features,target_output.values,cv=3,scoring='r2')"
   ]
  },
  {
   "cell_type": "markdown",
   "metadata": {},
   "source": [
    "# it seems there are some data points that make probleme when added (last set of cross validation 10). I THINK THEY ARE THE CAUSE OF OVERFITTING\n",
    "# will be checked in tuning"
   ]
  },
  {
   "cell_type": "markdown",
   "metadata": {},
   "source": [
    "# Using Grid Search to search for best parameters to handle overfitting"
   ]
  },
  {
   "cell_type": "code",
   "execution_count": 16,
   "metadata": {},
   "outputs": [],
   "source": [
    "from sklearn.model_selection import GridSearchCV\n",
    "xgboost.XGBRegressor()"
   ]
  },
  {
   "cell_type": "code",
   "execution_count": 17,
   "metadata": {},
   "outputs": [],
   "source": [
    "param_grid = [\n",
    "{'max_depth':[2,3,4],\n",
    " 'learning_rate':[.1,.01,.001,.0001],\n",
    " 'min_child_weight':[1,2,3,5,7],\n",
    "  'subsample':[.7,.8,.9,1],\n",
    " 'colsample_bytree':[.7,.8,.9,1],\n",
    " 'n_estimators': [10, 50, 100,150]}\n",
    "]"
   ]
  },
  {
   "cell_type": "code",
   "execution_count": 19,
   "metadata": {},
   "outputs": [
    {
     "data": {
      "text/plain": [
       "GridSearchCV(cv=5, error_score=nan,\n",
       "             estimator=XGBRegressor(base_score=0.5, booster='gbtree',\n",
       "                                    colsample_bylevel=1, colsample_bynode=1,\n",
       "                                    colsample_bytree=1, gamma=0,\n",
       "                                    importance_type='gain', learning_rate=0.1,\n",
       "                                    max_delta_step=0, max_depth=3,\n",
       "                                    min_child_weight=1, missing=None,\n",
       "                                    n_estimators=100, n_jobs=1, nthread=None,\n",
       "                                    objective='reg:squarederror',\n",
       "                                    random_state=0, reg_alpha=...\n",
       "                                    subsample=1, verbosity=1),\n",
       "             iid='deprecated', n_jobs=None,\n",
       "             param_grid=[{'colsample_bytree': [0.7, 0.8, 0.9, 1],\n",
       "                          'learning_rate': [0.1, 0.01, 0.001, 0.0001],\n",
       "                          'max_depth': [2, 3, 4],\n",
       "                          'min_child_weight': [1, 2, 3, 5, 7],\n",
       "                          'n_estimators': [10, 50, 100, 150],\n",
       "                          'subsample': [0.7, 0.8, 0.9, 1]}],\n",
       "             pre_dispatch='2*n_jobs', refit=True, return_train_score=False,\n",
       "             scoring='neg_mean_squared_error', verbose=0)"
      ]
     },
     "execution_count": 19,
     "metadata": {},
     "output_type": "execute_result"
    }
   ],
   "source": [
    "grid_search = GridSearchCV(model, param_grid, cv=5, scoring='neg_mean_squared_error')\n",
    "grid_search.fit(X_train,Y_train)"
   ]
  },
  {
   "cell_type": "code",
   "execution_count": 21,
   "metadata": {},
   "outputs": [
    {
     "data": {
      "text/plain": [
       "XGBRegressor(base_score=0.5, booster='gbtree', colsample_bylevel=1,\n",
       "             colsample_bynode=1, colsample_bytree=1, gamma=0,\n",
       "             importance_type='gain', learning_rate=0.1, max_delta_step=0,\n",
       "             max_depth=4, min_child_weight=1, missing=None, n_estimators=150,\n",
       "             n_jobs=1, nthread=None, objective='reg:squarederror',\n",
       "             random_state=0, reg_alpha=0, reg_lambda=1, scale_pos_weight=1,\n",
       "             seed=42, silent=None, subsample=0.8, verbosity=1)"
      ]
     },
     "execution_count": 21,
     "metadata": {},
     "output_type": "execute_result"
    }
   ],
   "source": [
    "grid_search.best_estimator_"
   ]
  },
  {
   "cell_type": "code",
   "execution_count": 20,
   "metadata": {},
   "outputs": [
    {
     "data": {
      "text/plain": [
       "{'colsample_bytree': 1,\n",
       " 'learning_rate': 0.1,\n",
       " 'max_depth': 4,\n",
       " 'min_child_weight': 1,\n",
       " 'n_estimators': 150,\n",
       " 'subsample': 0.8}"
      ]
     },
     "execution_count": 20,
     "metadata": {},
     "output_type": "execute_result"
    }
   ],
   "source": [
    "grid_search.best_params_"
   ]
  },
  {
   "cell_type": "code",
   "execution_count": 58,
   "metadata": {},
   "outputs": [],
   "source": [
    "model =xgboost.XGBRegressor(base_score=0.5, booster='gbtree', colsample_bylevel=1,\n",
    "             colsample_bynode=1, colsample_bytree=1, gamma=0,\n",
    "             importance_type='gain', learning_rate=0.1, max_delta_step=0,\n",
    "             max_depth=4, min_child_weight=1, missing=None, n_estimators=150,\n",
    "             n_jobs=1, nthread=None, objective='reg:squarederror',\n",
    "             random_state=0, reg_alpha=0, reg_lambda=1, scale_pos_weight=1,\n",
    "             seed=42, silent=None, subsample=0.8, verbosity=1)"
   ]
  },
  {
   "cell_type": "code",
   "execution_count": 59,
   "metadata": {},
   "outputs": [
    {
     "data": {
      "text/plain": [
       "XGBRegressor(base_score=0.5, booster='gbtree', colsample_bylevel=1,\n",
       "             colsample_bynode=1, colsample_bytree=1, gamma=0,\n",
       "             importance_type='gain', learning_rate=0.1, max_delta_step=0,\n",
       "             max_depth=4, min_child_weight=1, missing=None, n_estimators=150,\n",
       "             n_jobs=1, nthread=None, objective='reg:squarederror',\n",
       "             random_state=0, reg_alpha=0, reg_lambda=1, scale_pos_weight=1,\n",
       "             seed=42, silent=None, subsample=0.8, verbosity=1)"
      ]
     },
     "execution_count": 59,
     "metadata": {},
     "output_type": "execute_result"
    }
   ],
   "source": [
    "\n",
    "model.fit(X_train,Y_train)\n"
   ]
  },
  {
   "cell_type": "code",
   "execution_count": 60,
   "metadata": {},
   "outputs": [],
   "source": [
    "# RMSE of validation set"
   ]
  },
  {
   "cell_type": "code",
   "execution_count": 61,
   "metadata": {},
   "outputs": [
    {
     "data": {
      "text/plain": [
       "0.0063678181191503536"
      ]
     },
     "execution_count": 61,
     "metadata": {},
     "output_type": "execute_result"
    }
   ],
   "source": [
    "mean_squared_error(Y_val, model.predict(X_val))"
   ]
  },
  {
   "cell_type": "code",
   "execution_count": 62,
   "metadata": {},
   "outputs": [],
   "source": [
    "# RMSE of train set"
   ]
  },
  {
   "cell_type": "code",
   "execution_count": 63,
   "metadata": {},
   "outputs": [
    {
     "data": {
      "text/plain": [
       "0.0031765399397438833"
      ]
     },
     "execution_count": 63,
     "metadata": {},
     "output_type": "execute_result"
    }
   ],
   "source": [
    "mean_squared_error(Y_train, model.predict(X_train))"
   ]
  },
  {
   "cell_type": "code",
   "execution_count": 64,
   "metadata": {},
   "outputs": [],
   "source": [
    "# r2 of validation set"
   ]
  },
  {
   "cell_type": "code",
   "execution_count": 65,
   "metadata": {},
   "outputs": [
    {
     "data": {
      "text/plain": [
       "0.8368018102048628"
      ]
     },
     "execution_count": 65,
     "metadata": {},
     "output_type": "execute_result"
    }
   ],
   "source": [
    "from sklearn.metrics import r2_score\n",
    "r2_score(Y_val, model.predict(X_val))\n"
   ]
  },
  {
   "cell_type": "code",
   "execution_count": 66,
   "metadata": {},
   "outputs": [],
   "source": [
    "# r2 of train set"
   ]
  },
  {
   "cell_type": "code",
   "execution_count": 67,
   "metadata": {},
   "outputs": [
    {
     "data": {
      "text/plain": [
       "0.9186230681469153"
      ]
     },
     "execution_count": 67,
     "metadata": {},
     "output_type": "execute_result"
    }
   ],
   "source": [
    "r2_score(Y_train, model.predict(X_train))"
   ]
  },
  {
   "cell_type": "markdown",
   "metadata": {},
   "source": [
    "# Recommendations from analysis above:\n",
    "## Try different sampling technique to make the validation set describe train set (and population better)"
   ]
  },
  {
   "cell_type": "markdown",
   "metadata": {},
   "source": [
    "# Very promising model, but lets first check feature importance to drop unimportant features"
   ]
  },
  {
   "cell_type": "code",
   "execution_count": 68,
   "metadata": {},
   "outputs": [],
   "source": [
    "# catHotColumns is how oneHotEncoder treats HIGHDEG AND CONTROL in preprocessing\n",
    "catHotColumns =[\"HIGHDEG_Non-degree-granting\",\"HIGHDEG_Certificate_degree\",\"HIGHDEG_Associate_degree\",\"HIGHDEG_Associate_degree\",\"HIGHDEG_Associate_degree\",\"CONTROL_Public\",\"CONTROL_Private_nonprofit\",\"CONTROL_Private for-profit\"]\n",
    "all_features = float_columns.copy()\n",
    "all_features.extend(catHotColumns)# ADD all toghether. this is the structre that gets out from the preprocessing pipline\n",
    "feature_name_importance =zip(all_features,model.feature_importances_)"
   ]
  },
  {
   "cell_type": "code",
   "execution_count": 69,
   "metadata": {},
   "outputs": [
    {
     "data": {
      "text/plain": [
       "array([0.00000000e+00, 0.00000000e+00, 0.00000000e+00, 0.00000000e+00,\n",
       "       0.00000000e+00, 0.00000000e+00, 0.00000000e+00, 3.94125527e-04,\n",
       "       4.90303850e-04, 6.18478574e-04, 8.21692578e-04, 8.96098209e-04,\n",
       "       9.10503324e-04, 1.01183762e-03, 1.02979678e-03, 1.20253488e-03,\n",
       "       1.23041170e-03, 1.46229193e-03, 1.57371594e-03, 1.64834736e-03,\n",
       "       1.78113650e-03, 1.80633867e-03, 1.82528130e-03, 1.90223206e-03,\n",
       "       1.92457123e-03, 1.95808918e-03, 1.99784734e-03, 2.07894179e-03,\n",
       "       2.10006163e-03, 2.14332412e-03, 2.27504619e-03, 2.59044580e-03,\n",
       "       2.81630759e-03, 2.87873158e-03, 3.06702033e-03, 3.92883224e-03,\n",
       "       4.32820152e-03, 4.34851972e-03, 5.15953591e-03, 6.41735736e-03,\n",
       "       7.46497884e-03, 7.71256024e-03, 8.98254476e-03, 1.04266405e-02,\n",
       "       1.34214256e-02, 1.36808157e-02, 1.68636162e-02, 2.97638755e-02,\n",
       "       2.86040336e-01, 5.35025299e-01], dtype=float32)"
      ]
     },
     "execution_count": 69,
     "metadata": {},
     "output_type": "execute_result"
    }
   ],
   "source": [
    "x = model.feature_importances_\n",
    "x.sort()\n",
    "x"
   ]
  },
  {
   "cell_type": "code",
   "execution_count": 70,
   "metadata": {},
   "outputs": [
    {
     "data": {
      "text/plain": [
       "[('CONTROL_Private for-profit', 0.5350253),\n",
       " ('SAT_AVG_ALL', 0.28604034),\n",
       " ('PCTPELL', 0.029763876),\n",
       " ('AGE_ENTRY', 0.016863616),\n",
       " ('MN_EARN_WNE_P10', 0.013680816),\n",
       " ('MD_EARN_WNE_P10', 0.013421426),\n",
       " ('UGDS_BLACK', 0.0104266405),\n",
       " ('COUNT_NWNE_P10', 0.008982545),\n",
       " ('UGDS_WHITE', 0.0077125602),\n",
       " ('DEATH_YR3_RT', 0.007464979),\n",
       " ('ADM_RATE_ALL', 0.0064173574),\n",
       " ('INEXPFTE', 0.005159536),\n",
       " ('COMP_ORIG_YR4_RT', 0.0043485197),\n",
       " ('PPTUG_EF', 0.0043282015),\n",
       " ('COMP_ORIG_YR2_RT', 0.0039288322),\n",
       " ('COMP_ORIG_YR3_RT', 0.0030670203),\n",
       " ('TUITIONFEE_PROG', 0.0028787316),\n",
       " ('TUITIONFEE_IN', 0.0028163076),\n",
       " ('HIGHDEG_Associate_degree', 0.0025904458),\n",
       " ('COSTT4_P', 0.0022750462),\n",
       " ('UGDS_ASIAN', 0.0021433241),\n",
       " ('SAT_AVG', 0.0021000616),\n",
       " ('TUITFTE', 0.0020789418),\n",
       " ('UGDS_HISP', 0.0019978473),\n",
       " ('COUNT_WNE_P10', 0.0019580892),\n",
       " ('LOAN_COMP_ORIG_YR3_RT', 0.0019245712),\n",
       " ('TUITIONFEE_OUT', 0.0019022321),\n",
       " ('PCTFLOAN', 0.0018252813),\n",
       " ('DEATH_YR4_RT', 0.0018063387),\n",
       " ('SATMTMID', 0.0017811365),\n",
       " ('UGDS_NRA', 0.0016483474),\n",
       " ('UGDS', 0.0015737159),\n",
       " ('AVGFACSAL', 0.0014622919),\n",
       " ('UGDS_UNKN', 0.0012304117),\n",
       " ('UGDS_2MOR', 0.0012025349),\n",
       " ('ACTMTMID', 0.0010297968),\n",
       " ('UGDS_AIAN', 0.0010118376),\n",
       " ('UGDS_NHPI', 0.0009105033),\n",
       " ('COSTT4_A', 0.0008960982),\n",
       " ('ADM_RATE', 0.0008216926),\n",
       " ('CONTROL_Private_nonprofit', 0.0006184786),\n",
       " ('ACTENMID', 0.00049030385),\n",
       " ('ACTCMMID', 0.00039412553),\n",
       " ('ACTWRMID', 0.0),\n",
       " ('LOAN_DEATH_YR3_RT', 0.0),\n",
       " ('HIGHDEG_Non-degree-granting', 0.0),\n",
       " ('HIGHDEG_Certificate_degree', 0.0),\n",
       " ('HIGHDEG_Associate_degree', 0.0),\n",
       " ('HIGHDEG_Associate_degree', 0.0),\n",
       " ('CONTROL_Public', 0.0)]"
      ]
     },
     "execution_count": 70,
     "metadata": {},
     "output_type": "execute_result"
    }
   ],
   "source": [
    "sorted(feature_name_importance, key=lambda x: x[1],reverse=True)"
   ]
  },
  {
   "cell_type": "code",
   "execution_count": 71,
   "metadata": {},
   "outputs": [
    {
     "data": {
      "image/png": "[encoded data removed]",
      "text/plain": [
       "<Figure size 432x288 with 1 Axes>"
      ]
     },
     "metadata": {
      "needs_background": "light"
     },
     "output_type": "display_data"
    }
   ],
   "source": [
    "feature_importance_df =pd.DataFrame(data=model.feature_importances_,index=all_features,columns=[\"feature_importance\"])\n",
    "ax = feature_importance_df.sort_values(\"feature_importance\",ascending=False).head(20).plot(kind='barh',title='feature_importance')\n",
    "ax.invert_yaxis()"
   ]
  },
  {
   "cell_type": "markdown",
   "metadata": {},
   "source": [
    "### Very interesting results as it is very compliant with our analysis in exploration\n",
    "### SAT_AVG_ALL, PCTPELL, AGEENTRY are highly correlated with target output from exporation\n",
    "### Now all features with 0 contribution will be dropped, \n",
    "### and as expected some 0 contribution features are highly correlated with SAT_AVG_ALL AND PCTPELL (from our exploration)\n",
    "### so they dont contribute anything in the tree"
   ]
  },
  {
   "cell_type": "code",
   "execution_count": 28,
   "metadata": {
    "scrolled": true
   },
   "outputs": [],
   "source": [
    "# from xgboost import plot_tree\n",
    "# from matplotlib.pylab import rcParams\n",
    "\n",
    "# ##set up the parameters\n",
    "# rcParams['figure.figsize'] = 80,50\n",
    "# plot_tree(model)"
   ]
  },
  {
   "cell_type": "code",
   "execution_count": 29,
   "metadata": {},
   "outputs": [],
   "source": [
    "# for i in range(len(all_features)):\n",
    "#     print(\"{} {}\".format(i , all_features[i] ))"
   ]
  },
  {
   "cell_type": "code",
   "execution_count": null,
   "metadata": {},
   "outputs": [],
   "source": []
  }
 ],
 "metadata": {
  "kernelspec": {
   "display_name": "Python 3",
   "language": "python",
   "name": "python3"
  },
  "language_info": {
   "codemirror_mode": {
    "name": "ipython",
    "version": 3
   },
   "file_extension": ".py",
   "mimetype": "text/x-python",
   "name": "python",
   "nbconvert_exporter": "python",
   "pygments_lexer": "ipython3",
   "version": "3.5.4"
  }
 },
 "nbformat": 4,
 "nbformat_minor": 2
}
