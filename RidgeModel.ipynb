{
 "cells": [
  {
   "cell_type": "code",
   "execution_count": 551,
   "metadata": {},
   "outputs": [],
   "source": [
    "import pandas as pd\n",
    "import matplotlib.pyplot as plt\n",
    "import numpy as np\n",
    "import sklearn as sklearn\n",
    "from sklearn.pipeline import Pipeline\n",
    "from sklearn.compose import ColumnTransformer\n",
    "from sklearn.preprocessing import StandardScaler, OneHotEncoder,LabelEncoder\n",
    "import seaborn as sns"
   ]
  },
  {
   "cell_type": "code",
   "execution_count": 552,
   "metadata": {},
   "outputs": [
    {
     "name": "stderr",
     "output_type": "stream",
     "text": [
      "/opt/conda/lib/python3.7/site-packages/IPython/core/interactiveshell.py:3044: DtypeWarning: Columns (1606) have mixed types. Specify dtype option on import or set low_memory=False.\n",
      "  interactivity=interactivity, compiler=compiler, result=result)\n"
     ]
    }
   ],
   "source": [
    "colsToLoad =[\"INSTNM\",\"CONTROL\",\"ADM_RATE\",\"ADM_RATE_ALL\",\"ACTCMMID\",\"ACTENMID\",\"ACTMTMID\",\"ACTWRMID\",\"SAT_AVG\",\"SAT_AVG_ALL\",\"SATMTMID\",\"UGDS\",\"HIGHDEG\",  \"TUITFTE\", \"INEXPFTE\",  \"COSTT4_P\",\n",
    "             \"COSTT4_A\", \"PCTFLOAN\",\"COMP_ORIG_YR2_RT\", \"UGDS_WHITE\",\"UGDS_BLACK\",\"UGDS_HISP\",\"UGDS_ASIAN\",\"UGDS_AIAN\",\"UGDS_NHPI\",\"UGDS_2MOR\",\"UGDS_NRA\",\"UGDS_UNKN\",\"PPTUG_EF\",\"COSTT4_A\",\"COSTT4_P\",\"TUITIONFEE_IN\",\"TUITIONFEE_OUT\",\"TUITIONFEE_PROG\",\"TUITFTE\",\"INEXPFTE\",\"AVGFACSAL\",\"PCTPELL\",\"DEATH_YR3_RT\",\"COMP_ORIG_YR3_RT\",\"LOAN_DEATH_YR3_RT\",\"LOAN_COMP_ORIG_YR3_RT\",\"DEATH_YR4_RT\",\"COMP_ORIG_YR4_RT\",\"COMPL_RPY_1YR_RT\",\"AGE_ENTRY\",\"COUNT_NWNE_P10\",\"COUNT_WNE_P10\",\"MN_EARN_WNE_P10\",\"MD_EARN_WNE_P10\",\"COMPL_RPY_1YR_RT\"]\n",
    "scoreCardDF = pd.read_csv(\"MERGED2013_14_PP.csv\", index_col=\"INSTNM\",usecols=colsToLoad)"
   ]
  },
  {
   "cell_type": "code",
   "execution_count": 553,
   "metadata": {},
   "outputs": [],
   "source": [
    "scoreCardDF =scoreCardDF[(scoreCardDF[\"COMPL_RPY_1YR_RT\"] != \"PrivacySuppressed\") & (scoreCardDF[\"COMPL_RPY_1YR_RT\"] != np.nan)  & (scoreCardDF[\"COMPL_RPY_1YR_RT\"] != None) &(scoreCardDF[\"COMPL_RPY_1YR_RT\"].notna())]"
   ]
  },
  {
   "cell_type": "code",
   "execution_count": 554,
   "metadata": {},
   "outputs": [],
   "source": [
    "# all features without the target & \n",
    "input_features =  [f for f in colsToLoad if f not in [\"INSTNM\",\"COMPL_RPY_1YR_RT\"]] \n",
    "cat_columns = [\"HIGHDEG\",\"CONTROL\"]\n",
    "float_columns = [f for f in input_features if f not in cat_columns]\n",
    "target_feature = \"COMPL_RPY_1YR_RT\""
   ]
  },
  {
   "cell_type": "code",
   "execution_count": 555,
   "metadata": {},
   "outputs": [],
   "source": [
    "# this function is designed to convert PrivacySuppressed value in any input column to null.\n",
    "def cleanPrivacySuppressed(dataFrame):\n",
    "    for colName in dataFrame.columns:\n",
    "        dataFrame[colName] =  dataFrame[colName].replace(\"PrivacySuppressed\", np.nan)\n",
    "        dataFrame[colName] = dataFrame[colName].astype(float)\n",
    "    return dataFrame "
   ]
  },
  {
   "cell_type": "code",
   "execution_count": 556,
   "metadata": {},
   "outputs": [],
   "source": [
    "from sklearn.base import BaseEstimator, TransformerMixin\n",
    "from sklearn.preprocessing import OneHotEncoder\n",
    "class PrivacySuppressedHandler(BaseEstimator, TransformerMixin):\n",
    "    def fit(self, X, y=None):\n",
    "        return self  \n",
    "    def transform(self, X, y=None):\n",
    "        return cleanPrivacySuppressed(X)"
   ]
  },
  {
   "cell_type": "code",
   "execution_count": 557,
   "metadata": {},
   "outputs": [],
   "source": [
    "# pipe line for all float columns\n",
    "# it is a separate pipe line, because there is a potential to add more preprocessing steps based on model evaluation\n",
    "float_pipeline = ColumnTransformer([\n",
    "         (\"privacy_suppressed_hnadler\", PrivacySuppressedHandler(),float_columns),        \n",
    "    ])\n",
    "\n",
    "# pipe line for all Category columns\n",
    "cat_pipeline = ColumnTransformer([\n",
    "         (\"hot_encoder\",OneHotEncoder(sparse=False),cat_columns)\n",
    "    ])"
   ]
  },
  {
   "cell_type": "code",
   "execution_count": 558,
   "metadata": {},
   "outputs": [],
   "source": [
    "from sklearn.pipeline import FeatureUnion\n",
    "full_pipeline = FeatureUnion(\n",
    "    transformer_list=[ \n",
    "        (\"float_pipeline\", float_pipeline),\n",
    "        (\"cat_pipeline\", cat_pipeline)\n",
    "])"
   ]
  },
  {
   "cell_type": "code",
   "execution_count": 559,
   "metadata": {},
   "outputs": [
    {
     "name": "stderr",
     "output_type": "stream",
     "text": [
      "/opt/conda/lib/python3.7/site-packages/sklearn/preprocessing/_encoders.py:371: FutureWarning: The handling of integer data will change in version 0.22. Currently, the categories are determined based on the range [0, max(values)], while in the future they will be determined based on the unique values.\n",
      "If you want the future behaviour and silence this warning, you can specify \"categories='auto'\".\n",
      "In case you used a LabelEncoder before this OneHotEncoder to convert the categories to integers, then you can now use the OneHotEncoder directly.\n",
      "  warnings.warn(msg, FutureWarning)\n"
     ]
    }
   ],
   "source": [
    "processed_input_features = full_pipeline.fit_transform(scoreCardDF)\n",
    "target_output = scoreCardDF[target_feature]"
   ]
  },
  {
   "cell_type": "code",
   "execution_count": 560,
   "metadata": {},
   "outputs": [],
   "source": [
    "processed_input_features = pd.DataFrame(processed_input_features)"
   ]
  },
  {
   "cell_type": "code",
   "execution_count": 561,
   "metadata": {},
   "outputs": [],
   "source": [
    "#--split data to test and training data\n",
    "from sklearn.linear_model import Ridge, RidgeCV\n",
    "from sklearn.model_selection import train_test_split\n",
    "train_X, test_X, train_y, test_y = train_test_split(processed_input_features, target_output.values, test_size=0.2, random_state=0)"
   ]
  },
  {
   "cell_type": "markdown",
   "metadata": {},
   "source": [
    "# Using SciKit Simple Imputer to replace null values with median value"
   ]
  },
  {
   "cell_type": "code",
   "execution_count": 562,
   "metadata": {},
   "outputs": [],
   "source": [
    "from sklearn.impute import SimpleImputer\n",
    "\n",
    "def replaceNulls(dataFrame):\n",
    "    imputer = SimpleImputer(strategy='median')\n",
    "    scoreCardDF_imputed = pd.DataFrame(imputer.fit_transform(dataFrame))\n",
    "    scoreCardDF_imputed.columns = dataFrame.columns\n",
    "    return scoreCardDF_imputed, imputer"
   ]
  },
  {
   "cell_type": "code",
   "execution_count": 563,
   "metadata": {},
   "outputs": [],
   "source": [
    "train_X,imp = replaceNulls(train_X)\n",
    "test_X = imp.fit_transform(test_X)"
   ]
  },
  {
   "cell_type": "code",
   "execution_count": 564,
   "metadata": {},
   "outputs": [],
   "source": [
    "catHotColumns =[\"HIGHDEG_Non-degree-granting\",\"HIGHDEG_Certificate_degree\",\"HIGHDEG_Associate_degree\",\"HIGHDEG_Associate_degree\",\"HIGHDEG_Associate_degree\",\"CONTROL_Public\",\"CONTROL_Private_nonprofit\",\"CONTROL_Private for-profit\"]\n",
    "all_features = float_columns.copy()\n",
    "all_features.extend(catHotColumns)"
   ]
  },
  {
   "cell_type": "code",
   "execution_count": 565,
   "metadata": {},
   "outputs": [],
   "source": [
    "train_X.columns = all_features"
   ]
  },
  {
   "cell_type": "code",
   "execution_count": 566,
   "metadata": {},
   "outputs": [
    {
     "name": "stdout",
     "output_type": "stream",
     "text": [
      "ADM_RATE \t -1.1389354030588208 \n",
      "\n",
      "ADM_RATE_ALL \t -1.2364634807491872 \n",
      "\n",
      "ACTCMMID \t 0.8479968824827924 \n",
      "\n",
      "ACTENMID \t 1.7674415564711146 \n",
      "\n",
      "ACTMTMID \t 1.9192349338510628 \n",
      "\n",
      "ACTWRMID \t 7.398108987200559 \n",
      "\n",
      "SAT_AVG \t 2.1573139587289214 \n",
      "\n",
      "SAT_AVG_ALL \t 1.8589879397055689 \n",
      "\n",
      "SATMTMID \t 2.247876534261437 \n",
      "\n",
      "UGDS \t 7.9136754866592405 \n",
      "\n",
      "TUITFTE \t TUITFTE    3.772172\n",
      "TUITFTE    3.772172\n",
      "dtype: float64 \n",
      "\n",
      "INEXPFTE \t INEXPFTE    9.949202\n",
      "INEXPFTE    9.949202\n",
      "dtype: float64 \n",
      "\n",
      "COSTT4_P \t COSTT4_P    2.226925\n",
      "COSTT4_P    2.226925\n",
      "dtype: float64 \n",
      "\n",
      "COSTT4_A \t COSTT4_A    1.226009\n",
      "COSTT4_A    1.226009\n",
      "dtype: float64 \n",
      "\n",
      "PCTFLOAN \t -0.7161603961158066 \n",
      "\n",
      "COMP_ORIG_YR2_RT \t 0.5698450626947548 \n",
      "\n",
      "UGDS_WHITE \t -0.36580027282275723 \n",
      "\n",
      "UGDS_BLACK \t 1.8241999616639633 \n",
      "\n",
      "UGDS_HISP \t 2.4797150379155597 \n",
      "\n",
      "UGDS_ASIAN \t 4.922824661132807 \n",
      "\n",
      "UGDS_AIAN \t 14.580523087121943 \n",
      "\n",
      "UGDS_NHPI \t 19.6671210505093 \n",
      "\n",
      "UGDS_2MOR \t 4.277533713367993 \n",
      "\n",
      "UGDS_NRA \t 5.053697211987563 \n",
      "\n",
      "UGDS_UNKN \t 3.7428552851693326 \n",
      "\n",
      "PPTUG_EF \t 1.1327263727462669 \n",
      "\n",
      "COSTT4_A \t COSTT4_A    1.226009\n",
      "COSTT4_A    1.226009\n",
      "dtype: float64 \n",
      "\n",
      "COSTT4_P \t COSTT4_P    2.226925\n",
      "COSTT4_P    2.226925\n",
      "dtype: float64 \n",
      "\n",
      "TUITIONFEE_IN \t 1.3976872661351647 \n",
      "\n",
      "TUITIONFEE_OUT \t 1.4627705473008077 \n",
      "\n",
      "TUITIONFEE_PROG \t 5.485780872078873 \n",
      "\n",
      "TUITFTE \t TUITFTE    3.772172\n",
      "TUITFTE    3.772172\n",
      "dtype: float64 \n",
      "\n",
      "INEXPFTE \t INEXPFTE    9.949202\n",
      "INEXPFTE    9.949202\n",
      "dtype: float64 \n",
      "\n",
      "AVGFACSAL \t 1.1344673150482574 \n",
      "\n",
      "PCTPELL \t 0.11650764637455326 \n",
      "\n",
      "DEATH_YR3_RT \t 2.368817458098208 \n",
      "\n",
      "COMP_ORIG_YR3_RT \t 0.135595086533255 \n",
      "\n",
      "LOAN_DEATH_YR3_RT \t 4.512827914568686 \n",
      "\n",
      "LOAN_COMP_ORIG_YR3_RT \t 0.949537404002844 \n",
      "\n",
      "DEATH_YR4_RT \t 62.437309455942376 \n",
      "\n",
      "COMP_ORIG_YR4_RT \t 0.006147799393243545 \n",
      "\n",
      "AGE_ENTRY \t 0.23517593810967333 \n",
      "\n",
      "COUNT_NWNE_P10 \t 7.3579855082996755 \n",
      "\n",
      "COUNT_WNE_P10 \t 7.528510240636847 \n",
      "\n",
      "MN_EARN_WNE_P10 \t 1.4933375278392473 \n",
      "\n",
      "MD_EARN_WNE_P10 \t 1.1391459226257714 \n",
      "\n",
      "HIGHDEG_Non-degree-granting \t 3.055653528152806 \n",
      "\n",
      "HIGHDEG_Certificate_degree \t 1.239788745395219 \n",
      "\n",
      "HIGHDEG_Associate_degree \t HIGHDEG_Associate_degree    1.092435\n",
      "HIGHDEG_Associate_degree    2.197192\n",
      "HIGHDEG_Associate_degree    0.920505\n",
      "dtype: float64 \n",
      "\n",
      "HIGHDEG_Associate_degree \t HIGHDEG_Associate_degree    1.092435\n",
      "HIGHDEG_Associate_degree    2.197192\n",
      "HIGHDEG_Associate_degree    0.920505\n",
      "dtype: float64 \n",
      "\n",
      "HIGHDEG_Associate_degree \t HIGHDEG_Associate_degree    1.092435\n",
      "HIGHDEG_Associate_degree    2.197192\n",
      "HIGHDEG_Associate_degree    0.920505\n",
      "dtype: float64 \n",
      "\n",
      "CONTROL_Public \t 1.0167385487516114 \n",
      "\n",
      "CONTROL_Private_nonprofit \t 1.2139817998998574 \n",
      "\n",
      "CONTROL_Private for-profit \t 0.056423003959101166 \n",
      "\n"
     ]
    }
   ],
   "source": [
    "for col in train_X.columns:\n",
    "    print(col, \"\\t\", train_X[col].skew(), \"\\n\")\n",
    "    \n",
    "outliers = ['ACTWRMID', 'UGDS', 'TUITFTE', 'INEXPFTE', 'UGDS_ASIAN', 'UGDS_AIAN', 'UGDS_NHPI', 'UGDS_2MOR',\n",
    "           'UGDS_NRA', 'UGDS_UNKN', 'TUITIONFEE_PROG', 'TUITFTE', 'INEXPFTE', 'LOAN_DEATH_YR3_RT', 'DEATH_YR4_RT',\n",
    "           'COUNT_NWNE_P10', 'COUNT_WNE_P10', 'HIGHDEG_Non-degree-granting']"
   ]
  },
  {
   "cell_type": "code",
   "execution_count": 567,
   "metadata": {},
   "outputs": [],
   "source": [
    "def handleOutliers(outliers):\n",
    "    for col in outliers:\n",
    "        Q1 = train_X[col].quantile(0.10)\n",
    "        Q3 = train_X[col].quantile(0.90)\n",
    "        print(\"col: \", col, \"Q1: \", Q1, \"Q3: \", Q3)\n",
    "        \n",
    "        train_X[col] = np.where(train_X[col] <Q1, Q1,train_X[col])\n",
    "        train_X[col] = np.where(train_X[col] >Q3, Q3,train_X[col])\n",
    "        print(\"New Skew Value: \", train_X[col].skew())"
   ]
  },
  {
   "cell_type": "code",
   "execution_count": 568,
   "metadata": {},
   "outputs": [],
   "source": [
    "#handleOutliers(outliers)"
   ]
  },
  {
   "cell_type": "code",
   "execution_count": 569,
   "metadata": {},
   "outputs": [],
   "source": [
    "from sklearn.feature_selection import RFE\n",
    "def recursive_feat_estimate(model):\n",
    "    rfe = RFE(model, 10)\n",
    "    fit = rfe.fit(train_X, train_y)\n",
    "    print(\"Features sorted by their rank:\")\n",
    "    print(sorted(zip(map(lambda x: x, rfe.ranking_), all_features)))\n",
    "    return rfe"
   ]
  },
  {
   "cell_type": "code",
   "execution_count": 570,
   "metadata": {},
   "outputs": [],
   "source": [
    "#--fit the Ridge model\n",
    "ridgereg = Ridge(alpha=0.1,normalize=True)"
   ]
  },
  {
   "cell_type": "code",
   "execution_count": 571,
   "metadata": {},
   "outputs": [
    {
     "data": {
      "text/plain": [
       "Ridge(alpha=0.1, copy_X=True, fit_intercept=True, max_iter=None,\n",
       "   normalize=True, random_state=None, solver='auto', tol=0.001)"
      ]
     },
     "execution_count": 571,
     "metadata": {},
     "output_type": "execute_result"
    }
   ],
   "source": [
    "ridgereg.fit(train_X, train_y)"
   ]
  },
  {
   "cell_type": "code",
   "execution_count": 572,
   "metadata": {},
   "outputs": [],
   "source": [
    "pred = ridgereg.predict(test_X)\n",
    "trainingPred = ridgereg.predict(train_X)"
   ]
  },
  {
   "cell_type": "code",
   "execution_count": 573,
   "metadata": {},
   "outputs": [
    {
     "data": {
      "text/plain": [
       "0.7491994433563522"
      ]
     },
     "execution_count": 573,
     "metadata": {},
     "output_type": "execute_result"
    }
   ],
   "source": [
    "ridgereg.score(test_X, test_y)"
   ]
  },
  {
   "cell_type": "code",
   "execution_count": 574,
   "metadata": {},
   "outputs": [
    {
     "name": "stdout",
     "output_type": "stream",
     "text": [
      "Mean:  0.009890865433666731\n",
      "RMSE:  0.0994528301943526\n",
      "TrainMean:  0.010164878640429486\n",
      "TrainRMSE:  0.10082102280987575\n"
     ]
    }
   ],
   "source": [
    "#--Calculate Root mean square error\n",
    "from sklearn.metrics import mean_squared_error\n",
    "\n",
    "mean = mean_squared_error(test_y, pred) \n",
    "rmse = np.sqrt(mean_squared_error(test_y,pred))\n",
    "\n",
    "#--Calculate Root mean square error on training set\n",
    "trainMean = mean_squared_error(train_y, trainingPred) \n",
    "trainRmse = np.sqrt(mean_squared_error(train_y,trainingPred)) \n",
    "\n",
    "print(\"Mean: \", mean)\n",
    "print(\"RMSE: \", rmse)\n",
    "\n",
    "\n",
    "print(\"TrainMean: \", trainMean)\n",
    "print(\"TrainRMSE: \", trainRmse)"
   ]
  },
  {
   "cell_type": "code",
   "execution_count": 575,
   "metadata": {},
   "outputs": [
    {
     "data": {
      "text/plain": [
       "0.7491994433563522"
      ]
     },
     "execution_count": 575,
     "metadata": {},
     "output_type": "execute_result"
    }
   ],
   "source": [
    "from sklearn.metrics import r2_score\n",
    "r2_score(test_y, pred)"
   ]
  },
  {
   "cell_type": "code",
   "execution_count": 576,
   "metadata": {},
   "outputs": [
    {
     "data": {
      "text/plain": [
       "0.7388577521351204"
      ]
     },
     "execution_count": 576,
     "metadata": {},
     "output_type": "execute_result"
    }
   ],
   "source": [
    "r2_score(train_y, trainingPred)"
   ]
  },
  {
   "cell_type": "code",
   "execution_count": 577,
   "metadata": {},
   "outputs": [
    {
     "name": "stdout",
     "output_type": "stream",
     "text": [
      "Features sorted by their rank:\n",
      "[(1, 'COMP_ORIG_YR2_RT'), (1, 'COMP_ORIG_YR4_RT'), (1, 'CONTROL_Private for-profit'), (1, 'DEATH_YR3_RT'), (1, 'DEATH_YR4_RT'), (1, 'LOAN_DEATH_YR3_RT'), (1, 'PCTPELL'), (1, 'UGDS_ASIAN'), (1, 'UGDS_BLACK'), (1, 'UGDS_NRA'), (2, 'UGDS_WHITE'), (3, 'PCTFLOAN'), (4, 'ADM_RATE_ALL'), (5, 'COMP_ORIG_YR3_RT'), (6, 'HIGHDEG_Non-degree-granting'), (7, 'CONTROL_Public'), (8, 'CONTROL_Private_nonprofit'), (9, 'LOAN_COMP_ORIG_YR3_RT'), (10, 'ADM_RATE'), (11, 'UGDS_NHPI'), (12, 'HIGHDEG_Associate_degree'), (13, 'HIGHDEG_Associate_degree'), (14, 'PPTUG_EF'), (15, 'UGDS_UNKN'), (16, 'UGDS_2MOR'), (17, 'UGDS_HISP'), (18, 'AGE_ENTRY'), (19, 'UGDS_AIAN'), (20, 'ACTMTMID'), (21, 'HIGHDEG_Certificate_degree'), (22, 'ACTCMMID'), (23, 'HIGHDEG_Associate_degree'), (24, 'ACTWRMID'), (25, 'ACTENMID'), (26, 'SAT_AVG_ALL'), (27, 'SAT_AVG'), (28, 'SATMTMID'), (29, 'MD_EARN_WNE_P10'), (30, 'COUNT_NWNE_P10'), (31, 'COSTT4_P'), (32, 'MN_EARN_WNE_P10'), (33, 'COSTT4_P'), (34, 'UGDS'), (35, 'COSTT4_A'), (36, 'COSTT4_A'), (37, 'TUITIONFEE_IN'), (38, 'INEXPFTE'), (39, 'TUITFTE'), (40, 'INEXPFTE'), (41, 'TUITFTE'), (42, 'TUITIONFEE_OUT'), (43, 'COUNT_WNE_P10'), (44, 'AVGFACSAL'), (45, 'TUITIONFEE_PROG')]\n"
     ]
    },
    {
     "data": {
      "text/plain": [
       "RFE(estimator=Ridge(alpha=0.1, copy_X=True, fit_intercept=True, max_iter=None,\n",
       "   normalize=True, random_state=None, solver='auto', tol=0.001),\n",
       "  n_features_to_select=10, step=1, verbose=0)"
      ]
     },
     "execution_count": 577,
     "metadata": {},
     "output_type": "execute_result"
    }
   ],
   "source": [
    "recursive_feat_estimate(ridgereg)"
   ]
  },
  {
   "cell_type": "code",
   "execution_count": 578,
   "metadata": {},
   "outputs": [
    {
     "data": {
      "text/plain": [
       "array([ 2.66445771e-02, -2.07551533e-02, -3.34987652e-03,  1.05717816e-03,\n",
       "        5.63733008e-04, -5.71080722e-03,  7.81414544e-05,  1.49869958e-04,\n",
       "       -1.53326534e-04, -8.22825557e-07, -2.35552144e-07,  2.75406726e-07,\n",
       "       -9.38709188e-07, -3.84325928e-07,  2.98450406e-02, -4.29750760e-02,\n",
       "        9.00518151e-02, -1.27467676e-01, -6.79393107e-03,  1.51618609e-01,\n",
       "        2.34956657e-02,  1.02414657e-02, -5.99170138e-02,  1.74944613e-01,\n",
       "       -1.47857306e-02,  5.45984815e-02, -3.84325928e-07, -9.38709188e-07,\n",
       "        5.33643402e-07, -2.20147388e-07,  1.66425211e-07, -2.35552144e-07,\n",
       "        2.75406726e-07, -1.73909915e-07, -1.50008778e-01, -6.69926612e-01,\n",
       "        5.02732354e-02, -5.25754907e+00, -5.33464045e-02,  1.98160493e+00,\n",
       "        6.93086349e-02, -1.08708332e-02, -4.65446239e-06,  2.19847789e-07,\n",
       "        1.53640938e-06,  2.31742013e-06, -5.10410751e-02,  1.43060434e-02,\n",
       "       -1.93448679e-02, -1.17804831e-03,  2.47359532e-02,  3.76637312e-02,\n",
       "        4.00830510e-02, -5.92764739e-02])"
      ]
     },
     "execution_count": 578,
     "metadata": {},
     "output_type": "execute_result"
    }
   ],
   "source": [
    "ridgereg.coef_"
   ]
  },
  {
   "cell_type": "markdown",
   "metadata": {},
   "source": [
    "# Explore Ridge regression with built-in cross-validation."
   ]
  },
  {
   "cell_type": "code",
   "execution_count": 579,
   "metadata": {},
   "outputs": [],
   "source": [
    "#--Trying different alphas with CV = 3\n",
    "a = [0.01, 0.001, 0.1, 1, 10]\n",
    "ridgeCV = RidgeCV(alphas=a, normalize=True, cv=3, scoring='r2')"
   ]
  },
  {
   "cell_type": "code",
   "execution_count": 580,
   "metadata": {},
   "outputs": [
    {
     "name": "stdout",
     "output_type": "stream",
     "text": [
      "Best alpha using built-in RidgeCV: 0.001000\n"
     ]
    }
   ],
   "source": [
    "ridgeCV.fit(train_X, train_y)\n",
    "print(\"Best alpha using built-in RidgeCV: %f\" % ridgeCV.alpha_)"
   ]
  },
  {
   "cell_type": "code",
   "execution_count": 581,
   "metadata": {},
   "outputs": [
    {
     "data": {
      "text/plain": [
       "Ridge(alpha=0.001, copy_X=True, fit_intercept=True, max_iter=None,\n",
       "   normalize=True, random_state=None, solver='auto', tol=0.001)"
      ]
     },
     "execution_count": 581,
     "metadata": {},
     "output_type": "execute_result"
    }
   ],
   "source": [
    "#--using the best alpha to predict the test data \n",
    "alpha = ridgeCV.alpha_\n",
    "ridgeCV = Ridge(alpha=alpha,normalize=True)\n",
    "ridgeCV.fit(train_X, train_y)"
   ]
  },
  {
   "cell_type": "code",
   "execution_count": 582,
   "metadata": {},
   "outputs": [],
   "source": [
    "predCV = ridgeCV.predict(test_X)\n",
    "trainingPredCV = ridgeCV.predict(train_X)"
   ]
  },
  {
   "cell_type": "code",
   "execution_count": 583,
   "metadata": {},
   "outputs": [
    {
     "data": {
      "text/plain": [
       "0.7503770797432057"
      ]
     },
     "execution_count": 583,
     "metadata": {},
     "output_type": "execute_result"
    }
   ],
   "source": [
    "#Calculate Ridge Accuracy\n",
    "ridgeCV.score(test_X, test_y)"
   ]
  },
  {
   "cell_type": "code",
   "execution_count": 584,
   "metadata": {},
   "outputs": [
    {
     "name": "stdout",
     "output_type": "stream",
     "text": [
      "Mean:  0.009844422781433276\n",
      "RMSE:  0.09921906460672403\n",
      "TrainMean:  0.010007694100320057\n",
      "TrainRMSE:  0.10003846310454823\n"
     ]
    }
   ],
   "source": [
    "#--Calculate Root mean square error\n",
    "from sklearn.metrics import mean_squared_error\n",
    "\n",
    "mean = mean_squared_error(test_y, predCV) \n",
    "rmse = np.sqrt(mean_squared_error(test_y,predCV))\n",
    "\n",
    "#--Calculate Root mean square error on training set\n",
    "trainMean = mean_squared_error(train_y, trainingPredCV) \n",
    "trainRmse = np.sqrt(mean_squared_error(train_y,trainingPredCV)) \n",
    "\n",
    "print(\"Mean: \", mean)\n",
    "print(\"RMSE: \", rmse)\n",
    "\n",
    "\n",
    "print(\"TrainMean: \", trainMean)\n",
    "print(\"TrainRMSE: \", trainRmse)"
   ]
  },
  {
   "cell_type": "code",
   "execution_count": 585,
   "metadata": {},
   "outputs": [
    {
     "data": {
      "text/plain": [
       "0.7503770797432058"
      ]
     },
     "execution_count": 585,
     "metadata": {},
     "output_type": "execute_result"
    }
   ],
   "source": [
    "from sklearn.metrics import r2_score\n",
    "r2_score(test_y, predCV)"
   ]
  },
  {
   "cell_type": "code",
   "execution_count": 586,
   "metadata": {},
   "outputs": [
    {
     "data": {
      "text/plain": [
       "0.7428959237243533"
      ]
     },
     "execution_count": 586,
     "metadata": {},
     "output_type": "execute_result"
    }
   ],
   "source": [
    "r2_score(train_y, trainingPredCV)"
   ]
  },
  {
   "cell_type": "code",
   "execution_count": 587,
   "metadata": {},
   "outputs": [
    {
     "data": {
      "text/plain": [
       "array([ 2.94734679e-02, -2.38839521e-02, -7.71043939e-03,  9.87080222e-04,\n",
       "        2.30279466e-03, -9.11832568e-03,  2.86649898e-04,  1.76086646e-04,\n",
       "       -3.73084213e-04, -8.81616402e-07, -1.76727165e-07,  2.86476892e-07,\n",
       "       -9.01722667e-07, -9.10916525e-07,  5.51496479e-02, -6.83891563e-02,\n",
       "        8.59152923e-02, -1.28505896e-01,  5.21505518e-03,  2.03299681e-01,\n",
       "        3.71378363e-02, -3.53530471e-02, -5.95225520e-02,  1.88097390e-01,\n",
       "       -1.09125670e-02,  7.04237992e-02, -9.10916525e-07, -9.01722667e-07,\n",
       "        2.71962131e-06, -2.13426375e-06,  1.04743137e-07, -1.76727165e-07,\n",
       "        2.86476892e-07, -3.58722666e-06, -1.73142466e-01,  4.01115101e+00,\n",
       "        8.34887166e-02,  3.12536650e+01, -5.45617642e-02,  2.37375685e+00,\n",
       "        6.86481066e-02, -1.24159797e-02, -2.66487574e-05,  4.03221711e-06,\n",
       "        6.18024984e-07,  3.29370568e-06, -4.87340718e-02,  2.33475913e-02,\n",
       "       -2.37724863e-02, -5.93894490e-03,  2.27289934e-02,  4.53090687e-02,\n",
       "        3.97583301e-02, -6.51198663e-02])"
      ]
     },
     "execution_count": 587,
     "metadata": {},
     "output_type": "execute_result"
    }
   ],
   "source": [
    "ridgeCV.coef_"
   ]
  },
  {
   "cell_type": "code",
   "execution_count": 588,
   "metadata": {},
   "outputs": [
    {
     "name": "stdout",
     "output_type": "stream",
     "text": [
      "Features sorted by their rank:\n",
      "[(1, 'ADM_RATE'), (1, 'ADM_RATE_ALL'), (1, 'COMP_ORIG_YR2_RT'), (1, 'COMP_ORIG_YR4_RT'), (1, 'DEATH_YR3_RT'), (1, 'DEATH_YR4_RT'), (1, 'LOAN_DEATH_YR3_RT'), (1, 'PCTPELL'), (1, 'UGDS_BLACK'), (1, 'UGDS_NRA'), (2, 'CONTROL_Private for-profit'), (3, 'UGDS_ASIAN'), (4, 'UGDS_WHITE'), (5, 'PCTFLOAN'), (6, 'COMP_ORIG_YR3_RT'), (7, 'HIGHDEG_Non-degree-granting'), (8, 'LOAN_COMP_ORIG_YR3_RT'), (9, 'CONTROL_Public'), (10, 'CONTROL_Private_nonprofit'), (11, 'UGDS_2MOR'), (12, 'HIGHDEG_Certificate_degree'), (13, 'HIGHDEG_Associate_degree'), (14, 'PPTUG_EF'), (15, 'UGDS_NHPI'), (16, 'HIGHDEG_Associate_degree'), (17, 'UGDS_UNKN'), (18, 'UGDS_HISP'), (19, 'UGDS_AIAN'), (20, 'AGE_ENTRY'), (21, 'ACTMTMID'), (22, 'ACTWRMID'), (23, 'ACTCMMID'), (24, 'HIGHDEG_Associate_degree'), (25, 'ACTENMID'), (26, 'SAT_AVG_ALL'), (27, 'SATMTMID'), (28, 'SAT_AVG'), (29, 'MD_EARN_WNE_P10'), (30, 'AVGFACSAL'), (31, 'COUNT_NWNE_P10'), (32, 'COUNT_WNE_P10'), (33, 'COSTT4_P'), (34, 'TUITIONFEE_OUT'), (35, 'TUITIONFEE_IN'), (36, 'COSTT4_A'), (37, 'MN_EARN_WNE_P10'), (38, 'COSTT4_P'), (39, 'COSTT4_A'), (40, 'UGDS'), (41, 'INEXPFTE'), (42, 'TUITFTE'), (43, 'INEXPFTE'), (44, 'TUITFTE'), (45, 'TUITIONFEE_PROG')]\n"
     ]
    },
    {
     "data": {
      "text/plain": [
       "RFE(estimator=Ridge(alpha=0.001, copy_X=True, fit_intercept=True, max_iter=None,\n",
       "   normalize=True, random_state=None, solver='auto', tol=0.001),\n",
       "  n_features_to_select=10, step=1, verbose=0)"
      ]
     },
     "execution_count": 588,
     "metadata": {},
     "output_type": "execute_result"
    }
   ],
   "source": [
    "recursive_feat_estimate(ridgeCV)"
   ]
  },
  {
   "cell_type": "code",
   "execution_count": null,
   "metadata": {},
   "outputs": [],
   "source": []
  }
 ],
 "metadata": {
  "kernelspec": {
   "display_name": "Python 3",
   "language": "python",
   "name": "python3"
  },
  "language_info": {
   "codemirror_mode": {
    "name": "ipython",
    "version": 3
   },
   "file_extension": ".py",
   "mimetype": "text/x-python",
   "name": "python",
   "nbconvert_exporter": "python",
   "pygments_lexer": "ipython3",
   "version": "3.7.1"
  }
 },
 "nbformat": 4,
 "nbformat_minor": 2
}
