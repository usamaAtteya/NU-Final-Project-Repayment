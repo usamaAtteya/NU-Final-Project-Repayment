{
 "cells": [
  {
   "cell_type": "markdown",
   "metadata": {},
   "source": [
    "# Lasso Regression Model"
   ]
  },
  {
   "cell_type": "code",
   "execution_count": 125,
   "metadata": {},
   "outputs": [],
   "source": [
    "import pandas as pd\n",
    "import matplotlib.pyplot as plt\n",
    "import numpy as np\n",
    "import sklearn as sklearn\n",
    "from sklearn.pipeline import Pipeline\n",
    "from sklearn.compose import ColumnTransformer\n",
    "from sklearn.preprocessing import StandardScaler, OneHotEncoder,LabelEncoder\n",
    "import seaborn as sns"
   ]
  },
  {
   "cell_type": "code",
   "execution_count": 126,
   "metadata": {},
   "outputs": [
    {
     "name": "stderr",
     "output_type": "stream",
     "text": [
      "/opt/conda/lib/python3.7/site-packages/IPython/core/interactiveshell.py:3044: DtypeWarning: Columns (1606) have mixed types. Specify dtype option on import or set low_memory=False.\n",
      "  interactivity=interactivity, compiler=compiler, result=result)\n"
     ]
    }
   ],
   "source": [
    "colsToLoad =[\"INSTNM\",\"CONTROL\",\"ADM_RATE\",\"ADM_RATE_ALL\",\"ACTCMMID\",\"ACTENMID\",\"ACTMTMID\",\"ACTWRMID\",\"SAT_AVG\",\"SAT_AVG_ALL\",\"SATMTMID\",\"UGDS\",\"HIGHDEG\",  \"TUITFTE\", \"INEXPFTE\",  \"COSTT4_P\",\n",
    "             \"COSTT4_A\", \"PCTFLOAN\",\"COMP_ORIG_YR2_RT\", \"UGDS_WHITE\",\"UGDS_BLACK\",\"UGDS_HISP\",\"UGDS_ASIAN\",\"UGDS_AIAN\",\"UGDS_NHPI\",\"UGDS_2MOR\",\"UGDS_NRA\",\"UGDS_UNKN\",\"PPTUG_EF\",\"COSTT4_A\",\"COSTT4_P\",\"TUITIONFEE_IN\",\"TUITIONFEE_OUT\",\"TUITIONFEE_PROG\",\"TUITFTE\",\"INEXPFTE\",\"AVGFACSAL\",\"PCTPELL\",\"DEATH_YR3_RT\",\"COMP_ORIG_YR3_RT\",\"LOAN_DEATH_YR3_RT\",\"LOAN_COMP_ORIG_YR3_RT\",\"DEATH_YR4_RT\",\"COMP_ORIG_YR4_RT\",\"COMPL_RPY_1YR_RT\",\"AGE_ENTRY\",\"COUNT_NWNE_P10\",\"COUNT_WNE_P10\",\"MN_EARN_WNE_P10\",\"MD_EARN_WNE_P10\",\"COMPL_RPY_1YR_RT\"]\n",
    "scoreCardDF = pd.read_csv(\"MERGED2013_14_PP.csv\", index_col=\"INSTNM\",usecols=colsToLoad)"
   ]
  },
  {
   "cell_type": "markdown",
   "metadata": {},
   "source": [
    "### drop all rows that do not have a value for target variable"
   ]
  },
  {
   "cell_type": "code",
   "execution_count": 127,
   "metadata": {},
   "outputs": [],
   "source": [
    "scoreCardDF =scoreCardDF[(scoreCardDF[\"COMPL_RPY_1YR_RT\"] != \"PrivacySuppressed\") & (scoreCardDF[\"COMPL_RPY_1YR_RT\"] != np.nan)  & (scoreCardDF[\"COMPL_RPY_1YR_RT\"] != None) &(scoreCardDF[\"COMPL_RPY_1YR_RT\"].notna())]"
   ]
  },
  {
   "cell_type": "markdown",
   "metadata": {},
   "source": [
    "### The following part shows the initial input features preparation\n",
    "    1. Drop the un-needed columns features (Index and target Cols)\n",
    "    2. Divide the features into two parts\n",
    "        2.1 Categorial features\n",
    "        2.2 float features"
   ]
  },
  {
   "cell_type": "code",
   "execution_count": 128,
   "metadata": {},
   "outputs": [],
   "source": [
    "# all features without the target & \n",
    "input_features =  [f for f in colsToLoad if f not in [\"INSTNM\",\"COMPL_RPY_1YR_RT\"]] \n",
    "cat_columns = [\"HIGHDEG\",\"CONTROL\"]\n",
    "float_columns = [f for f in input_features if f not in cat_columns]\n",
    "target_feature = \"COMPL_RPY_1YR_RT\""
   ]
  },
  {
   "cell_type": "markdown",
   "metadata": {},
   "source": [
    "## Data Pre-processing:\n",
    "    1. Replacing Privacy Suppressed value with null\n",
    "    2. One-Hot-Encoder for categorial features\n",
    "    3. Replace null valeues of input dataset with the \"Median\""
   ]
  },
  {
   "cell_type": "code",
   "execution_count": 129,
   "metadata": {},
   "outputs": [],
   "source": [
    "# this function is designed to convert PrivacySuppressed value in any input column to null.\n",
    "def cleanPrivacySuppressed(dataFrame):\n",
    "    for colName in dataFrame.columns:\n",
    "        dataFrame[colName] =  dataFrame[colName].replace(\"PrivacySuppressed\", np.nan)\n",
    "        dataFrame[colName] = dataFrame[colName].astype(float)\n",
    "    return dataFrame "
   ]
  },
  {
   "cell_type": "code",
   "execution_count": 130,
   "metadata": {},
   "outputs": [],
   "source": [
    "from sklearn.base import BaseEstimator, TransformerMixin\n",
    "from sklearn.preprocessing import OneHotEncoder\n",
    "class PrivacySuppressedHandler(BaseEstimator, TransformerMixin):\n",
    "    def fit(self, X, y=None):\n",
    "        return self  \n",
    "    def transform(self, X, y=None):\n",
    "        return cleanPrivacySuppressed(X)"
   ]
  },
  {
   "cell_type": "code",
   "execution_count": 131,
   "metadata": {},
   "outputs": [],
   "source": [
    "# pipe line for all float columns\n",
    "# it is a separate pipe line, because there is a potential to add more preprocessing steps based on model evaluation\n",
    "float_pipeline = ColumnTransformer([\n",
    "         (\"privacy_suppressed_hnadler\", PrivacySuppressedHandler(),float_columns),        \n",
    "    ])\n",
    "\n",
    "# pipe line for all Category columns\n",
    "cat_pipeline = ColumnTransformer([\n",
    "         (\"hot_encoder\",OneHotEncoder(sparse=False),cat_columns)\n",
    "    ])"
   ]
  },
  {
   "cell_type": "code",
   "execution_count": 132,
   "metadata": {},
   "outputs": [],
   "source": [
    "from sklearn.pipeline import FeatureUnion\n",
    "full_pipeline = FeatureUnion(\n",
    "    transformer_list=[ \n",
    "        (\"float_pipeline\", float_pipeline),\n",
    "        (\"cat_pipeline\", cat_pipeline)\n",
    "])"
   ]
  },
  {
   "cell_type": "code",
   "execution_count": 133,
   "metadata": {},
   "outputs": [
    {
     "name": "stderr",
     "output_type": "stream",
     "text": [
      "/opt/conda/lib/python3.7/site-packages/sklearn/preprocessing/_encoders.py:371: FutureWarning: The handling of integer data will change in version 0.22. Currently, the categories are determined based on the range [0, max(values)], while in the future they will be determined based on the unique values.\n",
      "If you want the future behaviour and silence this warning, you can specify \"categories='auto'\".\n",
      "In case you used a LabelEncoder before this OneHotEncoder to convert the categories to integers, then you can now use the OneHotEncoder directly.\n",
      "  warnings.warn(msg, FutureWarning)\n"
     ]
    }
   ],
   "source": [
    "processed_input_features = full_pipeline.fit_transform(scoreCardDF)\n",
    "target_output = scoreCardDF[target_feature]"
   ]
  },
  {
   "cell_type": "code",
   "execution_count": 134,
   "metadata": {},
   "outputs": [],
   "source": [
    "processed_input_features = pd.DataFrame(processed_input_features)"
   ]
  },
  {
   "cell_type": "markdown",
   "metadata": {},
   "source": [
    "### Splitting the data to training set (80%) and testing set (20%)"
   ]
  },
  {
   "cell_type": "code",
   "execution_count": 135,
   "metadata": {},
   "outputs": [],
   "source": [
    "#--split data to test and training data\n",
    "from sklearn.linear_model import Lasso, LassoCV\n",
    "from sklearn.model_selection import train_test_split\n",
    "train_X, test_X, train_y, test_y = train_test_split(processed_input_features, target_output.values, test_size=0.2, random_state=0)"
   ]
  },
  {
   "cell_type": "markdown",
   "metadata": {},
   "source": [
    "### Using SciKit Simple Imputer to replace null values with median value"
   ]
  },
  {
   "cell_type": "code",
   "execution_count": 136,
   "metadata": {},
   "outputs": [],
   "source": [
    "from sklearn.impute import SimpleImputer\n",
    "\n",
    "def replaceNulls(dataFrame):\n",
    "    imputer = SimpleImputer(strategy='mean')\n",
    "    scoreCardDF_imputed = pd.DataFrame(imputer.fit_transform(dataFrame))\n",
    "    scoreCardDF_imputed.columns = dataFrame.columns\n",
    "    return scoreCardDF_imputed, imputer"
   ]
  },
  {
   "cell_type": "code",
   "execution_count": 137,
   "metadata": {},
   "outputs": [],
   "source": [
    "train_X,imp = replaceNulls(train_X)\n",
    "test_X = imp.transform(test_X)"
   ]
  },
  {
   "cell_type": "code",
   "execution_count": 138,
   "metadata": {},
   "outputs": [],
   "source": [
    "catHotColumns =[\"HIGHDEG_Non-degree-granting\",\"HIGHDEG_Certificate_degree\",\"HIGHDEG_Associate_degree\",\"HIGHDEG_Associate_degree\",\"HIGHDEG_Associate_degree\",\"CONTROL_Public\",\"CONTROL_Private_nonprofit\",\"CONTROL_Private for-profit\"]\n",
    "all_features = float_columns.copy()\n",
    "all_features.extend(catHotColumns)"
   ]
  },
  {
   "cell_type": "code",
   "execution_count": 139,
   "metadata": {},
   "outputs": [],
   "source": [
    "train_X.columns = all_features"
   ]
  },
  {
   "cell_type": "markdown",
   "metadata": {},
   "source": [
    "### The following part shows the initial input features preparation\n",
    "    1. Detecting the Outliers by using skew function\n",
    "    2. Handling the outliers by replacing the outliers (less than 10% or larger than 90%) with the First and \n",
    "    third Quantile"
   ]
  },
  {
   "cell_type": "code",
   "execution_count": 140,
   "metadata": {},
   "outputs": [
    {
     "name": "stdout",
     "output_type": "stream",
     "text": [
      "ADM_RATE \t -0.8643161613285861 \n",
      "\n",
      "ADM_RATE_ALL \t -0.8837847299017442 \n",
      "\n",
      "ACTCMMID \t 0.8159101437970456 \n",
      "\n",
      "ACTENMID \t 0.9000318943693167 \n",
      "\n",
      "ACTMTMID \t 1.1345423045549232 \n",
      "\n",
      "ACTWRMID \t 2.7874337838217467 \n",
      "\n",
      "SAT_AVG \t 1.5042709310792484 \n",
      "\n",
      "SAT_AVG_ALL \t 1.3581802162895584 \n",
      "\n",
      "SATMTMID \t 1.6893195798962868 \n",
      "\n",
      "UGDS \t 7.945951435453446 \n",
      "\n",
      "TUITFTE \t TUITFTE    3.751721\n",
      "TUITFTE    3.751721\n",
      "dtype: float64 \n",
      "\n",
      "INEXPFTE \t INEXPFTE    9.944032\n",
      "INEXPFTE    9.944032\n",
      "dtype: float64 \n",
      "\n",
      "COSTT4_P \t COSTT4_P    1.729217\n",
      "COSTT4_P    1.729217\n",
      "dtype: float64 \n",
      "\n",
      "COSTT4_A \t COSTT4_A    1.069982\n",
      "COSTT4_A    1.069982\n",
      "dtype: float64 \n",
      "\n",
      "PCTFLOAN \t -0.6772392792015576 \n",
      "\n",
      "COMP_ORIG_YR2_RT \t 0.5452761369267128 \n",
      "\n",
      "UGDS_WHITE \t -0.33057709573385596 \n",
      "\n",
      "UGDS_BLACK \t 1.768974467813123 \n",
      "\n",
      "UGDS_HISP \t 2.435865412604955 \n",
      "\n",
      "UGDS_ASIAN \t 4.906249978305263 \n",
      "\n",
      "UGDS_AIAN \t 14.595488788052869 \n",
      "\n",
      "UGDS_NHPI \t 19.701681065713895 \n",
      "\n",
      "UGDS_2MOR \t 4.251356015858286 \n",
      "\n",
      "UGDS_NRA \t 5.064075792440333 \n",
      "\n",
      "UGDS_UNKN \t 3.71523355691396 \n",
      "\n",
      "PPTUG_EF \t 1.0818979388962324 \n",
      "\n",
      "COSTT4_A \t COSTT4_A    1.069982\n",
      "COSTT4_A    1.069982\n",
      "dtype: float64 \n",
      "\n",
      "COSTT4_P \t COSTT4_P    1.729217\n",
      "COSTT4_P    1.729217\n",
      "dtype: float64 \n",
      "\n",
      "TUITIONFEE_IN \t 1.2544997284624777 \n",
      "\n",
      "TUITIONFEE_OUT \t 1.2448312684850225 \n",
      "\n",
      "TUITIONFEE_PROG \t 4.920821959654742 \n",
      "\n",
      "TUITFTE \t TUITFTE    3.751721\n",
      "TUITFTE    3.751721\n",
      "dtype: float64 \n",
      "\n",
      "INEXPFTE \t INEXPFTE    9.944032\n",
      "INEXPFTE    9.944032\n",
      "dtype: float64 \n",
      "\n",
      "AVGFACSAL \t 1.0295293811451183 \n",
      "\n",
      "PCTPELL \t 0.09619093626565514 \n",
      "\n",
      "DEATH_YR3_RT \t 2.976699925228749 \n",
      "\n",
      "COMP_ORIG_YR3_RT \t 0.13635060243115724 \n",
      "\n",
      "LOAN_DEATH_YR3_RT \t 15.483392382411713 \n",
      "\n",
      "LOAN_COMP_ORIG_YR3_RT \t 0.6536994911942178 \n",
      "\n",
      "DEATH_YR4_RT \t 62.30187404263993 \n",
      "\n",
      "COMP_ORIG_YR4_RT \t 0.009440763155907908 \n",
      "\n",
      "AGE_ENTRY \t 0.23517593810967333 \n",
      "\n",
      "COUNT_NWNE_P10 \t 7.337558710794053 \n",
      "\n",
      "COUNT_WNE_P10 \t 7.517171740021882 \n",
      "\n",
      "MN_EARN_WNE_P10 \t 1.4616029639901396 \n",
      "\n",
      "MD_EARN_WNE_P10 \t 1.1101071151077007 \n",
      "\n",
      "HIGHDEG_Non-degree-granting \t 3.055653528152806 \n",
      "\n",
      "HIGHDEG_Certificate_degree \t 1.239788745395219 \n",
      "\n",
      "HIGHDEG_Associate_degree \t HIGHDEG_Associate_degree    1.092435\n",
      "HIGHDEG_Associate_degree    2.197192\n",
      "HIGHDEG_Associate_degree    0.920505\n",
      "dtype: float64 \n",
      "\n",
      "HIGHDEG_Associate_degree \t HIGHDEG_Associate_degree    1.092435\n",
      "HIGHDEG_Associate_degree    2.197192\n",
      "HIGHDEG_Associate_degree    0.920505\n",
      "dtype: float64 \n",
      "\n",
      "HIGHDEG_Associate_degree \t HIGHDEG_Associate_degree    1.092435\n",
      "HIGHDEG_Associate_degree    2.197192\n",
      "HIGHDEG_Associate_degree    0.920505\n",
      "dtype: float64 \n",
      "\n",
      "CONTROL_Public \t 1.0167385487516114 \n",
      "\n",
      "CONTROL_Private_nonprofit \t 1.2139817998998574 \n",
      "\n",
      "CONTROL_Private for-profit \t 0.056423003959101166 \n",
      "\n"
     ]
    }
   ],
   "source": [
    "for col in train_X.columns:\n",
    "    print(col, \"\\t\", train_X[col].skew(), \"\\n\")\n",
    "    \n",
    "outliers = ['ACTENMID', 'ACTENMID', 'ACTWRMID', 'SAT_AVG', 'SAT_AVG_ALL', 'SATMTMID', 'UGDS', 'TUITFTE', 'INEXPFTE',\n",
    "           'COSTT4_P', 'UGDS_BLACK', 'UGDS_HISP', 'UGDS_ASIAN', 'UGDS_AIAN', 'UGDS_NHPI', 'UGDS_2MOR',\n",
    "           'UGDS_NRA', 'UGDS_UNKN', 'TUITIONFEE_PROG', 'DEATH_YR3_RT', 'LOAN_DEATH_YR3_RT', 'DEATH_YR4_RT',\n",
    "           'COUNT_NWNE_P10', 'COUNT_WNE_P10', 'HIGHDEG_Non-degree-granting']"
   ]
  },
  {
   "cell_type": "code",
   "execution_count": 141,
   "metadata": {},
   "outputs": [],
   "source": [
    "def handleOutliers(outliers):\n",
    "    for col in outliers:\n",
    "        Q1 = train_X[col].quantile(0.25)\n",
    "        Q3 = train_X[col].quantile(0.75)\n",
    "        #print(\"col: \", col, \"Q1: \", Q1, \"Q3: \", Q3)\n",
    "        \n",
    "        train_X[col] = np.where(train_X[col] <Q1, Q1,train_X[col])\n",
    "        train_X[col] = np.where(train_X[col] >Q3, Q3,train_X[col])\n",
    "        print(\"New Skew Value: \", train_X[col].skew())"
   ]
  },
  {
   "cell_type": "code",
   "execution_count": 142,
   "metadata": {},
   "outputs": [],
   "source": [
    "#handleOutliers(outliers)"
   ]
  },
  {
   "cell_type": "markdown",
   "metadata": {},
   "source": [
    "### Exploring features importance by applying \"RFE\": Recursive Feature Estimation"
   ]
  },
  {
   "cell_type": "code",
   "execution_count": 143,
   "metadata": {},
   "outputs": [],
   "source": [
    "from sklearn.feature_selection import RFE\n",
    "def recursive_feat_estimate(model):\n",
    "    rfe = RFE(model, 10)\n",
    "    fit = rfe.fit(train_X, train_y)\n",
    "    print(\"Features sorted by their rank:\")\n",
    "    print(sorted(zip(map(lambda x: x, rfe.ranking_), all_features)))\n",
    "    return rfe"
   ]
  },
  {
   "cell_type": "markdown",
   "metadata": {},
   "source": [
    "### Fit, Train and Predict the model with initial alpha \"1e-3\""
   ]
  },
  {
   "cell_type": "code",
   "execution_count": 144,
   "metadata": {},
   "outputs": [],
   "source": [
    "#--fit the Lasso model\n",
    "lassoReg = Lasso(alpha=1e-3, normalize=True)"
   ]
  },
  {
   "cell_type": "code",
   "execution_count": 145,
   "metadata": {},
   "outputs": [
    {
     "data": {
      "text/plain": [
       "Lasso(alpha=0.001, copy_X=True, fit_intercept=True, max_iter=1000,\n",
       "   normalize=True, positive=False, precompute=False, random_state=None,\n",
       "   selection='cyclic', tol=0.0001, warm_start=False)"
      ]
     },
     "execution_count": 145,
     "metadata": {},
     "output_type": "execute_result"
    }
   ],
   "source": [
    "lassoReg.fit(train_X, train_y)"
   ]
  },
  {
   "cell_type": "code",
   "execution_count": 146,
   "metadata": {},
   "outputs": [],
   "source": [
    "pred = lassoReg.predict(test_X)\n",
    "trainingPred = lassoReg.predict(train_X)"
   ]
  },
  {
   "cell_type": "code",
   "execution_count": 147,
   "metadata": {},
   "outputs": [
    {
     "name": "stdout",
     "output_type": "stream",
     "text": [
      "Mean SqError:  0.020834836013656967\n",
      "TrainSet Mean SqError:  0.0210725553381249\n"
     ]
    }
   ],
   "source": [
    "#--Calculate Root mean square error\n",
    "from sklearn.metrics import mean_squared_error\n",
    "\n",
    "mean = mean_squared_error(test_y, pred) \n",
    "rmse = np.sqrt(mean_squared_error(test_y,pred))\n",
    "\n",
    "#--Calculate Root mean square error on training set\n",
    "trainMean = mean_squared_error(train_y, trainingPred) \n",
    "trainRmse = np.sqrt(mean_squared_error(train_y,trainingPred)) \n",
    "\n",
    "print(\"Mean SqError: \", mean)\n",
    "#print(\"RMSE: \", rmse)\n",
    "\n",
    "print(\"TrainSet Mean SqError: \", trainMean)\n",
    "#print(\"TrainSet RMSE: \", trainRmse)"
   ]
  },
  {
   "cell_type": "code",
   "execution_count": 148,
   "metadata": {},
   "outputs": [
    {
     "data": {
      "text/plain": [
       "0.471695525042935"
      ]
     },
     "execution_count": 148,
     "metadata": {},
     "output_type": "execute_result"
    }
   ],
   "source": [
    "from sklearn.metrics import r2_score\n",
    "r2_score(test_y, pred)"
   ]
  },
  {
   "cell_type": "code",
   "execution_count": 149,
   "metadata": {},
   "outputs": [
    {
     "data": {
      "text/plain": [
       "0.45863254605246373"
      ]
     },
     "execution_count": 149,
     "metadata": {},
     "output_type": "execute_result"
    }
   ],
   "source": [
    "r2_score(train_y, trainingPred)"
   ]
  },
  {
   "cell_type": "code",
   "execution_count": 150,
   "metadata": {},
   "outputs": [
    {
     "name": "stdout",
     "output_type": "stream",
     "text": [
      "Features sorted by their rank:\n",
      "[(1, 'AGE_ENTRY'), (1, 'CONTROL_Private for-profit'), (1, 'CONTROL_Private_nonprofit'), (1, 'CONTROL_Public'), (1, 'HIGHDEG_Associate_degree'), (1, 'HIGHDEG_Associate_degree'), (1, 'HIGHDEG_Associate_degree'), (1, 'HIGHDEG_Certificate_degree'), (1, 'MD_EARN_WNE_P10'), (1, 'PCTPELL'), (2, 'HIGHDEG_Non-degree-granting'), (3, 'COMP_ORIG_YR4_RT'), (4, 'DEATH_YR4_RT'), (5, 'LOAN_COMP_ORIG_YR3_RT'), (6, 'LOAN_DEATH_YR3_RT'), (7, 'COMP_ORIG_YR3_RT'), (8, 'DEATH_YR3_RT'), (9, 'COUNT_NWNE_P10'), (10, 'MN_EARN_WNE_P10'), (11, 'COUNT_WNE_P10'), (12, 'AVGFACSAL'), (13, 'INEXPFTE'), (14, 'TUITFTE'), (15, 'TUITIONFEE_PROG'), (16, 'TUITIONFEE_OUT'), (17, 'TUITIONFEE_IN'), (18, 'COSTT4_P'), (19, 'COSTT4_A'), (20, 'PPTUG_EF'), (21, 'UGDS_UNKN'), (22, 'UGDS_NRA'), (23, 'UGDS_2MOR'), (24, 'UGDS_NHPI'), (25, 'UGDS_AIAN'), (26, 'UGDS_ASIAN'), (27, 'UGDS_HISP'), (28, 'UGDS_BLACK'), (29, 'UGDS_WHITE'), (30, 'COMP_ORIG_YR2_RT'), (31, 'PCTFLOAN'), (32, 'COSTT4_A'), (33, 'COSTT4_P'), (34, 'INEXPFTE'), (35, 'TUITFTE'), (36, 'UGDS'), (37, 'SATMTMID'), (38, 'SAT_AVG_ALL'), (39, 'SAT_AVG'), (40, 'ACTWRMID'), (41, 'ACTMTMID'), (42, 'ACTENMID'), (43, 'ACTCMMID'), (44, 'ADM_RATE_ALL'), (45, 'ADM_RATE')]\n"
     ]
    },
    {
     "data": {
      "text/plain": [
       "RFE(estimator=Lasso(alpha=0.001, copy_X=True, fit_intercept=True, max_iter=1000,\n",
       "   normalize=True, positive=False, precompute=False, random_state=None,\n",
       "   selection='cyclic', tol=0.0001, warm_start=False),\n",
       "  n_features_to_select=10, step=1, verbose=0)"
      ]
     },
     "execution_count": 150,
     "metadata": {},
     "output_type": "execute_result"
    }
   ],
   "source": [
    "recursive_feat_estimate(lassoReg)"
   ]
  },
  {
   "cell_type": "code",
   "execution_count": 151,
   "metadata": {},
   "outputs": [
    {
     "data": {
      "text/plain": [
       "array([-0.00000000e+00, -0.00000000e+00,  0.00000000e+00,  0.00000000e+00,\n",
       "        0.00000000e+00,  0.00000000e+00,  0.00000000e+00,  0.00000000e+00,\n",
       "        0.00000000e+00,  0.00000000e+00,  0.00000000e+00,  0.00000000e+00,\n",
       "       -0.00000000e+00,  0.00000000e+00, -0.00000000e+00, -0.00000000e+00,\n",
       "        0.00000000e+00, -0.00000000e+00, -0.00000000e+00,  0.00000000e+00,\n",
       "       -0.00000000e+00, -0.00000000e+00,  0.00000000e+00,  0.00000000e+00,\n",
       "       -0.00000000e+00, -0.00000000e+00,  0.00000000e+00, -0.00000000e+00,\n",
       "        0.00000000e+00,  0.00000000e+00, -0.00000000e+00,  0.00000000e+00,\n",
       "        0.00000000e+00,  0.00000000e+00, -1.78693066e-01, -0.00000000e+00,\n",
       "        0.00000000e+00, -0.00000000e+00, -0.00000000e+00,  0.00000000e+00,\n",
       "        0.00000000e+00, -4.00732680e-03, -0.00000000e+00, -0.00000000e+00,\n",
       "        0.00000000e+00,  1.26318951e-06, -0.00000000e+00, -0.00000000e+00,\n",
       "       -0.00000000e+00,  0.00000000e+00,  0.00000000e+00,  0.00000000e+00,\n",
       "        0.00000000e+00, -5.60014071e-02])"
      ]
     },
     "execution_count": 151,
     "metadata": {},
     "output_type": "execute_result"
    }
   ],
   "source": [
    "lassoReg.coef_"
   ]
  },
  {
   "cell_type": "markdown",
   "metadata": {},
   "source": [
    "# Explore Ridge regression with built-in cross-validation."
   ]
  },
  {
   "cell_type": "code",
   "execution_count": 152,
   "metadata": {},
   "outputs": [],
   "source": [
    "#--Trying different alphas with CV = 10\n",
    "a = [1e-5, 1e-4, 1e-3, 0.01, 0.1, 1, 10, 100, 1000, 10000]\n",
    "lassoCV = LassoCV(alphas=a, normalize=True, cv=10)"
   ]
  },
  {
   "cell_type": "code",
   "execution_count": 153,
   "metadata": {},
   "outputs": [
    {
     "name": "stdout",
     "output_type": "stream",
     "text": [
      "Best alpha using built-in RidgeCV: 0.000010\n"
     ]
    }
   ],
   "source": [
    "lassoCV.fit(train_X, train_y)\n",
    "print(\"Best alpha using built-in RidgeCV: %f\" % lassoCV.alpha_)"
   ]
  },
  {
   "cell_type": "code",
   "execution_count": 154,
   "metadata": {},
   "outputs": [
    {
     "data": {
      "text/plain": [
       "Lasso(alpha=1e-05, copy_X=True, fit_intercept=True, max_iter=1000,\n",
       "   normalize=True, positive=False, precompute=False, random_state=None,\n",
       "   selection='cyclic', tol=0.0001, warm_start=False)"
      ]
     },
     "execution_count": 154,
     "metadata": {},
     "output_type": "execute_result"
    }
   ],
   "source": [
    "#--using the best alpha to predict the test data \n",
    "alpha = lassoCV.alpha_\n",
    "lassoCV = Lasso(alpha=alpha, normalize=True)\n",
    "lassoCV.fit(train_X, train_y)"
   ]
  },
  {
   "cell_type": "code",
   "execution_count": 155,
   "metadata": {},
   "outputs": [],
   "source": [
    "predCV = lassoCV.predict(test_X)\n",
    "trainingPredCV = lassoCV.predict(train_X)"
   ]
  },
  {
   "cell_type": "code",
   "execution_count": 156,
   "metadata": {},
   "outputs": [
    {
     "name": "stdout",
     "output_type": "stream",
     "text": [
      "Mean SqError:  0.00975163827557336\n",
      "TrainSet Mean SqError:  0.010115004201836787\n"
     ]
    }
   ],
   "source": [
    "#--Calculate Root mean square error\n",
    "mean = mean_squared_error(test_y, predCV) \n",
    "rmse = np.sqrt(mean_squared_error(test_y,predCV))\n",
    "\n",
    "#--Calculate Root mean square error on training set\n",
    "trainMean = mean_squared_error(train_y, trainingPredCV) \n",
    "trainRmse = np.sqrt(mean_squared_error(train_y,trainingPredCV)) \n",
    "\n",
    "print(\"Mean SqError: \", mean)\n",
    "#print(\"RMSE: \", rmse)\n",
    "\n",
    "print(\"TrainSet Mean SqError: \", trainMean)\n",
    "#print(\"TrainSet RMSE: \", trainRmse)"
   ]
  },
  {
   "cell_type": "code",
   "execution_count": 157,
   "metadata": {},
   "outputs": [
    {
     "data": {
      "text/plain": [
       "0.7527297965882217"
      ]
     },
     "execution_count": 157,
     "metadata": {},
     "output_type": "execute_result"
    }
   ],
   "source": [
    "from sklearn.metrics import r2_score\n",
    "r2_score(test_y, predCV)"
   ]
  },
  {
   "cell_type": "code",
   "execution_count": 158,
   "metadata": {},
   "outputs": [
    {
     "data": {
      "text/plain": [
       "0.7401390584316161"
      ]
     },
     "execution_count": 158,
     "metadata": {},
     "output_type": "execute_result"
    }
   ],
   "source": [
    "r2_score(train_y, trainingPredCV)"
   ]
  },
  {
   "cell_type": "code",
   "execution_count": 159,
   "metadata": {},
   "outputs": [
    {
     "data": {
      "text/plain": [
       "array([ 1.11608936e-02,  0.00000000e+00, -0.00000000e+00, -0.00000000e+00,\n",
       "       -0.00000000e+00, -5.80668470e-03,  0.00000000e+00,  1.41032619e-04,\n",
       "       -7.13735440e-05, -8.63602862e-07, -0.00000000e+00,  2.71384111e-07,\n",
       "       -1.19007646e-06, -2.04499923e-07,  4.64353744e-02, -3.68500783e-02,\n",
       "        9.11834323e-02, -1.29784830e-01, -0.00000000e+00,  1.52330363e-01,\n",
       "        1.10612630e-03, -0.00000000e+00, -5.15043754e-02,  1.31976880e-01,\n",
       "       -1.84804455e-02,  6.39361420e-02, -5.17603396e-08, -5.49336093e-07,\n",
       "        0.00000000e+00, -5.19051898e-07,  0.00000000e+00, -7.85461159e-08,\n",
       "        0.00000000e+00, -6.55543605e-07, -1.67568805e-01, -0.00000000e+00,\n",
       "        4.66916500e-02, -3.14510145e+02, -4.03164238e-02,  2.16875223e+00,\n",
       "        6.79137802e-02, -1.22173653e-02, -4.25324631e-06, -0.00000000e+00,\n",
       "        8.03180426e-07,  3.37210624e-06, -3.83123630e-02,  1.65427386e-02,\n",
       "       -1.96372180e-02, -0.00000000e+00,  2.19776282e-02,  0.00000000e+00,\n",
       "        4.94449202e-04, -1.03765498e-01])"
      ]
     },
     "execution_count": 159,
     "metadata": {},
     "output_type": "execute_result"
    }
   ],
   "source": [
    "lassoCV.coef_"
   ]
  },
  {
   "cell_type": "code",
   "execution_count": 160,
   "metadata": {},
   "outputs": [
    {
     "name": "stdout",
     "output_type": "stream",
     "text": [
      "Features sorted by their rank:\n",
      "[(1, 'COMP_ORIG_YR2_RT'), (1, 'COMP_ORIG_YR4_RT'), (1, 'CONTROL_Private for-profit'), (1, 'DEATH_YR4_RT'), (1, 'LOAN_DEATH_YR3_RT'), (1, 'PCTFLOAN'), (1, 'PCTPELL'), (1, 'UGDS_ASIAN'), (1, 'UGDS_BLACK'), (1, 'UGDS_NRA'), (2, 'UGDS_WHITE'), (3, 'COMP_ORIG_YR3_RT'), (4, 'HIGHDEG_Non-degree-granting'), (5, 'LOAN_COMP_ORIG_YR3_RT'), (6, 'HIGHDEG_Associate_degree'), (7, 'PPTUG_EF'), (8, 'HIGHDEG_Associate_degree'), (9, 'UGDS_2MOR'), (10, 'AGE_ENTRY'), (11, 'UGDS_UNKN'), (12, 'HIGHDEG_Certificate_degree'), (13, 'ACTWRMID'), (14, 'ADM_RATE'), (15, 'SAT_AVG_ALL'), (16, 'SATMTMID'), (17, 'UGDS_AIAN'), (18, 'MD_EARN_WNE_P10'), (19, 'COUNT_NWNE_P10'), (20, 'COSTT4_P'), (21, 'MN_EARN_WNE_P10'), (22, 'UGDS'), (23, 'TUITIONFEE_OUT'), (24, 'COSTT4_P'), (25, 'AVGFACSAL'), (26, 'COSTT4_A'), (27, 'CONTROL_Private_nonprofit'), (28, 'INEXPFTE'), (29, 'TUITFTE'), (30, 'TUITFTE'), (31, 'COSTT4_A'), (32, 'UGDS_HISP'), (33, 'INEXPFTE'), (34, 'SAT_AVG'), (35, 'ACTMTMID'), (36, 'ACTENMID'), (37, 'COUNT_WNE_P10'), (38, 'CONTROL_Public'), (39, 'UGDS_NHPI'), (40, 'TUITIONFEE_IN'), (41, 'ACTCMMID'), (42, 'ADM_RATE_ALL'), (43, 'DEATH_YR3_RT'), (44, 'TUITIONFEE_PROG'), (45, 'HIGHDEG_Associate_degree')]\n"
     ]
    },
    {
     "data": {
      "text/plain": [
       "RFE(estimator=Lasso(alpha=1e-05, copy_X=True, fit_intercept=True, max_iter=1000,\n",
       "   normalize=True, positive=False, precompute=False, random_state=None,\n",
       "   selection='cyclic', tol=0.0001, warm_start=False),\n",
       "  n_features_to_select=10, step=1, verbose=0)"
      ]
     },
     "execution_count": 160,
     "metadata": {},
     "output_type": "execute_result"
    }
   ],
   "source": [
    "recursive_feat_estimate(lassoCV)"
   ]
  },
  {
   "cell_type": "code",
   "execution_count": null,
   "metadata": {},
   "outputs": [],
   "source": []
  },
  {
   "cell_type": "code",
   "execution_count": null,
   "metadata": {},
   "outputs": [],
   "source": []
  }
 ],
 "metadata": {
  "kernelspec": {
   "display_name": "Python 3",
   "language": "python",
   "name": "python3"
  },
  "language_info": {
   "codemirror_mode": {
    "name": "ipython",
    "version": 3
   },
   "file_extension": ".py",
   "mimetype": "text/x-python",
   "name": "python",
   "nbconvert_exporter": "python",
   "pygments_lexer": "ipython3",
   "version": "3.7.1"
  }
 },
 "nbformat": 4,
 "nbformat_minor": 2
}
