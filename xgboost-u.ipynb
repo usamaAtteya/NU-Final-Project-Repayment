{
 "cells": [
  {
   "cell_type": "code",
   "execution_count": 1,
   "metadata": {},
   "outputs": [],
   "source": [
    "# !pip install xgboost\n",
    "# !pip install graphviz\n",
    "# import sys\n",
    "# sys.path.append(\"/Users/apple/.pyenv/versions/3.5.4/lib/python3.5/site-packages/graphviz\")"
   ]
  },
  {
   "cell_type": "code",
   "execution_count": 2,
   "metadata": {},
   "outputs": [],
   "source": [
    "import pandas as pd\n",
    "import matplotlib.pyplot as plt\n",
    "import numpy as np\n",
    "import sklearn as sklearn\n",
    "from sklearn.pipeline import Pipeline\n",
    "from sklearn.compose import ColumnTransformer\n",
    "from sklearn.preprocessing import StandardScaler, OneHotEncoder,LabelEncoder\n",
    "from sklearn.model_selection import cross_validate,cross_val_score\n",
    "import xgboost\n",
    "import seaborn as sns"
   ]
  },
  {
   "cell_type": "markdown",
   "metadata": {},
   "source": [
    "### Since we have a lot of missing values and outliers, it is preferable to start with xgboost. \n",
    "### XGboost algorithm is invariant to outliers and can handle missing values by default\n",
    "### so first strategy is replacing any wrong/missing value by null, build the model and check the accuracy\n",
    "### based on the accuracy and model evaluation, it will be very clear which direction is better to take(differect imputation technique, deal with bias/variance of the model, ...)"
   ]
  },
  {
   "cell_type": "markdown",
   "metadata": {},
   "source": [
    "## First LOad all columns to test their contribution to model accurecy to select best features based on model accurracy and analysis in exploration file "
   ]
  },
  {
   "cell_type": "code",
   "execution_count": 3,
   "metadata": {},
   "outputs": [
    {
     "name": "stderr",
     "output_type": "stream",
     "text": [
      "/Users/apple/.pyenv/versions/3.5.4/lib/python3.5/site-packages/IPython/core/interactiveshell.py:3058: DtypeWarning: Columns (1606) have mixed types. Specify dtype option on import or set low_memory=False.\n",
      "  interactivity=interactivity, compiler=compiler, result=result)\n"
     ]
    }
   ],
   "source": [
    "colsToLoad =[\"INSTNM\",\"CONTROL\",\"ADM_RATE\",\"ADM_RATE_ALL\",\"ACTCMMID\",\"ACTENMID\",\"ACTMTMID\",\"ACTWRMID\",\"SAT_AVG\",\"SAT_AVG_ALL\",\"SATMTMID\",\"UGDS\",\"HIGHDEG\",  \"TUITFTE\", \"INEXPFTE\",  \"COSTT4_P\",\n",
    "             \"COSTT4_A\", \"PCTFLOAN\",\"COMP_ORIG_YR2_RT\", \"UGDS_WHITE\",\"UGDS_BLACK\",\"UGDS_HISP\",\"UGDS_ASIAN\",\"UGDS_AIAN\",\"UGDS_NHPI\",\"UGDS_2MOR\",\"UGDS_NRA\",\"UGDS_UNKN\",\"PPTUG_EF\",\"COSTT4_A\",\"COSTT4_P\",\"TUITIONFEE_IN\",\"TUITIONFEE_OUT\",\"TUITIONFEE_PROG\",\"TUITFTE\",\"INEXPFTE\",\"AVGFACSAL\",\"PCTPELL\",\"DEATH_YR3_RT\",\"COMP_ORIG_YR3_RT\",\"LOAN_DEATH_YR3_RT\",\"LOAN_COMP_ORIG_YR3_RT\",\"DEATH_YR4_RT\",\"COMP_ORIG_YR4_RT\",\"COMPL_RPY_1YR_RT\",\"AGE_ENTRY\",\"COUNT_NWNE_P10\",\"COUNT_WNE_P10\",\"MN_EARN_WNE_P10\",\"MD_EARN_WNE_P10\",\"COMPL_RPY_1YR_RT\"]\n",
    "scoreCardDF = pd.read_csv(\"CollegeScorecard_Raw_Data/MERGED2013_14_PP.csv\", index_col=\"INSTNM\",usecols=colsToLoad)"
   ]
  },
  {
   "cell_type": "markdown",
   "metadata": {},
   "source": [
    "## drop all rows that do not have a value for out target variable"
   ]
  },
  {
   "cell_type": "code",
   "execution_count": 4,
   "metadata": {},
   "outputs": [],
   "source": [
    "scoreCardDF =scoreCardDF[(scoreCardDF[\"COMPL_RPY_1YR_RT\"] != \"PrivacySuppressed\") & (scoreCardDF[\"COMPL_RPY_1YR_RT\"] != np.nan)  & (scoreCardDF[\"COMPL_RPY_1YR_RT\"] != None) &(scoreCardDF[\"COMPL_RPY_1YR_RT\"].notna())]\n"
   ]
  },
  {
   "cell_type": "markdown",
   "metadata": {},
   "source": [
    "## Now lets drop un-needed columns for input features\n",
    "### COMPL_RPY_1YR_RT is the target\n",
    "### INSTNM is the index but not needed in regression analysis\n",
    "### float_columns: float columns of type float will be treated differently in preprocessing \n",
    "### cat_columns : category columns of type float will be treated differently in preprocessing"
   ]
  },
  {
   "cell_type": "code",
   "execution_count": 5,
   "metadata": {},
   "outputs": [],
   "source": [
    "# all features without the target & \n",
    "input_features =  [f for f in colsToLoad if f not in [\"INSTNM\",\"COMPL_RPY_1YR_RT\"]] \n",
    "cat_columns = [\"HIGHDEG\",\"CONTROL\"]\n",
    "float_columns = [f for f in input_features if f not in cat_columns]\n",
    "target_feature = \"COMPL_RPY_1YR_RT\""
   ]
  },
  {
   "cell_type": "markdown",
   "metadata": {},
   "source": [
    "## Coming Cells are responsible for the preprocessing of float and cat columns"
   ]
  },
  {
   "cell_type": "code",
   "execution_count": 6,
   "metadata": {},
   "outputs": [],
   "source": [
    "# this function is designed to convert PrivacySuppressed value in any input column to null.\n",
    "# this is because our first strategy is keeping missing values, and let xgboot handle this situation\n",
    "def cleanPrivacySuppressed(dataFrame):\n",
    "    for colName in dataFrame.columns:\n",
    "        dataFrame[colName] =  dataFrame[colName].replace(\"PrivacySuppressed\", np.nan)\n",
    "        dataFrame[colName] = dataFrame[colName].astype(float)\n",
    "    return dataFrame "
   ]
  },
  {
   "cell_type": "code",
   "execution_count": 7,
   "metadata": {},
   "outputs": [],
   "source": [
    "from sklearn.base import BaseEstimator, TransformerMixin\n",
    "from sklearn.preprocessing import OneHotEncoder\n",
    "class PrivacySuppressedHandler(BaseEstimator, TransformerMixin):\n",
    "    def fit(self, X, y=None):\n",
    "        return self  \n",
    "    def transform(self, X, y=None):\n",
    "        return cleanPrivacySuppressed(X)\n",
    "  "
   ]
  },
  {
   "cell_type": "code",
   "execution_count": 8,
   "metadata": {},
   "outputs": [],
   "source": [
    "# pipe line for all float columns\n",
    "# it is a separate pipe line, because there is a potential to add more preprocessing steps based on model evaluation\n",
    "float_pipeline = ColumnTransformer([\n",
    "         (\"privacy_suppressed_hnadler\", PrivacySuppressedHandler(),float_columns),        \n",
    "    ])\n",
    "\n",
    "# pipe line for all Category columns\n",
    "cat_pipeline = ColumnTransformer([\n",
    "         (\"hot_encoder\",OneHotEncoder(),cat_columns)\n",
    "    ])\n"
   ]
  },
  {
   "cell_type": "markdown",
   "metadata": {},
   "source": [
    "## Biulding the whole pipline of preprocessing"
   ]
  },
  {
   "cell_type": "code",
   "execution_count": 9,
   "metadata": {},
   "outputs": [],
   "source": [
    "\n",
    "from sklearn.pipeline import FeatureUnion\n",
    "full_pipeline = FeatureUnion(\n",
    "    transformer_list=[ \n",
    "        (\"float_pipeline\", float_pipeline),\n",
    "        (\"cat_pipeline\", cat_pipeline)\n",
    "])"
   ]
  },
  {
   "cell_type": "code",
   "execution_count": 10,
   "metadata": {
    "scrolled": false
   },
   "outputs": [],
   "source": [
    "processed_input_features = full_pipeline.fit_transform(scoreCardDF)\n",
    "target_output = scoreCardDF[target_feature]"
   ]
  },
  {
   "cell_type": "markdown",
   "metadata": {},
   "source": [
    "## Now we will split ou db to train, validate (80/20)"
   ]
  },
  {
   "cell_type": "code",
   "execution_count": 11,
   "metadata": {},
   "outputs": [],
   "source": [
    "from sklearn.model_selection import train_test_split\n",
    "X_train, X_val, Y_train, Y_val = train_test_split(processed_input_features, target_output.values ,test_size=0.2)"
   ]
  },
  {
   "cell_type": "markdown",
   "metadata": {},
   "source": [
    "## Building Xgboost with default values, the chosen error function is squared_error\n",
    "## beacause we are very sesetive to higher errors"
   ]
  },
  {
   "cell_type": "code",
   "execution_count": 12,
   "metadata": {},
   "outputs": [],
   "source": [
    "model = xgboost.XGBRegressor(seed=42,objective=\"reg:squarederror\") "
   ]
  },
  {
   "cell_type": "code",
   "execution_count": 13,
   "metadata": {},
   "outputs": [
    {
     "data": {
      "text/plain": [
       "XGBRegressor(base_score=0.5, booster='gbtree', colsample_bylevel=1,\n",
       "             colsample_bynode=1, colsample_bytree=1, gamma=0,\n",
       "             importance_type='gain', learning_rate=0.1, max_delta_step=0,\n",
       "             max_depth=3, min_child_weight=1, missing=None, n_estimators=100,\n",
       "             n_jobs=1, nthread=None, objective='reg:squarederror',\n",
       "             random_state=0, reg_alpha=0, reg_lambda=1, scale_pos_weight=1,\n",
       "             seed=42, silent=None, subsample=1, verbosity=1)"
      ]
     },
     "execution_count": 13,
     "metadata": {},
     "output_type": "execute_result"
    }
   ],
   "source": [
    "# fit the model\n",
    "model.fit(X_train,Y_train)"
   ]
  },
  {
   "cell_type": "code",
   "execution_count": 14,
   "metadata": {},
   "outputs": [],
   "source": [
    "# mesure the accuracy of validation set\n",
    "prediction = model.predict(X_val)"
   ]
  },
  {
   "cell_type": "markdown",
   "metadata": {},
   "source": [
    "## Now lets measure the model accuracy on validation set"
   ]
  },
  {
   "cell_type": "code",
   "execution_count": 15,
   "metadata": {},
   "outputs": [
    {
     "data": {
      "text/plain": [
       "0.007529197249656223"
      ]
     },
     "execution_count": 15,
     "metadata": {},
     "output_type": "execute_result"
    }
   ],
   "source": [
    "from sklearn.metrics import mean_squared_error\n",
    "mean_squared_error(Y_val, prediction)"
   ]
  },
  {
   "cell_type": "markdown",
   "metadata": {},
   "source": [
    "## Now lets measure the model accuracy on Train set"
   ]
  },
  {
   "cell_type": "code",
   "execution_count": 16,
   "metadata": {},
   "outputs": [
    {
     "data": {
      "text/plain": [
       "0.005363517980868269"
      ]
     },
     "execution_count": 16,
     "metadata": {},
     "output_type": "execute_result"
    }
   ],
   "source": [
    "mean_squared_error(Y_train, model.predict(X_train))"
   ]
  },
  {
   "cell_type": "markdown",
   "metadata": {},
   "source": [
    "## Now lets measure r squared error on validation set, to know how good is the fit"
   ]
  },
  {
   "cell_type": "code",
   "execution_count": 17,
   "metadata": {},
   "outputs": [
    {
     "data": {
      "text/plain": [
       "0.8045397638565959"
      ]
     },
     "execution_count": 17,
     "metadata": {},
     "output_type": "execute_result"
    }
   ],
   "source": [
    "from sklearn.metrics import r2_score\n",
    "r2_score(Y_val, prediction)"
   ]
  },
  {
   "cell_type": "markdown",
   "metadata": {},
   "source": [
    "## Now lets measure r squared error on train set"
   ]
  },
  {
   "cell_type": "code",
   "execution_count": 18,
   "metadata": {},
   "outputs": [
    {
     "data": {
      "text/plain": [
       "0.862965950585382"
      ]
     },
     "execution_count": 18,
     "metadata": {},
     "output_type": "execute_result"
    }
   ],
   "source": [
    "r2_score(Y_train, model.predict(X_train))"
   ]
  },
  {
   "cell_type": "markdown",
   "metadata": {},
   "source": [
    "# from results above, it seems xgboost is a potential for a good model but there is some overfitting because error in validation is higher and r squared is less"
   ]
  },
  {
   "cell_type": "markdown",
   "metadata": {},
   "source": [
    "# Now, Evaluation using cross validation"
   ]
  },
  {
   "cell_type": "code",
   "execution_count": 19,
   "metadata": {},
   "outputs": [],
   "source": [
    "\n",
    "from sklearn.model_selection import cross_validate,cross_val_score\n"
   ]
  },
  {
   "cell_type": "markdown",
   "metadata": {},
   "source": [
    "# Evaluation Using root mean squared error"
   ]
  },
  {
   "cell_type": "code",
   "execution_count": 20,
   "metadata": {},
   "outputs": [
    {
     "data": {
      "text/plain": [
       "array([-0.09505463, -0.09584885, -0.08928754, -0.08015637, -0.08518652,\n",
       "       -0.07965424, -0.09307722, -0.09116341, -0.08633774, -0.12147731])"
      ]
     },
     "execution_count": 20,
     "metadata": {},
     "output_type": "execute_result"
    }
   ],
   "source": [
    "cross_val_score(model,processed_input_features,target_output.values,cv=10,scoring='neg_root_mean_squared_error')"
   ]
  },
  {
   "cell_type": "code",
   "execution_count": 21,
   "metadata": {},
   "outputs": [
    {
     "data": {
      "text/plain": [
       "array([-0.09251601, -0.08513403, -0.10518524])"
      ]
     },
     "execution_count": 21,
     "metadata": {},
     "output_type": "execute_result"
    }
   ],
   "source": [
    "cross_val_score(model,processed_input_features,target_output.values,cv=3,scoring='neg_root_mean_squared_error')"
   ]
  },
  {
   "cell_type": "markdown",
   "metadata": {},
   "source": [
    "# Evaluation Using r squared"
   ]
  },
  {
   "cell_type": "code",
   "execution_count": 22,
   "metadata": {},
   "outputs": [
    {
     "data": {
      "text/plain": [
       "array([0.7237521 , 0.72529056, 0.76113909, 0.80303162, 0.82419476,\n",
       "       0.82509081, 0.64416143, 0.60002357, 0.60425502, 0.33222438])"
      ]
     },
     "execution_count": 22,
     "metadata": {},
     "output_type": "execute_result"
    }
   ],
   "source": [
    "cross_val_score(model,processed_input_features,target_output.values,cv=10,scoring='r2')"
   ]
  },
  {
   "cell_type": "code",
   "execution_count": 23,
   "metadata": {},
   "outputs": [
    {
     "data": {
      "text/plain": [
       "array([0.75089594, 0.82025845, 0.48037843])"
      ]
     },
     "execution_count": 23,
     "metadata": {},
     "output_type": "execute_result"
    }
   ],
   "source": [
    "cross_val_score(model,processed_input_features,target_output.values,cv=3,scoring='r2')"
   ]
  },
  {
   "cell_type": "markdown",
   "metadata": {},
   "source": [
    "# it seems there are some data points that make probleme when added (last set of cross validation 10). I THINK THEY ARE THE CAUSE OF OVERFITTING\n",
    "# will be checked in tuning"
   ]
  },
  {
   "cell_type": "markdown",
   "metadata": {},
   "source": [
    "# Very promising model, but lets first check feature importance to drop unimportant features"
   ]
  },
  {
   "cell_type": "code",
   "execution_count": 24,
   "metadata": {},
   "outputs": [],
   "source": [
    "# catHotColumns is how oneHotEncoder treats HIGHDEG AND CONTROL in preprocessing\n",
    "catHotColumns =[\"HIGHDEG_Non-degree-granting\",\"HIGHDEG_Certificate_degree\",\"HIGHDEG_Associate_degree\",\"HIGHDEG_Associate_degree\",\"HIGHDEG_Associate_degree\",\"CONTROL_Public\",\"CONTROL_Private_nonprofit\",\"CONTROL_Private for-profit\"]\n",
    "all_features = float_columns.copy()\n",
    "all_features.extend(catHotColumns)# ADD all toghether. this is the structre that gets out from the preprocessing pipline\n",
    "feature_name_importance =zip(all_features,model.feature_importances_)"
   ]
  },
  {
   "cell_type": "code",
   "execution_count": 25,
   "metadata": {},
   "outputs": [
    {
     "data": {
      "text/plain": [
       "array([0.0000000e+00, 0.0000000e+00, 0.0000000e+00, 0.0000000e+00,\n",
       "       0.0000000e+00, 0.0000000e+00, 0.0000000e+00, 0.0000000e+00,\n",
       "       0.0000000e+00, 0.0000000e+00, 0.0000000e+00, 0.0000000e+00,\n",
       "       0.0000000e+00, 0.0000000e+00, 0.0000000e+00, 0.0000000e+00,\n",
       "       3.3204918e-04, 8.8194740e-04, 9.2468178e-04, 1.1405724e-03,\n",
       "       1.2916391e-03, 1.4071261e-03, 1.5275691e-03, 1.5435874e-03,\n",
       "       1.5539941e-03, 1.6695685e-03, 1.7065941e-03, 1.9879332e-03,\n",
       "       2.0022623e-03, 2.1087895e-03, 2.1285913e-03, 2.3418262e-03,\n",
       "       2.4787188e-03, 2.5409288e-03, 2.5635613e-03, 2.9162674e-03,\n",
       "       4.0798658e-03, 4.6591046e-03, 4.9120053e-03, 5.0244210e-03,\n",
       "       5.2714408e-03, 5.5569010e-03, 6.1399858e-03, 6.6271634e-03,\n",
       "       7.4839699e-03, 1.3748974e-02, 1.4765438e-02, 1.5959097e-02,\n",
       "       1.8717211e-02, 2.3000425e-02, 2.3122836e-02, 3.3805005e-02,\n",
       "       5.5303149e-02, 2.2385460e-01, 4.9292025e-01], dtype=float32)"
      ]
     },
     "execution_count": 25,
     "metadata": {},
     "output_type": "execute_result"
    }
   ],
   "source": [
    "x = model.feature_importances_\n",
    "x.sort()\n",
    "x"
   ]
  },
  {
   "cell_type": "code",
   "execution_count": 26,
   "metadata": {},
   "outputs": [
    {
     "data": {
      "text/plain": [
       "[('CONTROL_Private for-profit', 0.49292025),\n",
       " ('SAT_AVG_ALL', 0.2238546),\n",
       " ('PCTPELL', 0.05530315),\n",
       " ('AGE_ENTRY', 0.033805005),\n",
       " ('MN_EARN_WNE_P10', 0.023122836),\n",
       " ('MD_EARN_WNE_P10', 0.023000425),\n",
       " ('UGDS_BLACK', 0.01871721),\n",
       " ('COUNT_NWNE_P10', 0.015959097),\n",
       " ('ADM_RATE_ALL', 0.014765438),\n",
       " ('UGDS_WHITE', 0.013748974),\n",
       " ('COMP_ORIG_YR4_RT', 0.00748397),\n",
       " ('COMP_ORIG_YR2_RT', 0.0066271634),\n",
       " ('PPTUG_EF', 0.0061399858),\n",
       " ('INEXPFTE', 0.005556901),\n",
       " ('SATMTMID', 0.005271441),\n",
       " ('TUITIONFEE_PROG', 0.005024421),\n",
       " ('TUITIONFEE_IN', 0.0049120053),\n",
       " ('COMP_ORIG_YR3_RT', 0.0046591046),\n",
       " ('TUITFTE', 0.0040798658),\n",
       " ('HIGHDEG_Associate_degree', 0.0029162674),\n",
       " ('LOAN_COMP_ORIG_YR3_RT', 0.0025635613),\n",
       " ('UGDS', 0.0025409288),\n",
       " ('TUITIONFEE_OUT', 0.0024787188),\n",
       " ('UGDS_ASIAN', 0.0023418262),\n",
       " ('CONTROL_Private_nonprofit', 0.0021285913),\n",
       " ('COSTT4_P', 0.0021087895),\n",
       " ('AVGFACSAL', 0.0020022623),\n",
       " ('COUNT_WNE_P10', 0.0019879332),\n",
       " ('PCTFLOAN', 0.0017065941),\n",
       " ('UGDS_HISP', 0.0016695685),\n",
       " ('DEATH_YR4_RT', 0.0015539941),\n",
       " ('CONTROL_Public', 0.0015435874),\n",
       " ('UGDS_NHPI', 0.0015275691),\n",
       " ('UGDS_UNKN', 0.0014071261),\n",
       " ('UGDS_NRA', 0.001291639),\n",
       " ('UGDS_2MOR', 0.0011405724),\n",
       " ('COSTT4_A', 0.0009246818),\n",
       " ('ADM_RATE', 0.0008819474),\n",
       " ('UGDS_AIAN', 0.00033204918),\n",
       " ('ACTCMMID', 0.0),\n",
       " ('ACTENMID', 0.0),\n",
       " ('ACTMTMID', 0.0),\n",
       " ('ACTWRMID', 0.0),\n",
       " ('SAT_AVG', 0.0),\n",
       " ('COSTT4_A', 0.0),\n",
       " ('COSTT4_P', 0.0),\n",
       " ('TUITFTE', 0.0),\n",
       " ('INEXPFTE', 0.0),\n",
       " ('AVGFACSAL', 0.0),\n",
       " ('DEATH_YR3_RT', 0.0),\n",
       " ('LOAN_DEATH_YR3_RT', 0.0),\n",
       " ('HIGHDEG_Non-degree-granting', 0.0),\n",
       " ('HIGHDEG_Certificate_degree', 0.0),\n",
       " ('HIGHDEG_Associate_degree', 0.0),\n",
       " ('HIGHDEG_Associate_degree', 0.0)]"
      ]
     },
     "execution_count": 26,
     "metadata": {},
     "output_type": "execute_result"
    }
   ],
   "source": [
    "sorted(feature_name_importance, key=lambda x: x[1],reverse=True)"
   ]
  },
  {
   "cell_type": "code",
   "execution_count": 27,
   "metadata": {},
   "outputs": [
    {
     "data": {
      "image/png": "[encoded data removed]",
      "text/plain": [
       "<Figure size 432x288 with 1 Axes>"
      ]
     },
     "metadata": {
      "needs_background": "light"
     },
     "output_type": "display_data"
    }
   ],
   "source": [
    "feature_importance_df =pd.DataFrame(data=model.feature_importances_,index=all_features,columns=[\"feature_importance\"])\n",
    "ax = feature_importance_df.sort_values(\"feature_importance\",ascending=False).head(20).plot(kind='barh',title='feature_importance')\n",
    "ax.invert_yaxis()"
   ]
  },
  {
   "cell_type": "markdown",
   "metadata": {},
   "source": [
    "### Very interesting results as it is very compliant with our analysis in exploration\n",
    "### SAT_AVG_ALL, PCTPELL, AGEENTRY are highly correlated with target output from exporation\n",
    "### Now all features with 0 contribution will be dropped, \n",
    "### and as expected some 0 contribution features are highly correlated with SAT_AVG_ALL AND PCTPELL (from our exploration)\n",
    "### so the done contribute anything in the tree"
   ]
  },
  {
   "cell_type": "markdown",
   "metadata": {},
   "source": [
    "# Also I will drop some features with low contribution but hard to get in real life\n",
    "# For example,MN_EARN_WNE_P10 is hard to get and also not available for new institutes\n",
    "# Also will some features that will not be available for new institutes like COMP_ORIG_YR4_RT, LOAN_COMP_ORIG_YR3_RT"
   ]
  },
  {
   "cell_type": "code",
   "execution_count": 46,
   "metadata": {},
   "outputs": [],
   "source": [
    "features_to_keep =[\"CONTROL\",\"SAT_AVG_ALL\",\"PCTPELL\",\"AGE_ENTRY\",\"ADM_RATE_ALL\"]\n",
    "cat_features_to_keep = [\"CONTROL\"]\n",
    "float_feature_to_keep = [f for f in features_to_keep if f not in cat_features_to_keep]\n",
    "\n",
    "float_to_keep_pipeline = ColumnTransformer([\n",
    "         (\"privacy_suppressed_hnadler\", PrivacySuppressedHandler(),float_feature_to_keep),        \n",
    "    ])\n",
    "\n",
    "cat_to_keep_pipeline = ColumnTransformer([\n",
    "         (\"hot_encoder\",OneHotEncoder(),cat_features_to_keep)\n",
    "    ])\n",
    "full_to_keep_pipeline = FeatureUnion(\n",
    "    transformer_list=[ \n",
    "        (\"float_pipeline\", float_to_keep_pipeline),\n",
    "        (\"cat_pipeline\", cat_to_keep_pipeline)\n",
    "])\n",
    "\n",
    "processed_input_features_to_keep = full_to_keep_pipeline.fit_transform(scoreCardDF)\n",
    "\n",
    "X_train, X_val, Y_train, Y_val = train_test_split(processed_input_features_to_keep, target_output.values ,test_size=0.2)\n",
    "\n"
   ]
  },
  {
   "cell_type": "code",
   "execution_count": 47,
   "metadata": {},
   "outputs": [],
   "source": [
    "model = xgboost.XGBRegressor(seed=42,objective=\"reg:squarederror\") \n",
    "model.fit(X_train,Y_train)\n",
    "prediction = model.predict(X_val)"
   ]
  },
  {
   "cell_type": "markdown",
   "metadata": {},
   "source": [
    "# Square Error Validation"
   ]
  },
  {
   "cell_type": "code",
   "execution_count": 48,
   "metadata": {},
   "outputs": [
    {
     "data": {
      "text/plain": [
       "0.010627577099461613"
      ]
     },
     "execution_count": 48,
     "metadata": {},
     "output_type": "execute_result"
    }
   ],
   "source": [
    "mean_squared_error(Y_val, prediction)"
   ]
  },
  {
   "cell_type": "markdown",
   "metadata": {},
   "source": [
    "# Square Error TRain"
   ]
  },
  {
   "cell_type": "code",
   "execution_count": 49,
   "metadata": {},
   "outputs": [
    {
     "data": {
      "text/plain": [
       "0.009957741921081991"
      ]
     },
     "execution_count": 49,
     "metadata": {},
     "output_type": "execute_result"
    }
   ],
   "source": [
    "mean_squared_error(Y_train, model.predict(X_train))"
   ]
  },
  {
   "cell_type": "markdown",
   "metadata": {},
   "source": [
    "# R Squared Validation"
   ]
  },
  {
   "cell_type": "code",
   "execution_count": 50,
   "metadata": {},
   "outputs": [
    {
     "data": {
      "text/plain": [
       "0.7286084343573591"
      ]
     },
     "execution_count": 50,
     "metadata": {},
     "output_type": "execute_result"
    }
   ],
   "source": [
    "r2_score(Y_val, prediction)"
   ]
  },
  {
   "cell_type": "markdown",
   "metadata": {},
   "source": [
    "# R Squared Train"
   ]
  },
  {
   "cell_type": "code",
   "execution_count": 51,
   "metadata": {},
   "outputs": [
    {
     "data": {
      "text/plain": [
       "0.7446719194085027"
      ]
     },
     "execution_count": 51,
     "metadata": {},
     "output_type": "execute_result"
    }
   ],
   "source": [
    "r2_score(Y_train, model.predict(X_train))"
   ]
  },
  {
   "cell_type": "markdown",
   "metadata": {},
   "source": [
    "# Cross Validation RMSE 10 folds"
   ]
  },
  {
   "cell_type": "code",
   "execution_count": 52,
   "metadata": {},
   "outputs": [
    {
     "data": {
      "text/plain": [
       "array([-0.11460609, -0.1107476 , -0.10657102, -0.09212738, -0.1096871 ,\n",
       "       -0.10484516, -0.11588826, -0.11313101, -0.10746335, -0.13307107])"
      ]
     },
     "execution_count": 52,
     "metadata": {},
     "output_type": "execute_result"
    }
   ],
   "source": [
    "cross_val_score(model,processed_input_features_to_keep,target_output.values,cv=10,scoring='neg_root_mean_squared_error')"
   ]
  },
  {
   "cell_type": "markdown",
   "metadata": {},
   "source": [
    "# Cross Validation RMSE 3 folds"
   ]
  },
  {
   "cell_type": "code",
   "execution_count": 53,
   "metadata": {},
   "outputs": [
    {
     "data": {
      "text/plain": [
       "array([-0.10796725, -0.10575366, -0.1231289 ])"
      ]
     },
     "execution_count": 53,
     "metadata": {},
     "output_type": "execute_result"
    }
   ],
   "source": [
    "cross_val_score(model,processed_input_features_to_keep,target_output.values,cv=3,scoring='neg_root_mean_squared_error')"
   ]
  },
  {
   "cell_type": "markdown",
   "metadata": {},
   "source": [
    "# Cross Validation R SQUARED 10 folds"
   ]
  },
  {
   "cell_type": "code",
   "execution_count": 54,
   "metadata": {},
   "outputs": [
    {
     "data": {
      "text/plain": [
       "array([0.59842394, 0.63325143, 0.65971595, 0.73980564, 0.70852505,\n",
       "       0.69696578, 0.4483735 , 0.38403425, 0.38689508, 0.19867713])"
      ]
     },
     "execution_count": 54,
     "metadata": {},
     "output_type": "execute_result"
    }
   ],
   "source": [
    "cross_val_score(model,processed_input_features_to_keep,target_output.values,cv=10,scoring='r2')"
   ]
  },
  {
   "cell_type": "markdown",
   "metadata": {},
   "source": [
    "# Cross Validation R SQUARED 3 folds"
   ]
  },
  {
   "cell_type": "code",
   "execution_count": 56,
   "metadata": {},
   "outputs": [
    {
     "data": {
      "text/plain": [
       "array([0.66074121, 0.72264696, 0.28797122])"
      ]
     },
     "execution_count": 56,
     "metadata": {},
     "output_type": "execute_result"
    }
   ],
   "source": [
    "cross_val_score(model,processed_input_features_to_keep,target_output.values,cv=3,scoring='r2')"
   ]
  },
  {
   "cell_type": "markdown",
   "metadata": {},
   "source": [
    "# From Analysis Above, RMSE incresed and r squared decreased, so features are not enough, Lets see what happened"
   ]
  },
  {
   "cell_type": "markdown",
   "metadata": {},
   "source": [
    "# Feature Importance"
   ]
  },
  {
   "cell_type": "code",
   "execution_count": 61,
   "metadata": {},
   "outputs": [],
   "source": [
    "catHotColumns =[\"CONTROL_Public\",\"CONTROL_Private_nonprofit\",\"CONTROL_Private for-profit\"]\n",
    "all_features = float_feature_to_keep.copy()\n",
    "all_features.extend(catHotColumns)"
   ]
  },
  {
   "cell_type": "code",
   "execution_count": 63,
   "metadata": {},
   "outputs": [
    {
     "data": {
      "text/plain": [
       "array([0.00963181, 0.01156934, 0.01313357, 0.02436765, 0.03820696,\n",
       "       0.06763827, 0.8354524 ], dtype=float32)"
      ]
     },
     "execution_count": 63,
     "metadata": {},
     "output_type": "execute_result"
    }
   ],
   "source": [
    "model.x = model.feature_importances_\n",
    "x.sort()\n",
    "x"
   ]
  },
  {
   "cell_type": "code",
   "execution_count": 62,
   "metadata": {},
   "outputs": [
    {
     "data": {
      "image/png": "[encoded data removed]",
      "text/plain": [
       "<Figure size 432x288 with 1 Axes>"
      ]
     },
     "metadata": {
      "needs_background": "light"
     },
     "output_type": "display_data"
    }
   ],
   "source": [
    "feature_importance_df =pd.DataFrame(data=model.feature_importances_,index=all_features,columns=[\"feature_importance\"])\n",
    "ax = feature_importance_df.sort_values(\"feature_importance\",ascending=False).head(20).plot(kind='barh',title='feature_importance')\n",
    "ax.invert_yaxis()"
   ]
  },
  {
   "cell_type": "markdown",
   "metadata": {},
   "source": [
    "# It is now clear that That Control_private_for_profit is responsible for the prediction\n",
    "# Feature selection was not wise"
   ]
  },
  {
   "cell_type": "code",
   "execution_count": 28,
   "metadata": {
    "scrolled": true
   },
   "outputs": [],
   "source": [
    "# from xgboost import plot_tree\n",
    "# from matplotlib.pylab import rcParams\n",
    "\n",
    "# ##set up the parameters\n",
    "# rcParams['figure.figsize'] = 80,50\n",
    "# plot_tree(model)"
   ]
  },
  {
   "cell_type": "code",
   "execution_count": 29,
   "metadata": {},
   "outputs": [],
   "source": [
    "# for i in range(len(all_features)):\n",
    "#     print(\"{} {}\".format(i , all_features[i] ))"
   ]
  },
  {
   "cell_type": "code",
   "execution_count": null,
   "metadata": {},
   "outputs": [],
   "source": []
  }
 ],
 "metadata": {
  "kernelspec": {
   "display_name": "Python 3",
   "language": "python",
   "name": "python3"
  },
  "language_info": {
   "codemirror_mode": {
    "name": "ipython",
    "version": 3
   },
   "file_extension": ".py",
   "mimetype": "text/x-python",
   "name": "python",
   "nbconvert_exporter": "python",
   "pygments_lexer": "ipython3",
   "version": "3.5.4"
  }
 },
 "nbformat": 4,
 "nbformat_minor": 2
}
